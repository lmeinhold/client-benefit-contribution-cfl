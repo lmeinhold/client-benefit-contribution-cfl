{
 "cells": [
  {
   "cell_type": "code",
   "execution_count": 1,
   "id": "initial_id",
   "metadata": {
    "collapsed": true,
    "ExecuteTime": {
     "end_time": "2023-11-16T04:11:05.112428216Z",
     "start_time": "2023-11-16T04:11:03.426832720Z"
    }
   },
   "outputs": [],
   "source": [
    "import numpy as np\n",
    "import pandas as pd\n",
    "\n",
    "import json\n",
    "\n",
    "import plotly.express as px\n",
    "import plotly.graph_objs as go\n",
    "import plotly.io as pio\n",
    "from torch.nn import CrossEntropyLoss\n",
    "\n",
    "from utils.torchutils import get_device\n",
    "\n",
    "pio.templates.default = \"simple_white\"\n",
    "pio.renderers.default = \"png\"\n",
    "\n",
    "from experiments.datasets.imbalancing import split_with_label_distribution_skew\n",
    "from experiments.datasets.cifar import CIFAR10\n",
    "\n",
    "from models.cifar import CNN\n",
    "from experiments.datasets.base import create_dataloader\n",
    "\n",
    "from torch.optim import SGD"
   ]
  },
  {
   "cell_type": "markdown",
   "source": [
    "# Hyperparameters"
   ],
   "metadata": {
    "collapsed": false
   },
   "id": "7186c8e7357583b"
  },
  {
   "cell_type": "code",
   "execution_count": 2,
   "outputs": [],
   "source": [
    "BASEDIR = \"../output\"\n",
    "\n",
    "N_CLIENTS = 200\n",
    "ALPHA_SKEW = 1\n",
    "BATCH_SIZE = 32\n",
    "LR = 2e-3\n",
    "EPOCHS = 5\n",
    "ROUNDS = 50\n",
    "ALPHA_FED = 0.9\n",
    "MODEL = CNN"
   ],
   "metadata": {
    "collapsed": false,
    "ExecuteTime": {
     "end_time": "2023-11-16T04:11:05.152751850Z",
     "start_time": "2023-11-16T04:11:05.152479913Z"
    }
   },
   "id": "23349a130339cd4b"
  },
  {
   "cell_type": "markdown",
   "source": [
    "# Data"
   ],
   "metadata": {
    "collapsed": false
   },
   "id": "99eb11e73aae3e13"
  },
  {
   "cell_type": "code",
   "execution_count": 3,
   "outputs": [
    {
     "name": "stdout",
     "output_type": "stream",
     "text": [
      "Files already downloaded and verified\n"
     ]
    }
   ],
   "source": [
    "dataset = CIFAR10(\"../data\").train_data()\n",
    "client_dataloaders = [create_dataloader(ds, BATCH_SIZE) for ds in\n",
    "                      split_with_label_distribution_skew(dataset, ALPHA_SKEW, N_CLIENTS)]"
   ],
   "metadata": {
    "collapsed": false,
    "ExecuteTime": {
     "end_time": "2023-11-16T04:11:05.774348436Z",
     "start_time": "2023-11-16T04:11:05.152598930Z"
    }
   },
   "id": "38fff2f5db14e8e1"
  },
  {
   "cell_type": "code",
   "execution_count": 4,
   "outputs": [],
   "source": [
    "def create_optimizer(params, lr):\n",
    "    return SGD(params, lr)"
   ],
   "metadata": {
    "collapsed": false,
    "ExecuteTime": {
     "end_time": "2023-11-16T04:11:05.775762654Z",
     "start_time": "2023-11-16T04:11:05.774453355Z"
    }
   },
   "id": "7de0fb00dfb72a77"
  },
  {
   "cell_type": "code",
   "execution_count": 5,
   "outputs": [],
   "source": [
    "from pathlib import Path\n",
    "from utils.metrics_logging import Logger, JsonAdapter\n",
    "\n",
    "\n",
    "def create_logger(algorithm):\n",
    "    logger = Logger(algorithm=algorithm, dataset=\"CIFAR10\", model=\"CNN\", rounds=ROUNDS, epochs=EPOCHS)\n",
    "    logger_adapter = JsonAdapter(Path(\"../output\"), logger.run_id)\n",
    "    logger.attach(logger_adapter)\n",
    "    logger.log_run_data()\n",
    "    return logger"
   ],
   "metadata": {
    "collapsed": false,
    "ExecuteTime": {
     "end_time": "2023-11-16T04:11:05.821383556Z",
     "start_time": "2023-11-16T04:11:05.776720905Z"
    }
   },
   "id": "a5fbc249139798da"
  },
  {
   "cell_type": "markdown",
   "source": [
    "# FedAvg"
   ],
   "metadata": {
    "collapsed": false
   },
   "id": "a201d947c8405c90"
  },
  {
   "cell_type": "code",
   "execution_count": 6,
   "outputs": [
    {
     "name": "stdout",
     "output_type": "stream",
     "text": [
      "Using device 'cuda'\n"
     ]
    },
    {
     "data": {
      "text/plain": "Round:   0%|          | 0/50 [00:00<?, ?it/s]",
      "application/vnd.jupyter.widget-view+json": {
       "version_major": 2,
       "version_minor": 0,
       "model_id": "ef9d4252e587456ab99469519342da08"
      }
     },
     "metadata": {},
     "output_type": "display_data"
    },
    {
     "data": {
      "text/plain": "Clients:   0%|          | 0/180 [00:00<?, ?it/s]",
      "application/vnd.jupyter.widget-view+json": {
       "version_major": 2,
       "version_minor": 0,
       "model_id": "e1e513f5cdf2460fbaa0698ae6d8b64b"
      }
     },
     "metadata": {},
     "output_type": "display_data"
    },
    {
     "data": {
      "text/plain": "Clients:   0%|          | 0/180 [00:00<?, ?it/s]",
      "application/vnd.jupyter.widget-view+json": {
       "version_major": 2,
       "version_minor": 0,
       "model_id": "37e6ae2c7a8e4edb822aed9e0916aee9"
      }
     },
     "metadata": {},
     "output_type": "display_data"
    },
    {
     "data": {
      "text/plain": "Clients:   0%|          | 0/180 [00:00<?, ?it/s]",
      "application/vnd.jupyter.widget-view+json": {
       "version_major": 2,
       "version_minor": 0,
       "model_id": "82ba3c10c1b9439d9c2f925e7595d1a7"
      }
     },
     "metadata": {},
     "output_type": "display_data"
    },
    {
     "data": {
      "text/plain": "Clients:   0%|          | 0/180 [00:00<?, ?it/s]",
      "application/vnd.jupyter.widget-view+json": {
       "version_major": 2,
       "version_minor": 0,
       "model_id": "7870f45feda344d39545c609ebec8cf4"
      }
     },
     "metadata": {},
     "output_type": "display_data"
    },
    {
     "data": {
      "text/plain": "Clients:   0%|          | 0/180 [00:00<?, ?it/s]",
      "application/vnd.jupyter.widget-view+json": {
       "version_major": 2,
       "version_minor": 0,
       "model_id": "94bd5a4b25364de9b1602591e4ec9888"
      }
     },
     "metadata": {},
     "output_type": "display_data"
    },
    {
     "data": {
      "text/plain": "Clients:   0%|          | 0/180 [00:00<?, ?it/s]",
      "application/vnd.jupyter.widget-view+json": {
       "version_major": 2,
       "version_minor": 0,
       "model_id": "c2e2c631cbf7491dbded47a98623e571"
      }
     },
     "metadata": {},
     "output_type": "display_data"
    },
    {
     "data": {
      "text/plain": "Clients:   0%|          | 0/180 [00:00<?, ?it/s]",
      "application/vnd.jupyter.widget-view+json": {
       "version_major": 2,
       "version_minor": 0,
       "model_id": "f48c0c05d41f47df858ec4712fa23983"
      }
     },
     "metadata": {},
     "output_type": "display_data"
    },
    {
     "data": {
      "text/plain": "Clients:   0%|          | 0/180 [00:00<?, ?it/s]",
      "application/vnd.jupyter.widget-view+json": {
       "version_major": 2,
       "version_minor": 0,
       "model_id": "4f7cfb24220641849b590ee26d5c3fa9"
      }
     },
     "metadata": {},
     "output_type": "display_data"
    },
    {
     "data": {
      "text/plain": "Clients:   0%|          | 0/180 [00:00<?, ?it/s]",
      "application/vnd.jupyter.widget-view+json": {
       "version_major": 2,
       "version_minor": 0,
       "model_id": "e68d62e765a1441a8d46653d61a0a6eb"
      }
     },
     "metadata": {},
     "output_type": "display_data"
    },
    {
     "data": {
      "text/plain": "Clients:   0%|          | 0/180 [00:00<?, ?it/s]",
      "application/vnd.jupyter.widget-view+json": {
       "version_major": 2,
       "version_minor": 0,
       "model_id": "1e10007bb9334d3ab48522df6e368ed7"
      }
     },
     "metadata": {},
     "output_type": "display_data"
    },
    {
     "data": {
      "text/plain": "Clients:   0%|          | 0/180 [00:00<?, ?it/s]",
      "application/vnd.jupyter.widget-view+json": {
       "version_major": 2,
       "version_minor": 0,
       "model_id": "ea50d4c0a0e74619b1da1be377b38294"
      }
     },
     "metadata": {},
     "output_type": "display_data"
    },
    {
     "data": {
      "text/plain": "Clients:   0%|          | 0/180 [00:00<?, ?it/s]",
      "application/vnd.jupyter.widget-view+json": {
       "version_major": 2,
       "version_minor": 0,
       "model_id": "72d997afb37149b7bbc79ecd07d33941"
      }
     },
     "metadata": {},
     "output_type": "display_data"
    },
    {
     "data": {
      "text/plain": "Clients:   0%|          | 0/180 [00:00<?, ?it/s]",
      "application/vnd.jupyter.widget-view+json": {
       "version_major": 2,
       "version_minor": 0,
       "model_id": "eadd2fc828fa4e13bcd7b7c67be7911a"
      }
     },
     "metadata": {},
     "output_type": "display_data"
    },
    {
     "data": {
      "text/plain": "Clients:   0%|          | 0/180 [00:00<?, ?it/s]",
      "application/vnd.jupyter.widget-view+json": {
       "version_major": 2,
       "version_minor": 0,
       "model_id": "ac554ff48d6d477d8858834e1f5259bb"
      }
     },
     "metadata": {},
     "output_type": "display_data"
    },
    {
     "data": {
      "text/plain": "Clients:   0%|          | 0/180 [00:00<?, ?it/s]",
      "application/vnd.jupyter.widget-view+json": {
       "version_major": 2,
       "version_minor": 0,
       "model_id": "76c4669fc34b44c8add091dc772b1b09"
      }
     },
     "metadata": {},
     "output_type": "display_data"
    },
    {
     "data": {
      "text/plain": "Clients:   0%|          | 0/180 [00:00<?, ?it/s]",
      "application/vnd.jupyter.widget-view+json": {
       "version_major": 2,
       "version_minor": 0,
       "model_id": "14edecc7e9814894be76b9da2df50c13"
      }
     },
     "metadata": {},
     "output_type": "display_data"
    },
    {
     "data": {
      "text/plain": "Clients:   0%|          | 0/180 [00:00<?, ?it/s]",
      "application/vnd.jupyter.widget-view+json": {
       "version_major": 2,
       "version_minor": 0,
       "model_id": "199eb7de9f314416af04163b19b1dfd3"
      }
     },
     "metadata": {},
     "output_type": "display_data"
    },
    {
     "data": {
      "text/plain": "Clients:   0%|          | 0/180 [00:00<?, ?it/s]",
      "application/vnd.jupyter.widget-view+json": {
       "version_major": 2,
       "version_minor": 0,
       "model_id": "d573e8572eeb45e7a0f88704bfc359b8"
      }
     },
     "metadata": {},
     "output_type": "display_data"
    },
    {
     "data": {
      "text/plain": "Clients:   0%|          | 0/180 [00:00<?, ?it/s]",
      "application/vnd.jupyter.widget-view+json": {
       "version_major": 2,
       "version_minor": 0,
       "model_id": "8d048dbdba734edd873deba4f25245bc"
      }
     },
     "metadata": {},
     "output_type": "display_data"
    },
    {
     "data": {
      "text/plain": "Clients:   0%|          | 0/180 [00:00<?, ?it/s]",
      "application/vnd.jupyter.widget-view+json": {
       "version_major": 2,
       "version_minor": 0,
       "model_id": "4ba6794a1fad4aca9ce1ce5434ad2294"
      }
     },
     "metadata": {},
     "output_type": "display_data"
    },
    {
     "data": {
      "text/plain": "Clients:   0%|          | 0/180 [00:00<?, ?it/s]",
      "application/vnd.jupyter.widget-view+json": {
       "version_major": 2,
       "version_minor": 0,
       "model_id": "e9596360e8d64bc58ad578e0015d8cce"
      }
     },
     "metadata": {},
     "output_type": "display_data"
    },
    {
     "data": {
      "text/plain": "Clients:   0%|          | 0/180 [00:00<?, ?it/s]",
      "application/vnd.jupyter.widget-view+json": {
       "version_major": 2,
       "version_minor": 0,
       "model_id": "3a0e1ad57dc04fbd93b84d3a6a59677f"
      }
     },
     "metadata": {},
     "output_type": "display_data"
    },
    {
     "data": {
      "text/plain": "Clients:   0%|          | 0/180 [00:00<?, ?it/s]",
      "application/vnd.jupyter.widget-view+json": {
       "version_major": 2,
       "version_minor": 0,
       "model_id": "901f32285c2a427c83abd9bf9626b586"
      }
     },
     "metadata": {},
     "output_type": "display_data"
    },
    {
     "data": {
      "text/plain": "Clients:   0%|          | 0/180 [00:00<?, ?it/s]",
      "application/vnd.jupyter.widget-view+json": {
       "version_major": 2,
       "version_minor": 0,
       "model_id": "2eb108f5784a41d7bd0ddb0df38fd30f"
      }
     },
     "metadata": {},
     "output_type": "display_data"
    },
    {
     "data": {
      "text/plain": "Clients:   0%|          | 0/180 [00:00<?, ?it/s]",
      "application/vnd.jupyter.widget-view+json": {
       "version_major": 2,
       "version_minor": 0,
       "model_id": "f25b14c68bb740488efb0ffeb544625d"
      }
     },
     "metadata": {},
     "output_type": "display_data"
    },
    {
     "data": {
      "text/plain": "Clients:   0%|          | 0/180 [00:00<?, ?it/s]",
      "application/vnd.jupyter.widget-view+json": {
       "version_major": 2,
       "version_minor": 0,
       "model_id": "a90f5207ff194fa08ce8270f8e42aca5"
      }
     },
     "metadata": {},
     "output_type": "display_data"
    },
    {
     "data": {
      "text/plain": "Clients:   0%|          | 0/180 [00:00<?, ?it/s]",
      "application/vnd.jupyter.widget-view+json": {
       "version_major": 2,
       "version_minor": 0,
       "model_id": "97a5c696334140d4940eea1c33a3a403"
      }
     },
     "metadata": {},
     "output_type": "display_data"
    },
    {
     "data": {
      "text/plain": "Clients:   0%|          | 0/180 [00:00<?, ?it/s]",
      "application/vnd.jupyter.widget-view+json": {
       "version_major": 2,
       "version_minor": 0,
       "model_id": "867067dc4037478db9dd133b58ee3812"
      }
     },
     "metadata": {},
     "output_type": "display_data"
    },
    {
     "data": {
      "text/plain": "Clients:   0%|          | 0/180 [00:00<?, ?it/s]",
      "application/vnd.jupyter.widget-view+json": {
       "version_major": 2,
       "version_minor": 0,
       "model_id": "1daf8314c2084a1babb7e6278a5a5e8b"
      }
     },
     "metadata": {},
     "output_type": "display_data"
    },
    {
     "data": {
      "text/plain": "Clients:   0%|          | 0/180 [00:00<?, ?it/s]",
      "application/vnd.jupyter.widget-view+json": {
       "version_major": 2,
       "version_minor": 0,
       "model_id": "0940c6e0b6ee4207861b0cffca299500"
      }
     },
     "metadata": {},
     "output_type": "display_data"
    },
    {
     "data": {
      "text/plain": "Clients:   0%|          | 0/180 [00:00<?, ?it/s]",
      "application/vnd.jupyter.widget-view+json": {
       "version_major": 2,
       "version_minor": 0,
       "model_id": "f9bac33786c84c259729f6a59f1d49f3"
      }
     },
     "metadata": {},
     "output_type": "display_data"
    },
    {
     "data": {
      "text/plain": "Clients:   0%|          | 0/180 [00:00<?, ?it/s]",
      "application/vnd.jupyter.widget-view+json": {
       "version_major": 2,
       "version_minor": 0,
       "model_id": "fb804c94a8b34869a6777cfb7e671cc5"
      }
     },
     "metadata": {},
     "output_type": "display_data"
    },
    {
     "data": {
      "text/plain": "Clients:   0%|          | 0/180 [00:00<?, ?it/s]",
      "application/vnd.jupyter.widget-view+json": {
       "version_major": 2,
       "version_minor": 0,
       "model_id": "cfd3f877c0d44ae7a18da81f03bfb1de"
      }
     },
     "metadata": {},
     "output_type": "display_data"
    },
    {
     "data": {
      "text/plain": "Clients:   0%|          | 0/180 [00:00<?, ?it/s]",
      "application/vnd.jupyter.widget-view+json": {
       "version_major": 2,
       "version_minor": 0,
       "model_id": "76176568cfac41058d5a614ae18a84d8"
      }
     },
     "metadata": {},
     "output_type": "display_data"
    },
    {
     "data": {
      "text/plain": "Clients:   0%|          | 0/180 [00:00<?, ?it/s]",
      "application/vnd.jupyter.widget-view+json": {
       "version_major": 2,
       "version_minor": 0,
       "model_id": "b25836ab789e4b33b1c04cbf36723c98"
      }
     },
     "metadata": {},
     "output_type": "display_data"
    },
    {
     "data": {
      "text/plain": "Clients:   0%|          | 0/180 [00:00<?, ?it/s]",
      "application/vnd.jupyter.widget-view+json": {
       "version_major": 2,
       "version_minor": 0,
       "model_id": "fa8f1619738c492daf3f2362008d10c6"
      }
     },
     "metadata": {},
     "output_type": "display_data"
    },
    {
     "data": {
      "text/plain": "Clients:   0%|          | 0/180 [00:00<?, ?it/s]",
      "application/vnd.jupyter.widget-view+json": {
       "version_major": 2,
       "version_minor": 0,
       "model_id": "b1fa76970a6a408fbc629087f6bb96cb"
      }
     },
     "metadata": {},
     "output_type": "display_data"
    },
    {
     "data": {
      "text/plain": "Clients:   0%|          | 0/180 [00:00<?, ?it/s]",
      "application/vnd.jupyter.widget-view+json": {
       "version_major": 2,
       "version_minor": 0,
       "model_id": "37ac88ccec0c412fa40a32572203eb00"
      }
     },
     "metadata": {},
     "output_type": "display_data"
    },
    {
     "data": {
      "text/plain": "Clients:   0%|          | 0/180 [00:00<?, ?it/s]",
      "application/vnd.jupyter.widget-view+json": {
       "version_major": 2,
       "version_minor": 0,
       "model_id": "932a5320b2914abaae4954531035d368"
      }
     },
     "metadata": {},
     "output_type": "display_data"
    },
    {
     "data": {
      "text/plain": "Clients:   0%|          | 0/180 [00:00<?, ?it/s]",
      "application/vnd.jupyter.widget-view+json": {
       "version_major": 2,
       "version_minor": 0,
       "model_id": "0f72c90b1d2d473ea149ae07be78ac55"
      }
     },
     "metadata": {},
     "output_type": "display_data"
    },
    {
     "data": {
      "text/plain": "Clients:   0%|          | 0/180 [00:00<?, ?it/s]",
      "application/vnd.jupyter.widget-view+json": {
       "version_major": 2,
       "version_minor": 0,
       "model_id": "b154437f562941fbb8ab5482f97560a5"
      }
     },
     "metadata": {},
     "output_type": "display_data"
    },
    {
     "data": {
      "text/plain": "Clients:   0%|          | 0/180 [00:00<?, ?it/s]",
      "application/vnd.jupyter.widget-view+json": {
       "version_major": 2,
       "version_minor": 0,
       "model_id": "82b2ac75a34c4986814076d5cc2a9baa"
      }
     },
     "metadata": {},
     "output_type": "display_data"
    },
    {
     "data": {
      "text/plain": "Clients:   0%|          | 0/180 [00:00<?, ?it/s]",
      "application/vnd.jupyter.widget-view+json": {
       "version_major": 2,
       "version_minor": 0,
       "model_id": "756e8f7bc7464cd7bd97628a1692be1d"
      }
     },
     "metadata": {},
     "output_type": "display_data"
    },
    {
     "data": {
      "text/plain": "Clients:   0%|          | 0/180 [00:00<?, ?it/s]",
      "application/vnd.jupyter.widget-view+json": {
       "version_major": 2,
       "version_minor": 0,
       "model_id": "7cd01ac6eed942d8a6171269b19a4e30"
      }
     },
     "metadata": {},
     "output_type": "display_data"
    },
    {
     "data": {
      "text/plain": "Clients:   0%|          | 0/180 [00:00<?, ?it/s]",
      "application/vnd.jupyter.widget-view+json": {
       "version_major": 2,
       "version_minor": 0,
       "model_id": "beb0380901a6448d85de43703d2e7de5"
      }
     },
     "metadata": {},
     "output_type": "display_data"
    },
    {
     "data": {
      "text/plain": "Clients:   0%|          | 0/180 [00:00<?, ?it/s]",
      "application/vnd.jupyter.widget-view+json": {
       "version_major": 2,
       "version_minor": 0,
       "model_id": "73e026e230c34d478dc9dcbef323efc7"
      }
     },
     "metadata": {},
     "output_type": "display_data"
    },
    {
     "data": {
      "text/plain": "Clients:   0%|          | 0/180 [00:00<?, ?it/s]",
      "application/vnd.jupyter.widget-view+json": {
       "version_major": 2,
       "version_minor": 0,
       "model_id": "a5946169c48b428286d7182b72c4d8b1"
      }
     },
     "metadata": {},
     "output_type": "display_data"
    },
    {
     "data": {
      "text/plain": "Clients:   0%|          | 0/180 [00:00<?, ?it/s]",
      "application/vnd.jupyter.widget-view+json": {
       "version_major": 2,
       "version_minor": 0,
       "model_id": "980bd5f52c2245f7941886abf5b5794a"
      }
     },
     "metadata": {},
     "output_type": "display_data"
    },
    {
     "data": {
      "text/plain": "Clients:   0%|          | 0/180 [00:00<?, ?it/s]",
      "application/vnd.jupyter.widget-view+json": {
       "version_major": 2,
       "version_minor": 0,
       "model_id": "7f396ec7c3a046d3a1ae6608e0411269"
      }
     },
     "metadata": {},
     "output_type": "display_data"
    },
    {
     "data": {
      "text/plain": "Clients:   0%|          | 0/180 [00:00<?, ?it/s]",
      "application/vnd.jupyter.widget-view+json": {
       "version_major": 2,
       "version_minor": 0,
       "model_id": "de7c82a202ec45e4ad3f65517a7cc472"
      }
     },
     "metadata": {},
     "output_type": "display_data"
    }
   ],
   "source": [
    "from federated_learning.fedavg import FedAvg\n",
    "\n",
    "logger = create_logger(\"FedAvg\")\n",
    "\n",
    "ID_FEDAVG = logger.run_id\n",
    "\n",
    "fedavg = FedAvg(\n",
    "        client_dataloaders,\n",
    "        model_fn=lambda: MODEL(),\n",
    "        optimizer_fn=lambda p: create_optimizer(p, LR),\n",
    "        loss_fn=CrossEntropyLoss(),\n",
    "        rounds=ROUNDS,\n",
    "        epochs=EPOCHS,\n",
    "        alpha=ALPHA_FED,\n",
    "        logger=logger,\n",
    "        device=get_device(),\n",
    "        test_data=client_dataloaders\n",
    "    )\n",
    "\n",
    "fedavg.fit()"
   ],
   "metadata": {
    "collapsed": false,
    "ExecuteTime": {
     "end_time": "2023-11-16T04:45:17.933448969Z",
     "start_time": "2023-11-16T04:11:05.817529531Z"
    }
   },
   "id": "c7ee16990fe115e0"
  },
  {
   "cell_type": "code",
   "execution_count": 7,
   "outputs": [],
   "source": [
    "del fedavg"
   ],
   "metadata": {
    "collapsed": false,
    "ExecuteTime": {
     "end_time": "2023-11-16T04:45:17.969408063Z",
     "start_time": "2023-11-16T04:45:17.934640674Z"
    }
   },
   "id": "bb2fe3f7e91e1d"
  },
  {
   "cell_type": "markdown",
   "source": [
    "# FedProx"
   ],
   "metadata": {
    "collapsed": false
   },
   "id": "aee61c2059f22304"
  },
  {
   "cell_type": "code",
   "execution_count": 8,
   "outputs": [
    {
     "name": "stdout",
     "output_type": "stream",
     "text": [
      "Using device 'cuda'\n"
     ]
    },
    {
     "data": {
      "text/plain": "Round:   0%|          | 0/50 [00:00<?, ?it/s]",
      "application/vnd.jupyter.widget-view+json": {
       "version_major": 2,
       "version_minor": 0,
       "model_id": "be948d96591849cf892a0f46c80899a9"
      }
     },
     "metadata": {},
     "output_type": "display_data"
    },
    {
     "data": {
      "text/plain": "Clients:   0%|          | 0/180 [00:00<?, ?it/s]",
      "application/vnd.jupyter.widget-view+json": {
       "version_major": 2,
       "version_minor": 0,
       "model_id": "8c61cba6a0cb402d91d9b9cda2b07b2d"
      }
     },
     "metadata": {},
     "output_type": "display_data"
    },
    {
     "data": {
      "text/plain": "Clients:   0%|          | 0/180 [00:00<?, ?it/s]",
      "application/vnd.jupyter.widget-view+json": {
       "version_major": 2,
       "version_minor": 0,
       "model_id": "874552e7439c445e91a901b24b185897"
      }
     },
     "metadata": {},
     "output_type": "display_data"
    },
    {
     "data": {
      "text/plain": "Clients:   0%|          | 0/180 [00:00<?, ?it/s]",
      "application/vnd.jupyter.widget-view+json": {
       "version_major": 2,
       "version_minor": 0,
       "model_id": "80949c4d4e784274897c1e1b987814f2"
      }
     },
     "metadata": {},
     "output_type": "display_data"
    },
    {
     "data": {
      "text/plain": "Clients:   0%|          | 0/180 [00:00<?, ?it/s]",
      "application/vnd.jupyter.widget-view+json": {
       "version_major": 2,
       "version_minor": 0,
       "model_id": "478ccb0e66fa4da38a256515cd82cf9a"
      }
     },
     "metadata": {},
     "output_type": "display_data"
    },
    {
     "data": {
      "text/plain": "Clients:   0%|          | 0/180 [00:00<?, ?it/s]",
      "application/vnd.jupyter.widget-view+json": {
       "version_major": 2,
       "version_minor": 0,
       "model_id": "433c5f0d5aa541a3b18f4d965a335d7f"
      }
     },
     "metadata": {},
     "output_type": "display_data"
    },
    {
     "data": {
      "text/plain": "Clients:   0%|          | 0/180 [00:00<?, ?it/s]",
      "application/vnd.jupyter.widget-view+json": {
       "version_major": 2,
       "version_minor": 0,
       "model_id": "c77059468f4248eb83d94521c8283d1a"
      }
     },
     "metadata": {},
     "output_type": "display_data"
    },
    {
     "data": {
      "text/plain": "Clients:   0%|          | 0/180 [00:00<?, ?it/s]",
      "application/vnd.jupyter.widget-view+json": {
       "version_major": 2,
       "version_minor": 0,
       "model_id": "6ace151377d54f409155ea0e4515fcbb"
      }
     },
     "metadata": {},
     "output_type": "display_data"
    },
    {
     "data": {
      "text/plain": "Clients:   0%|          | 0/180 [00:00<?, ?it/s]",
      "application/vnd.jupyter.widget-view+json": {
       "version_major": 2,
       "version_minor": 0,
       "model_id": "27cf626ad1714e3d8469378f72c2fa8c"
      }
     },
     "metadata": {},
     "output_type": "display_data"
    },
    {
     "data": {
      "text/plain": "Clients:   0%|          | 0/180 [00:00<?, ?it/s]",
      "application/vnd.jupyter.widget-view+json": {
       "version_major": 2,
       "version_minor": 0,
       "model_id": "c041b6d656f4438b819d72908c427885"
      }
     },
     "metadata": {},
     "output_type": "display_data"
    },
    {
     "data": {
      "text/plain": "Clients:   0%|          | 0/180 [00:00<?, ?it/s]",
      "application/vnd.jupyter.widget-view+json": {
       "version_major": 2,
       "version_minor": 0,
       "model_id": "8df5378d665347bc8a5a10c4deefacb7"
      }
     },
     "metadata": {},
     "output_type": "display_data"
    },
    {
     "data": {
      "text/plain": "Clients:   0%|          | 0/180 [00:00<?, ?it/s]",
      "application/vnd.jupyter.widget-view+json": {
       "version_major": 2,
       "version_minor": 0,
       "model_id": "2f201bd09cc442b2ad1a0d5e02251b10"
      }
     },
     "metadata": {},
     "output_type": "display_data"
    },
    {
     "data": {
      "text/plain": "Clients:   0%|          | 0/180 [00:00<?, ?it/s]",
      "application/vnd.jupyter.widget-view+json": {
       "version_major": 2,
       "version_minor": 0,
       "model_id": "77efaf6aad18496ba9af9f3f54d7e094"
      }
     },
     "metadata": {},
     "output_type": "display_data"
    },
    {
     "data": {
      "text/plain": "Clients:   0%|          | 0/180 [00:00<?, ?it/s]",
      "application/vnd.jupyter.widget-view+json": {
       "version_major": 2,
       "version_minor": 0,
       "model_id": "1d01149150cf45d59545138ac0b259f4"
      }
     },
     "metadata": {},
     "output_type": "display_data"
    },
    {
     "data": {
      "text/plain": "Clients:   0%|          | 0/180 [00:00<?, ?it/s]",
      "application/vnd.jupyter.widget-view+json": {
       "version_major": 2,
       "version_minor": 0,
       "model_id": "00ec47df0932492a87ce48008562655e"
      }
     },
     "metadata": {},
     "output_type": "display_data"
    },
    {
     "data": {
      "text/plain": "Clients:   0%|          | 0/180 [00:00<?, ?it/s]",
      "application/vnd.jupyter.widget-view+json": {
       "version_major": 2,
       "version_minor": 0,
       "model_id": "fdf40aea6c5c445ab8735f4964b3ee67"
      }
     },
     "metadata": {},
     "output_type": "display_data"
    },
    {
     "data": {
      "text/plain": "Clients:   0%|          | 0/180 [00:00<?, ?it/s]",
      "application/vnd.jupyter.widget-view+json": {
       "version_major": 2,
       "version_minor": 0,
       "model_id": "2a0c1e386ec3438fb921c96069fbb286"
      }
     },
     "metadata": {},
     "output_type": "display_data"
    },
    {
     "data": {
      "text/plain": "Clients:   0%|          | 0/180 [00:00<?, ?it/s]",
      "application/vnd.jupyter.widget-view+json": {
       "version_major": 2,
       "version_minor": 0,
       "model_id": "854ff7c77ebe41068397a6bfb47a2ca8"
      }
     },
     "metadata": {},
     "output_type": "display_data"
    },
    {
     "data": {
      "text/plain": "Clients:   0%|          | 0/180 [00:00<?, ?it/s]",
      "application/vnd.jupyter.widget-view+json": {
       "version_major": 2,
       "version_minor": 0,
       "model_id": "a306096451004e21bafb442fc02d3afa"
      }
     },
     "metadata": {},
     "output_type": "display_data"
    },
    {
     "data": {
      "text/plain": "Clients:   0%|          | 0/180 [00:00<?, ?it/s]",
      "application/vnd.jupyter.widget-view+json": {
       "version_major": 2,
       "version_minor": 0,
       "model_id": "7e9061e7389d4c83bff122bd03fd13ac"
      }
     },
     "metadata": {},
     "output_type": "display_data"
    },
    {
     "data": {
      "text/plain": "Clients:   0%|          | 0/180 [00:00<?, ?it/s]",
      "application/vnd.jupyter.widget-view+json": {
       "version_major": 2,
       "version_minor": 0,
       "model_id": "11326a9a78774d1398f612c1e151bab9"
      }
     },
     "metadata": {},
     "output_type": "display_data"
    },
    {
     "data": {
      "text/plain": "Clients:   0%|          | 0/180 [00:00<?, ?it/s]",
      "application/vnd.jupyter.widget-view+json": {
       "version_major": 2,
       "version_minor": 0,
       "model_id": "d5cfc54444214c9081d1917830b4bc31"
      }
     },
     "metadata": {},
     "output_type": "display_data"
    },
    {
     "data": {
      "text/plain": "Clients:   0%|          | 0/180 [00:00<?, ?it/s]",
      "application/vnd.jupyter.widget-view+json": {
       "version_major": 2,
       "version_minor": 0,
       "model_id": "1304cf1c803e47ab88a8e7a64a3ce6c7"
      }
     },
     "metadata": {},
     "output_type": "display_data"
    },
    {
     "data": {
      "text/plain": "Clients:   0%|          | 0/180 [00:00<?, ?it/s]",
      "application/vnd.jupyter.widget-view+json": {
       "version_major": 2,
       "version_minor": 0,
       "model_id": "5756b1ea2ab24e57b000b6046f072727"
      }
     },
     "metadata": {},
     "output_type": "display_data"
    },
    {
     "data": {
      "text/plain": "Clients:   0%|          | 0/180 [00:00<?, ?it/s]",
      "application/vnd.jupyter.widget-view+json": {
       "version_major": 2,
       "version_minor": 0,
       "model_id": "804bf2ca6dcf496680ecc5aab2737407"
      }
     },
     "metadata": {},
     "output_type": "display_data"
    },
    {
     "data": {
      "text/plain": "Clients:   0%|          | 0/180 [00:00<?, ?it/s]",
      "application/vnd.jupyter.widget-view+json": {
       "version_major": 2,
       "version_minor": 0,
       "model_id": "738b237f316b4c79b04be4a08937579a"
      }
     },
     "metadata": {},
     "output_type": "display_data"
    },
    {
     "data": {
      "text/plain": "Clients:   0%|          | 0/180 [00:00<?, ?it/s]",
      "application/vnd.jupyter.widget-view+json": {
       "version_major": 2,
       "version_minor": 0,
       "model_id": "5ee2cf220d7645f593ec83b770071efa"
      }
     },
     "metadata": {},
     "output_type": "display_data"
    },
    {
     "data": {
      "text/plain": "Clients:   0%|          | 0/180 [00:00<?, ?it/s]",
      "application/vnd.jupyter.widget-view+json": {
       "version_major": 2,
       "version_minor": 0,
       "model_id": "a3180aefef424dc7b5ac5a4d5b795ebb"
      }
     },
     "metadata": {},
     "output_type": "display_data"
    },
    {
     "data": {
      "text/plain": "Clients:   0%|          | 0/180 [00:00<?, ?it/s]",
      "application/vnd.jupyter.widget-view+json": {
       "version_major": 2,
       "version_minor": 0,
       "model_id": "85a31072a8dc43078cf9456f064c5cce"
      }
     },
     "metadata": {},
     "output_type": "display_data"
    },
    {
     "data": {
      "text/plain": "Clients:   0%|          | 0/180 [00:00<?, ?it/s]",
      "application/vnd.jupyter.widget-view+json": {
       "version_major": 2,
       "version_minor": 0,
       "model_id": "0fcc72c153cc4af68f1f0446416ff5ad"
      }
     },
     "metadata": {},
     "output_type": "display_data"
    },
    {
     "data": {
      "text/plain": "Clients:   0%|          | 0/180 [00:00<?, ?it/s]",
      "application/vnd.jupyter.widget-view+json": {
       "version_major": 2,
       "version_minor": 0,
       "model_id": "8368ab67ad09409d8f0f563eb4406433"
      }
     },
     "metadata": {},
     "output_type": "display_data"
    },
    {
     "data": {
      "text/plain": "Clients:   0%|          | 0/180 [00:00<?, ?it/s]",
      "application/vnd.jupyter.widget-view+json": {
       "version_major": 2,
       "version_minor": 0,
       "model_id": "faf0f3120ffe4817b0290db73d1e40cd"
      }
     },
     "metadata": {},
     "output_type": "display_data"
    },
    {
     "data": {
      "text/plain": "Clients:   0%|          | 0/180 [00:00<?, ?it/s]",
      "application/vnd.jupyter.widget-view+json": {
       "version_major": 2,
       "version_minor": 0,
       "model_id": "2dd1728f54a343b69aa60e298eeabe24"
      }
     },
     "metadata": {},
     "output_type": "display_data"
    },
    {
     "data": {
      "text/plain": "Clients:   0%|          | 0/180 [00:00<?, ?it/s]",
      "application/vnd.jupyter.widget-view+json": {
       "version_major": 2,
       "version_minor": 0,
       "model_id": "8fb76c8b78754a729fe09b3a6f722f7e"
      }
     },
     "metadata": {},
     "output_type": "display_data"
    },
    {
     "data": {
      "text/plain": "Clients:   0%|          | 0/180 [00:00<?, ?it/s]",
      "application/vnd.jupyter.widget-view+json": {
       "version_major": 2,
       "version_minor": 0,
       "model_id": "787d97536ee7422fa39407e3f7fbe709"
      }
     },
     "metadata": {},
     "output_type": "display_data"
    },
    {
     "data": {
      "text/plain": "Clients:   0%|          | 0/180 [00:00<?, ?it/s]",
      "application/vnd.jupyter.widget-view+json": {
       "version_major": 2,
       "version_minor": 0,
       "model_id": "ae74f90d0a734168845c31110983fd59"
      }
     },
     "metadata": {},
     "output_type": "display_data"
    },
    {
     "data": {
      "text/plain": "Clients:   0%|          | 0/180 [00:00<?, ?it/s]",
      "application/vnd.jupyter.widget-view+json": {
       "version_major": 2,
       "version_minor": 0,
       "model_id": "69cefa0029df45dfaa28d6a793e95fed"
      }
     },
     "metadata": {},
     "output_type": "display_data"
    },
    {
     "data": {
      "text/plain": "Clients:   0%|          | 0/180 [00:00<?, ?it/s]",
      "application/vnd.jupyter.widget-view+json": {
       "version_major": 2,
       "version_minor": 0,
       "model_id": "bb5a479c9da74e72ba8f4f7d5fb6d36b"
      }
     },
     "metadata": {},
     "output_type": "display_data"
    },
    {
     "data": {
      "text/plain": "Clients:   0%|          | 0/180 [00:00<?, ?it/s]",
      "application/vnd.jupyter.widget-view+json": {
       "version_major": 2,
       "version_minor": 0,
       "model_id": "a253c09f84594f9492be041423fcf458"
      }
     },
     "metadata": {},
     "output_type": "display_data"
    },
    {
     "data": {
      "text/plain": "Clients:   0%|          | 0/180 [00:00<?, ?it/s]",
      "application/vnd.jupyter.widget-view+json": {
       "version_major": 2,
       "version_minor": 0,
       "model_id": "c517207f59554c578ad026a4357089e8"
      }
     },
     "metadata": {},
     "output_type": "display_data"
    },
    {
     "data": {
      "text/plain": "Clients:   0%|          | 0/180 [00:00<?, ?it/s]",
      "application/vnd.jupyter.widget-view+json": {
       "version_major": 2,
       "version_minor": 0,
       "model_id": "419927b47ccf4fbe82691a50627594d7"
      }
     },
     "metadata": {},
     "output_type": "display_data"
    },
    {
     "data": {
      "text/plain": "Clients:   0%|          | 0/180 [00:00<?, ?it/s]",
      "application/vnd.jupyter.widget-view+json": {
       "version_major": 2,
       "version_minor": 0,
       "model_id": "a44f73d72d3d4312a6b8a332e734ff77"
      }
     },
     "metadata": {},
     "output_type": "display_data"
    },
    {
     "data": {
      "text/plain": "Clients:   0%|          | 0/180 [00:00<?, ?it/s]",
      "application/vnd.jupyter.widget-view+json": {
       "version_major": 2,
       "version_minor": 0,
       "model_id": "990e3588fca54956a69ca3b3282ac57c"
      }
     },
     "metadata": {},
     "output_type": "display_data"
    },
    {
     "data": {
      "text/plain": "Clients:   0%|          | 0/180 [00:00<?, ?it/s]",
      "application/vnd.jupyter.widget-view+json": {
       "version_major": 2,
       "version_minor": 0,
       "model_id": "d93877f53d4d4b2b92a6732924bb1a20"
      }
     },
     "metadata": {},
     "output_type": "display_data"
    },
    {
     "data": {
      "text/plain": "Clients:   0%|          | 0/180 [00:00<?, ?it/s]",
      "application/vnd.jupyter.widget-view+json": {
       "version_major": 2,
       "version_minor": 0,
       "model_id": "03d30c3f31b24d9282ae9fd9c26bec70"
      }
     },
     "metadata": {},
     "output_type": "display_data"
    },
    {
     "data": {
      "text/plain": "Clients:   0%|          | 0/180 [00:00<?, ?it/s]",
      "application/vnd.jupyter.widget-view+json": {
       "version_major": 2,
       "version_minor": 0,
       "model_id": "2ca5d14353ed44be82df0d23920d587b"
      }
     },
     "metadata": {},
     "output_type": "display_data"
    },
    {
     "data": {
      "text/plain": "Clients:   0%|          | 0/180 [00:00<?, ?it/s]",
      "application/vnd.jupyter.widget-view+json": {
       "version_major": 2,
       "version_minor": 0,
       "model_id": "d623e1a51f5b44cf83a820559710a1fc"
      }
     },
     "metadata": {},
     "output_type": "display_data"
    },
    {
     "data": {
      "text/plain": "Clients:   0%|          | 0/180 [00:00<?, ?it/s]",
      "application/vnd.jupyter.widget-view+json": {
       "version_major": 2,
       "version_minor": 0,
       "model_id": "ab243e646f1e423d99cefdd5a743757f"
      }
     },
     "metadata": {},
     "output_type": "display_data"
    },
    {
     "data": {
      "text/plain": "Clients:   0%|          | 0/180 [00:00<?, ?it/s]",
      "application/vnd.jupyter.widget-view+json": {
       "version_major": 2,
       "version_minor": 0,
       "model_id": "74eb5bb611534f26b73b589d59ad464f"
      }
     },
     "metadata": {},
     "output_type": "display_data"
    },
    {
     "data": {
      "text/plain": "Clients:   0%|          | 0/180 [00:00<?, ?it/s]",
      "application/vnd.jupyter.widget-view+json": {
       "version_major": 2,
       "version_minor": 0,
       "model_id": "ca190b1057144afb983846a61657d6b2"
      }
     },
     "metadata": {},
     "output_type": "display_data"
    },
    {
     "data": {
      "text/plain": "Clients:   0%|          | 0/180 [00:00<?, ?it/s]",
      "application/vnd.jupyter.widget-view+json": {
       "version_major": 2,
       "version_minor": 0,
       "model_id": "0cdb6f9aac1e4e41945319b711605406"
      }
     },
     "metadata": {},
     "output_type": "display_data"
    }
   ],
   "source": [
    "from federated_learning.fedprox import FedProx\n",
    "\n",
    "logger = create_logger(\"FedProx\")\n",
    "\n",
    "ID_FEDPROX = logger.run_id\n",
    "\n",
    "MU = 1\n",
    "\n",
    "fedprox = FedProx(\n",
    "        client_dataloaders,\n",
    "        model_fn=lambda: MODEL(),\n",
    "        optimizer_fn=lambda p: create_optimizer(p, LR),\n",
    "        loss_fn=CrossEntropyLoss(),\n",
    "        rounds=ROUNDS,\n",
    "        epochs=EPOCHS,\n",
    "        alpha=ALPHA_FED,\n",
    "        logger=logger,\n",
    "        device=get_device(),\n",
    "        test_data=client_dataloaders\n",
    "    )\n",
    "\n",
    "fedprox.fit()"
   ],
   "metadata": {
    "collapsed": false,
    "ExecuteTime": {
     "end_time": "2023-11-16T05:23:14.281169779Z",
     "start_time": "2023-11-16T04:45:17.956904335Z"
    }
   },
   "id": "d80929b8441f68b5"
  },
  {
   "cell_type": "code",
   "execution_count": 9,
   "outputs": [],
   "source": [
    "del fedprox"
   ],
   "metadata": {
    "collapsed": false,
    "ExecuteTime": {
     "end_time": "2023-11-16T05:23:14.287595958Z",
     "start_time": "2023-11-16T05:23:14.281734894Z"
    }
   },
   "id": "ca57b3905082081c"
  },
  {
   "cell_type": "markdown",
   "source": [
    "# IFCA"
   ],
   "metadata": {
    "collapsed": false
   },
   "id": "546d71e2b9b03c50"
  },
  {
   "cell_type": "code",
   "execution_count": 21,
   "outputs": [
    {
     "name": "stdout",
     "output_type": "stream",
     "text": [
      "Using device 'cuda'\n"
     ]
    },
    {
     "data": {
      "text/plain": "  0%|          | 0/180 [00:00<?, ?it/s]",
      "application/vnd.jupyter.widget-view+json": {
       "version_major": 2,
       "version_minor": 0,
       "model_id": "eae02504ee34460da5a3ef63a9bf9e35"
      }
     },
     "metadata": {},
     "output_type": "display_data"
    },
    {
     "data": {
      "text/plain": "  0%|          | 0/180 [00:00<?, ?it/s]",
      "application/vnd.jupyter.widget-view+json": {
       "version_major": 2,
       "version_minor": 0,
       "model_id": "2ef61c29f59645539e3341eb92fd00af"
      }
     },
     "metadata": {},
     "output_type": "display_data"
    },
    {
     "data": {
      "text/plain": "  0%|          | 0/180 [00:00<?, ?it/s]",
      "application/vnd.jupyter.widget-view+json": {
       "version_major": 2,
       "version_minor": 0,
       "model_id": "f605e1d174e342eaafa5596f4631048f"
      }
     },
     "metadata": {},
     "output_type": "display_data"
    },
    {
     "data": {
      "text/plain": "  0%|          | 0/180 [00:00<?, ?it/s]",
      "application/vnd.jupyter.widget-view+json": {
       "version_major": 2,
       "version_minor": 0,
       "model_id": "11d14172891441b7b833c8093293951d"
      }
     },
     "metadata": {},
     "output_type": "display_data"
    },
    {
     "data": {
      "text/plain": "  0%|          | 0/180 [00:00<?, ?it/s]",
      "application/vnd.jupyter.widget-view+json": {
       "version_major": 2,
       "version_minor": 0,
       "model_id": "1b76e05edd044b9f9609bce227278146"
      }
     },
     "metadata": {},
     "output_type": "display_data"
    },
    {
     "data": {
      "text/plain": "  0%|          | 0/180 [00:00<?, ?it/s]",
      "application/vnd.jupyter.widget-view+json": {
       "version_major": 2,
       "version_minor": 0,
       "model_id": "aba11c7c8e6e41eb9cbf10faa768905b"
      }
     },
     "metadata": {},
     "output_type": "display_data"
    },
    {
     "data": {
      "text/plain": "  0%|          | 0/180 [00:00<?, ?it/s]",
      "application/vnd.jupyter.widget-view+json": {
       "version_major": 2,
       "version_minor": 0,
       "model_id": "c66ff14babc142c0848f9413d3a7aa2f"
      }
     },
     "metadata": {},
     "output_type": "display_data"
    },
    {
     "data": {
      "text/plain": "  0%|          | 0/180 [00:00<?, ?it/s]",
      "application/vnd.jupyter.widget-view+json": {
       "version_major": 2,
       "version_minor": 0,
       "model_id": "f8db38b1eda84fc0b71a9b5fa616bdef"
      }
     },
     "metadata": {},
     "output_type": "display_data"
    },
    {
     "data": {
      "text/plain": "  0%|          | 0/180 [00:00<?, ?it/s]",
      "application/vnd.jupyter.widget-view+json": {
       "version_major": 2,
       "version_minor": 0,
       "model_id": "b27a49d630a943029527f19e305a1571"
      }
     },
     "metadata": {},
     "output_type": "display_data"
    },
    {
     "data": {
      "text/plain": "  0%|          | 0/180 [00:00<?, ?it/s]",
      "application/vnd.jupyter.widget-view+json": {
       "version_major": 2,
       "version_minor": 0,
       "model_id": "26d5175876ee46d49950abd529feb148"
      }
     },
     "metadata": {},
     "output_type": "display_data"
    },
    {
     "data": {
      "text/plain": "  0%|          | 0/180 [00:00<?, ?it/s]",
      "application/vnd.jupyter.widget-view+json": {
       "version_major": 2,
       "version_minor": 0,
       "model_id": "e70fa0a972d64aa5a28b36fc058cc3cd"
      }
     },
     "metadata": {},
     "output_type": "display_data"
    },
    {
     "data": {
      "text/plain": "  0%|          | 0/180 [00:00<?, ?it/s]",
      "application/vnd.jupyter.widget-view+json": {
       "version_major": 2,
       "version_minor": 0,
       "model_id": "7295fb9f964e4fa1a37effc9485dd1b0"
      }
     },
     "metadata": {},
     "output_type": "display_data"
    },
    {
     "data": {
      "text/plain": "  0%|          | 0/180 [00:00<?, ?it/s]",
      "application/vnd.jupyter.widget-view+json": {
       "version_major": 2,
       "version_minor": 0,
       "model_id": "fb63e66fb0cd4d5a94c88fadabbf036f"
      }
     },
     "metadata": {},
     "output_type": "display_data"
    },
    {
     "data": {
      "text/plain": "  0%|          | 0/180 [00:00<?, ?it/s]",
      "application/vnd.jupyter.widget-view+json": {
       "version_major": 2,
       "version_minor": 0,
       "model_id": "20a491d9403e48e29848e125261a4fc1"
      }
     },
     "metadata": {},
     "output_type": "display_data"
    },
    {
     "data": {
      "text/plain": "  0%|          | 0/180 [00:00<?, ?it/s]",
      "application/vnd.jupyter.widget-view+json": {
       "version_major": 2,
       "version_minor": 0,
       "model_id": "70a2a8efb97f4f06bc943a1d09bd3785"
      }
     },
     "metadata": {},
     "output_type": "display_data"
    },
    {
     "data": {
      "text/plain": "  0%|          | 0/180 [00:00<?, ?it/s]",
      "application/vnd.jupyter.widget-view+json": {
       "version_major": 2,
       "version_minor": 0,
       "model_id": "bf6da3ad2c6d464d940082c840f288b7"
      }
     },
     "metadata": {},
     "output_type": "display_data"
    },
    {
     "data": {
      "text/plain": "  0%|          | 0/180 [00:00<?, ?it/s]",
      "application/vnd.jupyter.widget-view+json": {
       "version_major": 2,
       "version_minor": 0,
       "model_id": "9638d4c5e67e4da3928832cd4ba54cc2"
      }
     },
     "metadata": {},
     "output_type": "display_data"
    },
    {
     "data": {
      "text/plain": "  0%|          | 0/180 [00:00<?, ?it/s]",
      "application/vnd.jupyter.widget-view+json": {
       "version_major": 2,
       "version_minor": 0,
       "model_id": "3d04df689a53468b8ac897ae92bb0daf"
      }
     },
     "metadata": {},
     "output_type": "display_data"
    },
    {
     "data": {
      "text/plain": "  0%|          | 0/180 [00:00<?, ?it/s]",
      "application/vnd.jupyter.widget-view+json": {
       "version_major": 2,
       "version_minor": 0,
       "model_id": "17845e33d80c49ff98a52eff71baa6c5"
      }
     },
     "metadata": {},
     "output_type": "display_data"
    },
    {
     "data": {
      "text/plain": "  0%|          | 0/180 [00:00<?, ?it/s]",
      "application/vnd.jupyter.widget-view+json": {
       "version_major": 2,
       "version_minor": 0,
       "model_id": "9f502a9160324d02b47d107d71de2e16"
      }
     },
     "metadata": {},
     "output_type": "display_data"
    },
    {
     "data": {
      "text/plain": "  0%|          | 0/180 [00:00<?, ?it/s]",
      "application/vnd.jupyter.widget-view+json": {
       "version_major": 2,
       "version_minor": 0,
       "model_id": "cf3479b7fe50432e99fc85ee31d7275e"
      }
     },
     "metadata": {},
     "output_type": "display_data"
    },
    {
     "data": {
      "text/plain": "  0%|          | 0/180 [00:00<?, ?it/s]",
      "application/vnd.jupyter.widget-view+json": {
       "version_major": 2,
       "version_minor": 0,
       "model_id": "819fdea2986a48ec8c0d8d6d5ba76651"
      }
     },
     "metadata": {},
     "output_type": "display_data"
    },
    {
     "data": {
      "text/plain": "  0%|          | 0/180 [00:00<?, ?it/s]",
      "application/vnd.jupyter.widget-view+json": {
       "version_major": 2,
       "version_minor": 0,
       "model_id": "3fc10ecc4a7d47eba688c8a55d2ab24a"
      }
     },
     "metadata": {},
     "output_type": "display_data"
    },
    {
     "data": {
      "text/plain": "  0%|          | 0/180 [00:00<?, ?it/s]",
      "application/vnd.jupyter.widget-view+json": {
       "version_major": 2,
       "version_minor": 0,
       "model_id": "3c350714b0894769884152d619b78d4c"
      }
     },
     "metadata": {},
     "output_type": "display_data"
    },
    {
     "data": {
      "text/plain": "  0%|          | 0/180 [00:00<?, ?it/s]",
      "application/vnd.jupyter.widget-view+json": {
       "version_major": 2,
       "version_minor": 0,
       "model_id": "6f5a7078f5ff4fc199f4f61c44a7243f"
      }
     },
     "metadata": {},
     "output_type": "display_data"
    },
    {
     "data": {
      "text/plain": "  0%|          | 0/180 [00:00<?, ?it/s]",
      "application/vnd.jupyter.widget-view+json": {
       "version_major": 2,
       "version_minor": 0,
       "model_id": "b01b8d6613dc47fe896f75d29bc1cd60"
      }
     },
     "metadata": {},
     "output_type": "display_data"
    },
    {
     "data": {
      "text/plain": "  0%|          | 0/180 [00:00<?, ?it/s]",
      "application/vnd.jupyter.widget-view+json": {
       "version_major": 2,
       "version_minor": 0,
       "model_id": "2e9462a927f443e8b70a53114ed31424"
      }
     },
     "metadata": {},
     "output_type": "display_data"
    },
    {
     "data": {
      "text/plain": "  0%|          | 0/180 [00:00<?, ?it/s]",
      "application/vnd.jupyter.widget-view+json": {
       "version_major": 2,
       "version_minor": 0,
       "model_id": "7ef157aaca1349cab96f91783da68905"
      }
     },
     "metadata": {},
     "output_type": "display_data"
    },
    {
     "data": {
      "text/plain": "  0%|          | 0/180 [00:00<?, ?it/s]",
      "application/vnd.jupyter.widget-view+json": {
       "version_major": 2,
       "version_minor": 0,
       "model_id": "d2a57b8f41344cad8dabf36ce831be58"
      }
     },
     "metadata": {},
     "output_type": "display_data"
    },
    {
     "data": {
      "text/plain": "  0%|          | 0/180 [00:00<?, ?it/s]",
      "application/vnd.jupyter.widget-view+json": {
       "version_major": 2,
       "version_minor": 0,
       "model_id": "5847de48cfe04f2496f66abd0d712afd"
      }
     },
     "metadata": {},
     "output_type": "display_data"
    },
    {
     "data": {
      "text/plain": "  0%|          | 0/180 [00:00<?, ?it/s]",
      "application/vnd.jupyter.widget-view+json": {
       "version_major": 2,
       "version_minor": 0,
       "model_id": "35ae58c782104e2ea33b790a2dcf9530"
      }
     },
     "metadata": {},
     "output_type": "display_data"
    },
    {
     "data": {
      "text/plain": "  0%|          | 0/180 [00:00<?, ?it/s]",
      "application/vnd.jupyter.widget-view+json": {
       "version_major": 2,
       "version_minor": 0,
       "model_id": "72d861a3222b41748f1947cb69788538"
      }
     },
     "metadata": {},
     "output_type": "display_data"
    },
    {
     "data": {
      "text/plain": "  0%|          | 0/180 [00:00<?, ?it/s]",
      "application/vnd.jupyter.widget-view+json": {
       "version_major": 2,
       "version_minor": 0,
       "model_id": "e6023332e7b64f1ba7bb29e33a073ab9"
      }
     },
     "metadata": {},
     "output_type": "display_data"
    },
    {
     "data": {
      "text/plain": "  0%|          | 0/180 [00:00<?, ?it/s]",
      "application/vnd.jupyter.widget-view+json": {
       "version_major": 2,
       "version_minor": 0,
       "model_id": "60f5895b31394fc29ccec51a90cee43a"
      }
     },
     "metadata": {},
     "output_type": "display_data"
    },
    {
     "data": {
      "text/plain": "  0%|          | 0/180 [00:00<?, ?it/s]",
      "application/vnd.jupyter.widget-view+json": {
       "version_major": 2,
       "version_minor": 0,
       "model_id": "7ef41d76d1c543cd98140fa44d2ad662"
      }
     },
     "metadata": {},
     "output_type": "display_data"
    },
    {
     "data": {
      "text/plain": "  0%|          | 0/180 [00:00<?, ?it/s]",
      "application/vnd.jupyter.widget-view+json": {
       "version_major": 2,
       "version_minor": 0,
       "model_id": "990129652bb44628a0ea8799bfb8e5d1"
      }
     },
     "metadata": {},
     "output_type": "display_data"
    },
    {
     "data": {
      "text/plain": "  0%|          | 0/180 [00:00<?, ?it/s]",
      "application/vnd.jupyter.widget-view+json": {
       "version_major": 2,
       "version_minor": 0,
       "model_id": "6d6c321b942440b79f7591d3cf83c0d9"
      }
     },
     "metadata": {},
     "output_type": "display_data"
    },
    {
     "data": {
      "text/plain": "  0%|          | 0/180 [00:00<?, ?it/s]",
      "application/vnd.jupyter.widget-view+json": {
       "version_major": 2,
       "version_minor": 0,
       "model_id": "5516cbc1b2a44da39fc64157017e4133"
      }
     },
     "metadata": {},
     "output_type": "display_data"
    },
    {
     "data": {
      "text/plain": "  0%|          | 0/180 [00:00<?, ?it/s]",
      "application/vnd.jupyter.widget-view+json": {
       "version_major": 2,
       "version_minor": 0,
       "model_id": "c72477d637b549ebb33b0bf110d761e6"
      }
     },
     "metadata": {},
     "output_type": "display_data"
    },
    {
     "data": {
      "text/plain": "  0%|          | 0/180 [00:00<?, ?it/s]",
      "application/vnd.jupyter.widget-view+json": {
       "version_major": 2,
       "version_minor": 0,
       "model_id": "863a81462d494c7a99d8c328382648e8"
      }
     },
     "metadata": {},
     "output_type": "display_data"
    },
    {
     "data": {
      "text/plain": "  0%|          | 0/180 [00:00<?, ?it/s]",
      "application/vnd.jupyter.widget-view+json": {
       "version_major": 2,
       "version_minor": 0,
       "model_id": "768a87018cc143da96a504d8da5e4ffc"
      }
     },
     "metadata": {},
     "output_type": "display_data"
    },
    {
     "data": {
      "text/plain": "  0%|          | 0/180 [00:00<?, ?it/s]",
      "application/vnd.jupyter.widget-view+json": {
       "version_major": 2,
       "version_minor": 0,
       "model_id": "c5226a19446c4403949fc99778e39e20"
      }
     },
     "metadata": {},
     "output_type": "display_data"
    },
    {
     "data": {
      "text/plain": "  0%|          | 0/180 [00:00<?, ?it/s]",
      "application/vnd.jupyter.widget-view+json": {
       "version_major": 2,
       "version_minor": 0,
       "model_id": "fd5f33f01f6b444ea75f359ba488cfa2"
      }
     },
     "metadata": {},
     "output_type": "display_data"
    },
    {
     "data": {
      "text/plain": "  0%|          | 0/180 [00:00<?, ?it/s]",
      "application/vnd.jupyter.widget-view+json": {
       "version_major": 2,
       "version_minor": 0,
       "model_id": "f2a8fd85fb4f469b9bf77a10c7521b16"
      }
     },
     "metadata": {},
     "output_type": "display_data"
    },
    {
     "data": {
      "text/plain": "  0%|          | 0/180 [00:00<?, ?it/s]",
      "application/vnd.jupyter.widget-view+json": {
       "version_major": 2,
       "version_minor": 0,
       "model_id": "6770ccee1bab4027b56f43313967d544"
      }
     },
     "metadata": {},
     "output_type": "display_data"
    },
    {
     "data": {
      "text/plain": "  0%|          | 0/180 [00:00<?, ?it/s]",
      "application/vnd.jupyter.widget-view+json": {
       "version_major": 2,
       "version_minor": 0,
       "model_id": "60f748f53bc04d53b329a03184348658"
      }
     },
     "metadata": {},
     "output_type": "display_data"
    },
    {
     "data": {
      "text/plain": "  0%|          | 0/180 [00:00<?, ?it/s]",
      "application/vnd.jupyter.widget-view+json": {
       "version_major": 2,
       "version_minor": 0,
       "model_id": "8f5db5a6413d41e895a8b006bd930387"
      }
     },
     "metadata": {},
     "output_type": "display_data"
    },
    {
     "data": {
      "text/plain": "  0%|          | 0/180 [00:00<?, ?it/s]",
      "application/vnd.jupyter.widget-view+json": {
       "version_major": 2,
       "version_minor": 0,
       "model_id": "1647c9c312144dd6b114724cbc72ba97"
      }
     },
     "metadata": {},
     "output_type": "display_data"
    },
    {
     "data": {
      "text/plain": "  0%|          | 0/180 [00:00<?, ?it/s]",
      "application/vnd.jupyter.widget-view+json": {
       "version_major": 2,
       "version_minor": 0,
       "model_id": "2a0fd79e2a3540a5b5e6bd17f8b4315c"
      }
     },
     "metadata": {},
     "output_type": "display_data"
    },
    {
     "data": {
      "text/plain": "  0%|          | 0/180 [00:00<?, ?it/s]",
      "application/vnd.jupyter.widget-view+json": {
       "version_major": 2,
       "version_minor": 0,
       "model_id": "e7eb6b10757d43cba05d1f1687063ad4"
      }
     },
     "metadata": {},
     "output_type": "display_data"
    }
   ],
   "source": [
    "from federated_learning.ifca import IFCA\n",
    "\n",
    "logger = create_logger(\"IFCA\")\n",
    "\n",
    "ID_IFCA = logger.run_id\n",
    "\n",
    "N_CLUSTERS = 3\n",
    "\n",
    "ifca = IFCA(\n",
    "        client_dataloaders,\n",
    "        model_fn=lambda: MODEL(),\n",
    "        optimizer_fn=lambda p: create_optimizer(p, LR),\n",
    "        loss_fn=CrossEntropyLoss(),\n",
    "        rounds=ROUNDS,\n",
    "        epochs=EPOCHS,\n",
    "        alpha=ALPHA_FED,\n",
    "        k = N_CLUSTERS,\n",
    "        logger=logger,\n",
    "        device=get_device(),\n",
    "        test_data=client_dataloaders\n",
    "    )\n",
    "\n",
    "ifca.fit()"
   ],
   "metadata": {
    "collapsed": false,
    "ExecuteTime": {
     "end_time": "2023-11-16T09:20:07.404525779Z",
     "start_time": "2023-11-16T08:13:44.493780839Z"
    }
   },
   "id": "6b04ef71bd607434"
  },
  {
   "cell_type": "code",
   "execution_count": 22,
   "outputs": [],
   "source": [
    "del ifca"
   ],
   "metadata": {
    "collapsed": false,
    "ExecuteTime": {
     "end_time": "2023-11-16T09:20:07.450989099Z",
     "start_time": "2023-11-16T09:20:07.407510071Z"
    }
   },
   "id": "595f591d1e145022"
  },
  {
   "cell_type": "markdown",
   "source": [
    "# FLSC"
   ],
   "metadata": {
    "collapsed": false
   },
   "id": "6ddce6acdc522865"
  },
  {
   "cell_type": "code",
   "execution_count": null,
   "outputs": [],
   "source": [
    "from federated_learning.flsc import FLSC\n",
    "\n",
    "logger = create_logger(\"FLSC\")\n",
    "\n",
    "ID_FLSC = logger.run_id\n",
    "\n",
    "N_CLUSTERS = 5\n",
    "N_CLUSTERS_ASSIGNED = 3\n",
    "\n",
    "flsc = FLSC(\n",
    "        client_dataloaders,\n",
    "        model_fn=lambda: MODEL(),\n",
    "        optimizer_fn=lambda p: create_optimizer(p, LR),\n",
    "        loss_fn=CrossEntropyLoss(),\n",
    "        rounds=ROUNDS,\n",
    "        epochs=EPOCHS,\n",
    "        alpha=ALPHA_FED,\n",
    "        k = N_CLUSTERS,\n",
    "        n = N_CLUSTERS_ASSIGNED,\n",
    "        logger=logger,\n",
    "        device=get_device(),\n",
    "        test_data=client_dataloaders\n",
    "    )\n",
    "\n",
    "flsc.fit()"
   ],
   "metadata": {
    "collapsed": false
   },
   "id": "95cc3882d1bf6aa1"
  },
  {
   "cell_type": "code",
   "execution_count": null,
   "outputs": [],
   "source": [
    "del flsc"
   ],
   "metadata": {
    "collapsed": false
   },
   "id": "797276b809defe15"
  },
  {
   "cell_type": "markdown",
   "source": [
    "# Evaluation"
   ],
   "metadata": {
    "collapsed": false
   },
   "id": "df937584215b53d"
  },
  {
   "cell_type": "code",
   "execution_count": 23,
   "outputs": [],
   "source": [
    "def expand_json_column(df: pd.DataFrame, column: str) -> pd.DataFrame:\n",
    "    return pd.concat((df, pd.json_normalize(df[column])), axis=1).drop(columns=column)\n",
    "\n",
    "def load_run(run_id: str):\n",
    "    metadata_file =  Path(BASEDIR).joinpath(run_id + \"_meta.json\")\n",
    "    metrics_file =  Path(BASEDIR).joinpath(run_id + \"_metrics.json\")\n",
    "    \n",
    "    with open(metadata_file) as f:\n",
    "        metadata = json.load(f)\n",
    "    \n",
    "    run_metrics = pd.read_json(metrics_file, lines=True)\n",
    "\n",
    "    run_metrics = expand_json_column(run_metrics, \"metrics\")\n",
    "    run_metrics[\"client_id\"] = run_metrics[\"client_id\"].astype(pd.Int64Dtype())\n",
    "    run_metrics[\"epoch\"] = run_metrics[\"epoch\"].astype(pd.Int64Dtype())\n",
    "    run_metrics = run_metrics.melt(id_vars=[\"timestamp\", \"log_type\", \"stage\", \"client_id\", \"round\", \"epoch\"], value_vars=[\"loss\", \"accuracy\"], var_name=\"metric_name\", value_name=\"metric_value\")\n",
    "    \n",
    "    return run_metrics\n",
    "\n",
    "\n",
    "def split_metrics(run_metrics):\n",
    "    client_metrics = run_metrics.query(\"log_type == 'client'\").copy()\n",
    "    client_metrics[\"step\"] = client_metrics[\"round\"] * 100\n",
    "    client_metrics[\"step\"] += client_metrics[\"epoch\"]\n",
    "    server_metrics = run_metrics.query(\"log_type == 'server'\")\n",
    "    \n",
    "    server_losses = server_metrics.query(\"metric_name == 'loss'\")\n",
    "    server_accuracies = server_metrics.query(\"metric_name == 'accuracy'\")\n",
    "    \n",
    "    client_losses = client_metrics.query(\"metric_name == 'loss'\")\n",
    "    client_accuracies = client_metrics.query(\"metric_name == 'accuracy'\")\n",
    "    \n",
    "    return server_losses, client_losses, server_accuracies, client_accuracies"
   ],
   "metadata": {
    "collapsed": false,
    "ExecuteTime": {
     "end_time": "2023-11-16T09:20:23.322520818Z",
     "start_time": "2023-11-16T09:20:23.280740018Z"
    }
   },
   "id": "38a0c1164d5445bd"
  },
  {
   "cell_type": "code",
   "execution_count": 24,
   "outputs": [],
   "source": [
    "ID_FEDAVG = \"6b438fea-3d69-4909-8d56-9574871db2ff\"\n",
    "ID_FEDPROX = \"4bf96d9a-3770-47ae-9eae-a29711a834e4\"\n",
    "# ID_IFCA = \"c07cc75e-779e-4cc8-a55a-c91b7e35b11d\"\n",
    "# ID_FLSC = "
   ],
   "metadata": {
    "collapsed": false,
    "ExecuteTime": {
     "end_time": "2023-11-16T09:20:30.260935727Z",
     "start_time": "2023-11-16T09:20:30.236880091Z"
    }
   },
   "id": "a430cf391b0da3af"
  },
  {
   "cell_type": "code",
   "execution_count": 25,
   "outputs": [],
   "source": [
    "fedavg_metrics = load_run(ID_FEDAVG)\n",
    "fedavg_metrics[\"algorithm\"] = \"FedAvg\"\n",
    "\n",
    "fedprox_metrics = load_run(ID_FEDPROX)\n",
    "fedprox_metrics[\"algorithm\"] = \"FedProx\"\n",
    "\n",
    "ifca_metrics = load_run(ID_IFCA)\n",
    "ifca_metrics[\"algorithm\"] = \"IFCA\"\n",
    "\n",
    "# flsc_metrics = load_run(ID_FLSC)\n",
    "# flsc_metrics[\"algorithm\"] = \"FLSC\""
   ],
   "metadata": {
    "collapsed": false,
    "ExecuteTime": {
     "end_time": "2023-11-16T09:20:33.973932833Z",
     "start_time": "2023-11-16T09:20:32.529106363Z"
    }
   },
   "id": "3b0e7a1d8e3e51fd"
  },
  {
   "cell_type": "code",
   "execution_count": 26,
   "outputs": [],
   "source": [
    "combined_metrics = pd.concat((fedavg_metrics, fedprox_metrics, ifca_metrics))"
   ],
   "metadata": {
    "collapsed": false,
    "ExecuteTime": {
     "end_time": "2023-11-16T09:20:35.888174318Z",
     "start_time": "2023-11-16T09:20:35.853988315Z"
    }
   },
   "id": "e56852a6e39f61be"
  },
  {
   "cell_type": "code",
   "execution_count": 27,
   "outputs": [],
   "source": [
    "server_losses, client_losses, server_accuracies, client_accuracies = split_metrics(combined_metrics)"
   ],
   "metadata": {
    "collapsed": false,
    "ExecuteTime": {
     "end_time": "2023-11-16T09:20:36.779934834Z",
     "start_time": "2023-11-16T09:20:36.605417861Z"
    }
   },
   "id": "a9bf69e70a16350d"
  },
  {
   "cell_type": "code",
   "execution_count": 28,
   "outputs": [
    {
     "data": {
      "text/plain": "array(['FedAvg', 'FedProx', 'IFCA'], dtype=object)"
     },
     "execution_count": 28,
     "metadata": {},
     "output_type": "execute_result"
    }
   ],
   "source": [
    "server_accuracies[\"algorithm\"].unique()"
   ],
   "metadata": {
    "collapsed": false,
    "ExecuteTime": {
     "end_time": "2023-11-16T09:20:37.548048024Z",
     "start_time": "2023-11-16T09:20:37.539083163Z"
    }
   },
   "id": "f237c2ec491957f7"
  },
  {
   "cell_type": "code",
   "execution_count": 29,
   "outputs": [
    {
     "data": {
      "image/png": "[encoded data removed]"
     },
     "metadata": {},
     "output_type": "display_data"
    }
   ],
   "source": [
    "fig = px.line(server_losses, x=\"round\", y=\"metric_value\", color=\"algorithm\", labels={\"metric_value\": \"accuracy\"},\\\n",
    "              title=f\"\"\"Overall Client Losses\"\"\")\n",
    "fig"
   ],
   "metadata": {
    "collapsed": false,
    "ExecuteTime": {
     "end_time": "2023-11-16T09:20:39.433556100Z",
     "start_time": "2023-11-16T09:20:38.929849492Z"
    }
   },
   "id": "7ccafbd16101ea85"
  },
  {
   "cell_type": "code",
   "execution_count": 30,
   "outputs": [
    {
     "data": {
      "image/png": "[encoded data removed]"
     },
     "metadata": {},
     "output_type": "display_data"
    }
   ],
   "source": [
    "fig = px.line(server_accuracies, x=\"round\", y=\"metric_value\", color=\"algorithm\", labels={\"metric_value\": \"accuracy\"},\\\n",
    "              title=f\"\"\"Overall client accuracies\"\"\")\n",
    "fig.update_layout(yaxis_tickformat = \".0%\")\n",
    "fig"
   ],
   "metadata": {
    "collapsed": false,
    "ExecuteTime": {
     "end_time": "2023-11-16T09:20:54.212358487Z",
     "start_time": "2023-11-16T09:20:54.124806693Z"
    }
   },
   "id": "4d18513bfd824fce"
  },
  {
   "cell_type": "code",
   "execution_count": null,
   "outputs": [],
   "source": [],
   "metadata": {
    "collapsed": false
   },
   "id": "4e223a982824da94"
  }
 ],
 "metadata": {
  "kernelspec": {
   "display_name": "Python 3",
   "language": "python",
   "name": "python3"
  },
  "language_info": {
   "codemirror_mode": {
    "name": "ipython",
    "version": 2
   },
   "file_extension": ".py",
   "mimetype": "text/x-python",
   "name": "python",
   "nbconvert_exporter": "python",
   "pygments_lexer": "ipython2",
   "version": "2.7.6"
  }
 },
 "nbformat": 4,
 "nbformat_minor": 5
}
