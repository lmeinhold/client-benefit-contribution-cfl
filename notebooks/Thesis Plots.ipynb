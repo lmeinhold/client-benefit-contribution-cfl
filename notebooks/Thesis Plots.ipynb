{
 "cells": [
  {
   "cell_type": "code",
   "id": "initial_id",
   "metadata": {
    "collapsed": true
   },
   "source": [
    "import os\n",
    "\n",
    "import duckdb\n",
    "import polars as pl\n",
    "\n",
    "import matplotlib.pyplot as plt\n",
    "import seaborn as sns\n",
    "from duckdb import DuckDBPyRelation\n",
    "\n",
    "from utils.model_evaluation.overall_performance import *\n",
    "\n",
    "sns.set_theme()"
   ],
   "outputs": [],
   "execution_count": null
  },
  {
   "metadata": {},
   "cell_type": "code",
   "source": [
    "BASE_DIR = \"/home/lukas/Work/Masterthesis/masterthesis-data/\"\n",
    "OUTPUT_DIR = \"/home/lukas/Work/Masterthesis/masterthesis-clustered-fl/output/plots/\""
   ],
   "id": "f5b9c9e2832a1873",
   "outputs": [],
   "execution_count": null
  },
  {
   "metadata": {},
   "cell_type": "code",
   "source": "os.makedirs(OUTPUT_DIR, exist_ok=True)",
   "id": "73b76bd6825126ca",
   "outputs": [],
   "execution_count": null
  },
  {
   "metadata": {},
   "cell_type": "code",
   "source": [
    "def connect_to_run(run_id: str) -> duckdb.DuckDBPyConnection:\n",
    "    full_path = os.path.join(BASE_DIR, run_id + \".db\")\n",
    "    if not os.path.exists(full_path):\n",
    "        raise Exception(f\"No database found for run {run_id} at path {full_path}\")\n",
    "    return duckdb.connect(str(full_path))"
   ],
   "id": "30943e8df0698b8",
   "outputs": [],
   "execution_count": null
  },
  {
   "metadata": {},
   "cell_type": "code",
   "source": [
    "SQL_FULL = \"\"\"\n",
    "SELECT *\n",
    "FROM configurations\n",
    "NATURAL JOIN metrics\n",
    "NATURAL JOIN data_distributions\n",
    "NATURAL JOIN infos\n",
    "\"\"\"\n",
    "\n",
    "def get_run_relation(conn: duckdb.DuckDBPyConnection) -> duckdb.DuckDBPyRelation:\n",
    "    return conn.sql(SQL_FULL)"
   ],
   "id": "c35c2f07397b4519",
   "outputs": [],
   "execution_count": null
  },
  {
   "metadata": {},
   "cell_type": "markdown",
   "source": "# Runs",
   "id": "6409a56750c172b9"
  },
  {
   "metadata": {},
   "cell_type": "markdown",
   "source": "Each run/imbalance combination is in a different db file:",
   "id": "8a1f7bb0268ff06d"
  },
  {
   "metadata": {},
   "cell_type": "code",
   "source": [
    "BENEFIT_QUANTITY_CIFAR = \"\"\n",
    "BENEFIT_LABEL_DISTRIBUTION_CIFAR = \"20240508_164642\"\n",
    "BENEFIT_FEATURE_DISTRIBUTION_CIFAR = \"\"\n",
    "BENEFIT_QUANTITY_MNIST = \"\"\n",
    "BENEFIT_LABEL_DISTRIBUTION_MNIST = \"\"\n",
    "BENEFIT_FEATURE_DISTRIBUTION_MNIST = \"\""
   ],
   "id": "446d0d515ef734ea",
   "outputs": [],
   "execution_count": null
  },
  {
   "metadata": {},
   "cell_type": "markdown",
   "source": "# Overall Model Training",
   "id": "722c7c6dc9a683fc"
  },
  {
   "metadata": {},
   "cell_type": "markdown",
   "source": "## Quantity Imbalance",
   "id": "7cf244be2ab8a625"
  },
  {
   "metadata": {},
   "cell_type": "markdown",
   "source": "### CIFAR-10",
   "id": "9cca9fb21b39b258"
  },
  {
   "metadata": {},
   "cell_type": "code",
   "source": [
    "conn = connect_to_run(BENEFIT_QUANTITY_CIFAR)\n",
    "data = get_run_relation(conn)"
   ],
   "id": "ce9e2a8e6e3b2651",
   "outputs": [],
   "execution_count": null
  },
  {
   "metadata": {},
   "cell_type": "code",
   "source": "loss_plots(conn, data, weighted=True).savefig(os.path.join(OUTPUT_DIR, \"losses_cifar10_quantity_imbalance.png\"))",
   "id": "bb4ab2e1c7a0f2e1",
   "outputs": [],
   "execution_count": null
  },
  {
   "metadata": {},
   "cell_type": "code",
   "source": "f1_plots(conn, data, weighted=True).savefig(os.path.join(OUTPUT_DIR, \"f1scores_cifar10_quantity_imbalance.png\"))",
   "id": "861ed53c8ab93322",
   "outputs": [],
   "execution_count": null
  },
  {
   "metadata": {},
   "cell_type": "code",
   "source": "overall_f1_vs_imbalance_plots(conn, data, weighted=True).savefig(os.path.join(OUTPUT_DIR, \"final_f1scores_cifar10_quantity_imbalance.png\"))",
   "id": "19f3924839d207a9",
   "outputs": [],
   "execution_count": null
  },
  {
   "metadata": {},
   "cell_type": "code",
   "source": "conn.close()",
   "id": "53343e65bfa171a9",
   "outputs": [],
   "execution_count": null
  },
  {
   "metadata": {},
   "cell_type": "markdown",
   "source": "### MNIST",
   "id": "23b37f2e9648900f"
  },
  {
   "metadata": {},
   "cell_type": "code",
   "outputs": [],
   "execution_count": null,
   "source": [
    "conn = connect_to_run(BENEFIT_QUANTITY_MNIST)\n",
    "data = get_run_relation(conn)"
   ],
   "id": "35f7247389863011"
  },
  {
   "metadata": {},
   "cell_type": "code",
   "outputs": [],
   "execution_count": null,
   "source": "loss_plots(conn, data, weighted=True).savefig(os.path.join(OUTPUT_DIR, \"losses_mnist_quantity_imbalance.png\"))",
   "id": "8292e978495d6f53"
  },
  {
   "metadata": {},
   "cell_type": "code",
   "outputs": [],
   "execution_count": null,
   "source": "f1_plots(conn, data, weighted=True).savefig(os.path.join(OUTPUT_DIR, \"f1scores_mnist_quantity_imbalance.png\"))",
   "id": "7a086bdd5b5c8bf4"
  },
  {
   "metadata": {},
   "cell_type": "code",
   "outputs": [],
   "execution_count": null,
   "source": "overall_f1_vs_imbalance_plots(conn, data, weighted=True).savefig(os.path.join(OUTPUT_DIR, \"final_f1scores_mnist_quantity_imbalance.png\"))",
   "id": "4b3094afa4fa2b38"
  },
  {
   "metadata": {},
   "cell_type": "code",
   "outputs": [],
   "execution_count": null,
   "source": "conn.close()",
   "id": "a517e58517c64ddc"
  },
  {
   "metadata": {},
   "cell_type": "markdown",
   "source": "## Label (Distribution) Imbalance",
   "id": "88631ed58af3074e"
  },
  {
   "metadata": {},
   "cell_type": "markdown",
   "source": "### CIFAR-10",
   "id": "81aa98aca6f735a4"
  },
  {
   "metadata": {},
   "cell_type": "code",
   "source": [
    "conn = connect_to_run(BENEFIT_LABEL_DISTRIBUTION_CIFAR)\n",
    "data = get_run_relation(conn)"
   ],
   "id": "8664897d4f503246",
   "outputs": [],
   "execution_count": null
  },
  {
   "metadata": {},
   "cell_type": "code",
   "source": "loss_plots(conn, data, weighted=True).savefig(os.path.join(OUTPUT_DIR, \"losses_cifar10_label_distribution_imbalance.png\"))",
   "id": "33deffa8ee4e61d1",
   "outputs": [],
   "execution_count": null
  },
  {
   "metadata": {},
   "cell_type": "code",
   "source": "f1_plots(conn, data, weighted=True).savefig(os.path.join(OUTPUT_DIR, \"f1scores_cifar10_label_distribution_imbalance.png\"))",
   "id": "66cac2bdeb273dfa",
   "outputs": [],
   "execution_count": null
  },
  {
   "metadata": {},
   "cell_type": "code",
   "source": "overall_f1_vs_imbalance_plots(conn, data, weighted=True).savefig(os.path.join(OUTPUT_DIR, \"final_f1scores_cifar10_label_distribution_imbalance.png\"))",
   "id": "3483f03739b8a5ef",
   "outputs": [],
   "execution_count": null
  },
  {
   "metadata": {},
   "cell_type": "code",
   "source": "conn.close()",
   "id": "12fbe34e41e85a42",
   "outputs": [],
   "execution_count": null
  },
  {
   "metadata": {},
   "cell_type": "markdown",
   "source": "### MNIST",
   "id": "aaf4f2ffa4b9fab6"
  },
  {
   "metadata": {},
   "cell_type": "code",
   "outputs": [],
   "execution_count": null,
   "source": [
    "conn = connect_to_run(BENEFIT_LABEL_DISTRIBUTION_MNIST)\n",
    "data = get_run_relation(conn)"
   ],
   "id": "671505fdebd1893"
  },
  {
   "metadata": {},
   "cell_type": "code",
   "outputs": [],
   "execution_count": null,
   "source": "loss_plots(conn, data, weighted=True).savefig(os.path.join(OUTPUT_DIR, \"losses_mnist_label_distribution_imbalance.png\"))",
   "id": "9571db006c6e88c4"
  },
  {
   "metadata": {},
   "cell_type": "code",
   "outputs": [],
   "execution_count": null,
   "source": "f1_plots(conn, data, weighted=True).savefig(os.path.join(OUTPUT_DIR, \"f1scores_mnist_label_distribution_imbalance.png\"))",
   "id": "82f3b05c982921f"
  },
  {
   "metadata": {},
   "cell_type": "code",
   "outputs": [],
   "execution_count": null,
   "source": "overall_f1_vs_imbalance_plots(conn, data, weighted=True).savefig(os.path.join(OUTPUT_DIR, \"final_f1scores_mnist_label_distribution_imbalance.png\"))",
   "id": "152ac19c2e5b4620"
  },
  {
   "metadata": {},
   "cell_type": "code",
   "outputs": [],
   "execution_count": null,
   "source": "conn.close()",
   "id": "f573731fdb862b62"
  },
  {
   "metadata": {},
   "cell_type": "markdown",
   "source": "## Feature (Distribution) Imbalance",
   "id": "95e801f914601b6c"
  },
  {
   "metadata": {},
   "cell_type": "markdown",
   "source": "### CIFAR-10",
   "id": "2f8ebc6b61e89d02"
  },
  {
   "metadata": {},
   "cell_type": "code",
   "source": [
    "conn = connect_to_run(BENEFIT_FEATURE_DISTRIBUTION_CIFAR)\n",
    "data = get_run_relation(conn)"
   ],
   "id": "51e898140b8fa26f",
   "outputs": [],
   "execution_count": null
  },
  {
   "metadata": {},
   "cell_type": "code",
   "source": "loss_plots(conn, data, weighted=True).savefig(os.path.join(OUTPUT_DIR, \"losses_cifar10_feature_distribution_imbalance.png\"))",
   "id": "5d087c02f7365687",
   "outputs": [],
   "execution_count": null
  },
  {
   "metadata": {},
   "cell_type": "code",
   "source": "f1_plots(conn, data, weighted=True).savefig(os.path.join(OUTPUT_DIR, \"f1scores_cifar10_feature_distribution_imbalance.png\"))",
   "id": "cff1e502a49d0a93",
   "outputs": [],
   "execution_count": null
  },
  {
   "metadata": {},
   "cell_type": "code",
   "source": "overall_f1_vs_imbalance_plots(conn, data, weighted=True).savefig(os.path.join(OUTPUT_DIR, \"final_f1scores_cifar10_feature_distribution_imbalance.png\"))",
   "id": "7744ff5886321b66",
   "outputs": [],
   "execution_count": null
  },
  {
   "metadata": {},
   "cell_type": "code",
   "source": "conn.close()",
   "id": "d05cf30ed8d0a3ec",
   "outputs": [],
   "execution_count": null
  },
  {
   "metadata": {},
   "cell_type": "markdown",
   "source": "### MNIST",
   "id": "a6d6dbfc65e6f199"
  },
  {
   "metadata": {},
   "cell_type": "code",
   "outputs": [],
   "execution_count": null,
   "source": [
    "conn = connect_to_run(BENEFIT_FEATURE_DISTRIBUTION_MNIST)\n",
    "data = get_run_relation(conn)"
   ],
   "id": "991b1f3e5e51f696"
  },
  {
   "metadata": {},
   "cell_type": "code",
   "outputs": [],
   "execution_count": null,
   "source": "loss_plots(conn, data, weighted=True).savefig(os.path.join(OUTPUT_DIR, \"losses_mnist_feature_distribution_imbalance.png\"))",
   "id": "a8675b6e35911a"
  },
  {
   "metadata": {},
   "cell_type": "code",
   "outputs": [],
   "execution_count": null,
   "source": "f1_plots(conn, data, weighted=True).savefig(os.path.join(OUTPUT_DIR, \"f1scores_mnist_feature_distribution_imbalance.png\"))",
   "id": "90352a2db1c6c330"
  },
  {
   "metadata": {},
   "cell_type": "code",
   "outputs": [],
   "execution_count": null,
   "source": "overall_f1_vs_imbalance_plots(conn, data, weighted=True).savefig(os.path.join(OUTPUT_DIR, \"final_f1scores_mnist_feature_distribution_imbalance.png\"))",
   "id": "cfcae8e0a34909b9"
  },
  {
   "metadata": {},
   "cell_type": "code",
   "outputs": [],
   "execution_count": null,
   "source": "conn.close()",
   "id": "8a502a0bc6d41da6"
  }
 ],
 "metadata": {
  "kernelspec": {
   "display_name": "Python 3",
   "language": "python",
   "name": "python3"
  },
  "language_info": {
   "codemirror_mode": {
    "name": "ipython",
    "version": 2
   },
   "file_extension": ".py",
   "mimetype": "text/x-python",
   "name": "python",
   "nbconvert_exporter": "python",
   "pygments_lexer": "ipython2",
   "version": "2.7.6"
  }
 },
 "nbformat": 4,
 "nbformat_minor": 5
}
