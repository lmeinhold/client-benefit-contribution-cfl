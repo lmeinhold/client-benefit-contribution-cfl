{
 "cells": [
  {
   "cell_type": "code",
   "execution_count": 50,
   "id": "initial_id",
   "metadata": {
    "collapsed": true,
    "ExecuteTime": {
     "end_time": "2024-04-01T12:34:43.129100Z",
     "start_time": "2024-04-01T12:34:43.125037Z"
    }
   },
   "source": [
    "import numpy as np\n",
    "import pandas as pd\n",
    "import duckdb"
   ],
   "outputs": []
  },
  {
   "cell_type": "code",
   "source": [
    "from datasets.diabetes import Diabetes\n",
    "\n",
    "ds = Diabetes(\"../data/diabetes\")"
   ],
   "metadata": {
    "collapsed": false,
    "ExecuteTime": {
     "end_time": "2024-04-01T12:34:54.515353Z",
     "start_time": "2024-04-01T12:34:43.157850Z"
    }
   },
   "id": "f10ee7ea1af1b04b",
   "execution_count": 51,
   "outputs": []
  },
  {
   "cell_type": "code",
   "source": [
    "train_ds = ds.train_data()"
   ],
   "metadata": {
    "collapsed": false,
    "ExecuteTime": {
     "end_time": "2024-04-01T12:34:54.520367Z",
     "start_time": "2024-04-01T12:34:54.517517Z"
    }
   },
   "id": "33615a71fe3d9be0",
   "execution_count": 52,
   "outputs": []
  },
  {
   "cell_type": "code",
   "source": [
    "train_ds[0][0].shape"
   ],
   "metadata": {
    "collapsed": false,
    "ExecuteTime": {
     "end_time": "2024-04-01T12:34:54.564613Z",
     "start_time": "2024-04-01T12:34:54.522244Z"
    }
   },
   "id": "96f4eea6f85d18b",
   "execution_count": 53,
   "outputs": []
  },
  {
   "cell_type": "code",
   "source": [
    "import torch\n",
    "from torch import nn\n",
    "from torch.utils.data import DataLoader\n",
    "from torch.optim import AdamW"
   ],
   "metadata": {
    "collapsed": false,
    "ExecuteTime": {
     "end_time": "2024-04-01T12:34:54.570685Z",
     "start_time": "2024-04-01T12:34:54.567235Z"
    }
   },
   "id": "6f61772ed23288c9",
   "execution_count": 54,
   "outputs": []
  },
  {
   "cell_type": "code",
   "source": [
    "model = nn.Sequential(\n",
    "    nn.Linear(21, 256),\n",
    "    nn.ReLU(),\n",
    "    nn.Linear(256, 128),\n",
    "    nn.ReLU(),\n",
    "    nn.Linear(128, 1),\n",
    "    nn.Sigmoid()\n",
    ")"
   ],
   "metadata": {
    "collapsed": false,
    "ExecuteTime": {
     "end_time": "2024-04-01T12:34:54.577141Z",
     "start_time": "2024-04-01T12:34:54.572129Z"
    }
   },
   "id": "ab2997cdfd52e35b",
   "execution_count": 55,
   "outputs": []
  },
  {
   "cell_type": "code",
   "source": [
    "loss_fn = nn.BCELoss()\n",
    "optimizer = AdamW(model.parameters())"
   ],
   "metadata": {
    "collapsed": false,
    "ExecuteTime": {
     "end_time": "2024-04-01T12:34:54.581915Z",
     "start_time": "2024-04-01T12:34:54.578547Z"
    }
   },
   "id": "38a97be7b7360e16",
   "execution_count": 56,
   "outputs": []
  },
  {
   "cell_type": "code",
   "source": [
    "train_dl = DataLoader(train_ds, batch_size=64)"
   ],
   "metadata": {
    "collapsed": false,
    "ExecuteTime": {
     "end_time": "2024-04-01T12:34:54.587222Z",
     "start_time": "2024-04-01T12:34:54.583573Z"
    }
   },
   "id": "6eb4ddb2f191d19f",
   "execution_count": 57,
   "outputs": []
  },
  {
   "cell_type": "code",
   "source": [
    "model.train()\n",
    "for epoch in range(100):\n",
    "    epoch_loss = 0\n",
    "    for X, y in train_dl:\n",
    "        model.zero_grad()\n",
    "        \n",
    "        y_pred = model(X)\n",
    "        loss = loss_fn(y_pred, y)\n",
    "        loss.backward()\n",
    "        \n",
    "        optimizer.step()\n",
    "        \n",
    "        epoch_loss += loss.cpu().item()\n",
    "        \n",
    "    epoch_loss /= len(train_dl)\n",
    "    print(f\"Epoch {epoch}: loss={epoch_loss:.4f}\")"
   ],
   "metadata": {
    "collapsed": false,
    "ExecuteTime": {
     "end_time": "2024-04-01T12:41:13.791751Z",
     "start_time": "2024-04-01T12:41:10.695070Z"
    }
   },
   "id": "f60f6016bd83f684",
   "execution_count": 59,
   "outputs": []
  },
  {
   "cell_type": "code",
   "source": [
    "model.eval()\n",
    "test_loss = 0\n",
    "test_corr = 0\n",
    "\n",
    "for X, y in train_dl:\n",
    "    with torch.no_grad():        \n",
    "        y_pred = model(X)\n",
    "        loss = loss_fn(y_pred, y)\n",
    "        \n",
    "        test_loss += loss.cpu().item()\n",
    "        test_corr += ((y_pred > 0.5) == y).sum()\n",
    "            \n",
    "\n",
    "test_loss /= len(train_dl)\n",
    "test_acc = test_corr / len(train_dl.dataset)"
   ],
   "metadata": {
    "collapsed": false
   },
   "id": "ecda5e32ad8c58c5",
   "execution_count": null,
   "outputs": []
  },
  {
   "cell_type": "code",
   "source": [
    "test_loss"
   ],
   "metadata": {
    "collapsed": false
   },
   "id": "50df9e5ec4db99fe",
   "execution_count": null,
   "outputs": []
  },
  {
   "cell_type": "code",
   "source": [
    "test_acc"
   ],
   "metadata": {
    "collapsed": false
   },
   "id": "38299d04644f6465",
   "execution_count": null,
   "outputs": []
  },
  {
   "cell_type": "code",
   "source": [],
   "metadata": {
    "collapsed": false
   },
   "id": "56e545373afdd8d5",
   "execution_count": null,
   "outputs": []
  }
 ],
 "metadata": {
  "kernelspec": {
   "display_name": "Python 3",
   "language": "python",
   "name": "python3"
  },
  "language_info": {
   "codemirror_mode": {
    "name": "ipython",
    "version": 2
   },
   "file_extension": ".py",
   "mimetype": "text/x-python",
   "name": "python",
   "nbconvert_exporter": "python",
   "pygments_lexer": "ipython2",
   "version": "2.7.6"
  }
 },
 "nbformat": 4,
 "nbformat_minor": 5
}
