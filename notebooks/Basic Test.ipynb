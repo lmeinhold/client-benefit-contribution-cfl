{
 "cells": [
  {
   "cell_type": "code",
   "execution_count": 1,
   "id": "initial_id",
   "metadata": {
    "ExecuteTime": {
     "end_time": "2024-04-23T20:57:19.315098Z",
     "start_time": "2024-04-23T20:57:16.903576Z"
    },
    "collapsed": true
   },
   "outputs": [],
   "source": [
    "import numpy as np\n",
    "import pandas as pd\n",
    "\n",
    "import seaborn as sns\n",
    "import matplotlib.pyplot as plt\n",
    "\n",
    "from train import run_flsc, FlscConfig, create_config, get_data_for_config, run_fedprox"
   ]
  },
  {
   "cell_type": "code",
   "execution_count": 6,
   "id": "acb20b51a6422007",
   "metadata": {
    "ExecuteTime": {
     "end_time": "2024-04-23T20:57:36.829913Z",
     "start_time": "2024-04-23T20:57:36.826069Z"
    },
    "collapsed": false
   },
   "outputs": [],
   "source": [
    "from train import FedProxConfig\n",
    "\n",
    "conf = create_config(\n",
    "     algorithm=\"ifca\",\n",
    "     dataset=\"cifar10\",\n",
    "     rounds=10,\n",
    "     epochs=8,\n",
    "     n_clients=80,\n",
    "     clients_per_round=1.0,\n",
    "     clusters=4,\n",
    "     clusters_per_client=3,\n",
    "     imbalance_type=\"feature_distribution\",\n",
    "     imbalance_value=10,\n",
    "     penalty=0,\n",
    " )"
   ]
  },
  {
   "cell_type": "code",
   "execution_count": 7,
   "id": "a97f7d5611d22c36",
   "metadata": {
    "ExecuteTime": {
     "end_time": "2024-04-23T20:57:38.069111Z",
     "start_time": "2024-04-23T20:57:37.273516Z"
    },
    "collapsed": false
   },
   "outputs": [
    {
     "name": "stdout",
     "output_type": "stream",
     "text": [
      "Files already downloaded and verified\n"
     ]
    }
   ],
   "source": [
    "train, test = get_data_for_config(conf.dataset, conf.n_clients, conf.imbalance_type, conf.imbalance_value, seed=42, conn=None)"
   ]
  },
  {
   "cell_type": "code",
   "execution_count": 8,
   "id": "faed090bd4b696e6",
   "metadata": {
    "ExecuteTime": {
     "end_time": "2024-04-23T20:57:38.838132Z",
     "start_time": "2024-04-23T20:57:38.835717Z"
    },
    "collapsed": false
   },
   "outputs": [],
   "source": [
    "def dataset_lens(ds):\n",
    "    return np.array(list(map(lambda dl: len(dl.dataset), ds)))"
   ]
  },
  {
   "cell_type": "code",
   "execution_count": 9,
   "id": "d20a61aa5868ac5e",
   "metadata": {
    "ExecuteTime": {
     "end_time": "2024-04-23T20:57:39.518201Z",
     "start_time": "2024-04-23T20:57:39.514092Z"
    },
    "collapsed": false
   },
   "outputs": [],
   "source": [
    "train_lens = dataset_lens(train)\n",
    "test_lens = dataset_lens(test)"
   ]
  },
  {
   "cell_type": "code",
   "execution_count": 10,
   "id": "8736acb4cfabcc4b",
   "metadata": {
    "ExecuteTime": {
     "end_time": "2024-04-23T20:57:52.793552Z",
     "start_time": "2024-04-23T20:57:40.390199Z"
    },
    "collapsed": false
   },
   "outputs": [],
   "source": [
    "from datasets.imbalancing.stats import li_ldi_qi\n",
    "datasets = list(map(lambda dl: dl.dataset, train))\n",
    "li, ldi, qi = li_ldi_qi(datasets)"
   ]
  },
  {
   "cell_type": "code",
   "execution_count": 11,
   "id": "8a8bc6426b7be9b5",
   "metadata": {
    "ExecuteTime": {
     "end_time": "2024-04-23T20:57:52.806892Z",
     "start_time": "2024-04-23T20:57:52.794850Z"
    },
    "collapsed": false
   },
   "outputs": [
    {
     "data": {
      "text/html": [
       "<div>\n",
       "<style scoped>\n",
       "    .dataframe tbody tr th:only-of-type {\n",
       "        vertical-align: middle;\n",
       "    }\n",
       "\n",
       "    .dataframe tbody tr th {\n",
       "        vertical-align: top;\n",
       "    }\n",
       "\n",
       "    .dataframe thead th {\n",
       "        text-align: right;\n",
       "    }\n",
       "</style>\n",
       "<table border=\"1\" class=\"dataframe\">\n",
       "  <thead>\n",
       "    <tr style=\"text-align: right;\">\n",
       "      <th></th>\n",
       "      <th>client</th>\n",
       "      <th>imbalance_type</th>\n",
       "      <th>imbalance_value</th>\n",
       "      <th>label_imbalance</th>\n",
       "      <th>label_distribution_imbalance</th>\n",
       "      <th>quantity_imbalance</th>\n",
       "    </tr>\n",
       "  </thead>\n",
       "  <tbody>\n",
       "    <tr>\n",
       "      <th>0</th>\n",
       "      <td>0</td>\n",
       "      <td>label_distribution</td>\n",
       "      <td>0.1</td>\n",
       "      <td>1.600000</td>\n",
       "      <td>0.012083</td>\n",
       "      <td>1.139089</td>\n",
       "    </tr>\n",
       "    <tr>\n",
       "      <th>1</th>\n",
       "      <td>1</td>\n",
       "      <td>label_distribution</td>\n",
       "      <td>0.1</td>\n",
       "      <td>1.514286</td>\n",
       "      <td>0.005120</td>\n",
       "      <td>0.933253</td>\n",
       "    </tr>\n",
       "    <tr>\n",
       "      <th>2</th>\n",
       "      <td>2</td>\n",
       "      <td>label_distribution</td>\n",
       "      <td>0.1</td>\n",
       "      <td>1.538462</td>\n",
       "      <td>0.009471</td>\n",
       "      <td>0.903277</td>\n",
       "    </tr>\n",
       "    <tr>\n",
       "      <th>3</th>\n",
       "      <td>3</td>\n",
       "      <td>label_distribution</td>\n",
       "      <td>0.1</td>\n",
       "      <td>1.432432</td>\n",
       "      <td>0.007023</td>\n",
       "      <td>0.903277</td>\n",
       "    </tr>\n",
       "    <tr>\n",
       "      <th>4</th>\n",
       "      <td>4</td>\n",
       "      <td>label_distribution</td>\n",
       "      <td>0.1</td>\n",
       "      <td>1.460317</td>\n",
       "      <td>0.005224</td>\n",
       "      <td>1.558753</td>\n",
       "    </tr>\n",
       "    <tr>\n",
       "      <th>...</th>\n",
       "      <td>...</td>\n",
       "      <td>...</td>\n",
       "      <td>...</td>\n",
       "      <td>...</td>\n",
       "      <td>...</td>\n",
       "      <td>...</td>\n",
       "    </tr>\n",
       "    <tr>\n",
       "      <th>75</th>\n",
       "      <td>75</td>\n",
       "      <td>label_distribution</td>\n",
       "      <td>0.1</td>\n",
       "      <td>1.869565</td>\n",
       "      <td>0.018919</td>\n",
       "      <td>0.599520</td>\n",
       "    </tr>\n",
       "    <tr>\n",
       "      <th>76</th>\n",
       "      <td>76</td>\n",
       "      <td>label_distribution</td>\n",
       "      <td>0.1</td>\n",
       "      <td>1.571429</td>\n",
       "      <td>0.010420</td>\n",
       "      <td>0.695444</td>\n",
       "    </tr>\n",
       "    <tr>\n",
       "      <th>77</th>\n",
       "      <td>77</td>\n",
       "      <td>label_distribution</td>\n",
       "      <td>0.1</td>\n",
       "      <td>1.558824</td>\n",
       "      <td>0.009417</td>\n",
       "      <td>0.809353</td>\n",
       "    </tr>\n",
       "    <tr>\n",
       "      <th>78</th>\n",
       "      <td>78</td>\n",
       "      <td>label_distribution</td>\n",
       "      <td>0.1</td>\n",
       "      <td>1.416667</td>\n",
       "      <td>0.006018</td>\n",
       "      <td>0.565548</td>\n",
       "    </tr>\n",
       "    <tr>\n",
       "      <th>79</th>\n",
       "      <td>79</td>\n",
       "      <td>label_distribution</td>\n",
       "      <td>0.1</td>\n",
       "      <td>1.465116</td>\n",
       "      <td>0.005392</td>\n",
       "      <td>0.999201</td>\n",
       "    </tr>\n",
       "  </tbody>\n",
       "</table>\n",
       "<p>80 rows × 6 columns</p>\n",
       "</div>"
      ],
      "text/plain": [
       "    client      imbalance_type  imbalance_value  label_imbalance  \\\n",
       "0        0  label_distribution              0.1         1.600000   \n",
       "1        1  label_distribution              0.1         1.514286   \n",
       "2        2  label_distribution              0.1         1.538462   \n",
       "3        3  label_distribution              0.1         1.432432   \n",
       "4        4  label_distribution              0.1         1.460317   \n",
       "..     ...                 ...              ...              ...   \n",
       "75      75  label_distribution              0.1         1.869565   \n",
       "76      76  label_distribution              0.1         1.571429   \n",
       "77      77  label_distribution              0.1         1.558824   \n",
       "78      78  label_distribution              0.1         1.416667   \n",
       "79      79  label_distribution              0.1         1.465116   \n",
       "\n",
       "    label_distribution_imbalance  quantity_imbalance  \n",
       "0                       0.012083            1.139089  \n",
       "1                       0.005120            0.933253  \n",
       "2                       0.009471            0.903277  \n",
       "3                       0.007023            0.903277  \n",
       "4                       0.005224            1.558753  \n",
       "..                           ...                 ...  \n",
       "75                      0.018919            0.599520  \n",
       "76                      0.010420            0.695444  \n",
       "77                      0.009417            0.809353  \n",
       "78                      0.006018            0.565548  \n",
       "79                      0.005392            0.999201  \n",
       "\n",
       "[80 rows x 6 columns]"
      ]
     },
     "execution_count": 11,
     "metadata": {},
     "output_type": "execute_result"
    }
   ],
   "source": [
    "imbalances = pd.DataFrame({\n",
    "    \"client\": range(len(li)),\n",
    "    \"imbalance_type\": \"label_distribution\",\n",
    "    \"imbalance_value\": 0.1,\n",
    "    \"label_imbalance\": li,\n",
    "    \"label_distribution_imbalance\": ldi,\n",
    "    \"quantity_imbalance\": qi,\n",
    "})\n",
    "imbalances"
   ]
  },
  {
   "cell_type": "code",
   "execution_count": 12,
   "id": "67e57c832ab1ade1",
   "metadata": {
    "ExecuteTime": {
     "end_time": "2024-04-23T20:57:53.010429Z",
     "start_time": "2024-04-23T20:57:52.807764Z"
    },
    "collapsed": false
   },
   "outputs": [
    {
     "data": {
      "text/plain": [
       "<Axes: ylabel='Count'>"
      ]
     },
     "execution_count": 12,
     "metadata": {},
     "output_type": "execute_result"
    },
    {
     "data": {
      "image/png": "[encoded data removed]",
      "text/plain": [
       "<Figure size 640x480 with 1 Axes>"
      ]
     },
     "metadata": {},
     "output_type": "display_data"
    }
   ],
   "source": [
    "sns.histplot(train_lens)"
   ]
  },
  {
   "cell_type": "code",
   "execution_count": 13,
   "id": "a3bd2ada906f190",
   "metadata": {
    "ExecuteTime": {
     "end_time": "2024-04-23T20:57:53.174892Z",
     "start_time": "2024-04-23T20:57:53.011393Z"
    },
    "collapsed": false
   },
   "outputs": [
    {
     "data": {
      "text/plain": [
       "<Axes: ylabel='Count'>"
      ]
     },
     "execution_count": 13,
     "metadata": {},
     "output_type": "execute_result"
    },
    {
     "data": {
      "image/png": "[encoded data removed]",
      "text/plain": [
       "<Figure size 640x480 with 1 Axes>"
      ]
     },
     "metadata": {},
     "output_type": "display_data"
    }
   ],
   "source": [
    "sns.histplot(test_lens)"
   ]
  },
  {
   "cell_type": "code",
   "execution_count": 14,
   "id": "55b1adabc25a4a77",
   "metadata": {
    "ExecuteTime": {
     "end_time": "2024-04-23T21:01:57.428883Z",
     "start_time": "2024-04-23T20:57:57.633319Z"
    },
    "collapsed": false
   },
   "outputs": [
    {
     "data": {
      "application/vnd.jupyter.widget-view+json": {
       "model_id": "3e8377010ecc480ab88742e72cef15be",
       "version_major": 2,
       "version_minor": 0
      },
      "text/plain": [
       "Round:   0%|          | 0/10 [00:00<?, ?it/s]"
      ]
     },
     "metadata": {},
     "output_type": "display_data"
    },
    {
     "name": "stderr",
     "output_type": "stream",
     "text": [
      "/home/lukas/Work/masterthesis-clustered-fl/federated_learning/flsc.py:186: UserWarning: No clients for cluster 1\n",
      "  warnings.warn(f\"No clients for cluster {c}\")\n",
      "/home/lukas/Work/masterthesis-clustered-fl/federated_learning/flsc.py:186: UserWarning: No clients for cluster 0\n",
      "  warnings.warn(f\"No clients for cluster {c}\")\n",
      "/home/lukas/Work/masterthesis-clustered-fl/federated_learning/flsc.py:186: UserWarning: No clients for cluster 1\n",
      "  warnings.warn(f\"No clients for cluster {c}\")\n",
      "/home/lukas/Work/masterthesis-clustered-fl/federated_learning/flsc.py:186: UserWarning: No clients for cluster 0\n",
      "  warnings.warn(f\"No clients for cluster {c}\")\n",
      "/home/lukas/Work/masterthesis-clustered-fl/federated_learning/flsc.py:186: UserWarning: No clients for cluster 1\n",
      "  warnings.warn(f\"No clients for cluster {c}\")\n",
      "/home/lukas/Work/masterthesis-clustered-fl/federated_learning/flsc.py:186: UserWarning: No clients for cluster 0\n",
      "  warnings.warn(f\"No clients for cluster {c}\")\n",
      "/home/lukas/Work/masterthesis-clustered-fl/federated_learning/flsc.py:186: UserWarning: No clients for cluster 1\n",
      "  warnings.warn(f\"No clients for cluster {c}\")\n",
      "/home/lukas/Work/masterthesis-clustered-fl/federated_learning/flsc.py:186: UserWarning: No clients for cluster 0\n",
      "  warnings.warn(f\"No clients for cluster {c}\")\n",
      "/home/lukas/Work/masterthesis-clustered-fl/federated_learning/flsc.py:186: UserWarning: No clients for cluster 1\n",
      "  warnings.warn(f\"No clients for cluster {c}\")\n",
      "/home/lukas/Work/masterthesis-clustered-fl/federated_learning/flsc.py:186: UserWarning: No clients for cluster 0\n",
      "  warnings.warn(f\"No clients for cluster {c}\")\n",
      "/home/lukas/Work/masterthesis-clustered-fl/federated_learning/flsc.py:186: UserWarning: No clients for cluster 1\n",
      "  warnings.warn(f\"No clients for cluster {c}\")\n",
      "/home/lukas/Work/masterthesis-clustered-fl/federated_learning/flsc.py:186: UserWarning: No clients for cluster 0\n",
      "  warnings.warn(f\"No clients for cluster {c}\")\n",
      "/home/lukas/Work/masterthesis-clustered-fl/federated_learning/flsc.py:186: UserWarning: No clients for cluster 1\n",
      "  warnings.warn(f\"No clients for cluster {c}\")\n",
      "/home/lukas/Work/masterthesis-clustered-fl/federated_learning/flsc.py:186: UserWarning: No clients for cluster 0\n",
      "  warnings.warn(f\"No clients for cluster {c}\")\n",
      "/home/lukas/Work/masterthesis-clustered-fl/federated_learning/flsc.py:186: UserWarning: No clients for cluster 1\n",
      "  warnings.warn(f\"No clients for cluster {c}\")\n",
      "/home/lukas/Work/masterthesis-clustered-fl/federated_learning/flsc.py:186: UserWarning: No clients for cluster 0\n",
      "  warnings.warn(f\"No clients for cluster {c}\")\n",
      "/home/lukas/Work/masterthesis-clustered-fl/federated_learning/flsc.py:186: UserWarning: No clients for cluster 1\n",
      "  warnings.warn(f\"No clients for cluster {c}\")\n"
     ]
    }
   ],
   "source": [
    "results = run_flsc(conf, train, test) if conf.algorithm.lower() in [\"ifca\", \"flsc\"] else run_fedprox(conf, train, test)"
   ]
  },
  {
   "cell_type": "code",
   "execution_count": 15,
   "id": "7d7d8adedb37c11a",
   "metadata": {
    "ExecuteTime": {
     "end_time": "2024-04-23T21:02:33.822418Z",
     "start_time": "2024-04-23T21:02:33.788940Z"
    },
    "collapsed": false
   },
   "outputs": [
    {
     "data": {
      "text/html": [
       "<div>\n",
       "<style scoped>\n",
       "    .dataframe tbody tr th:only-of-type {\n",
       "        vertical-align: middle;\n",
       "    }\n",
       "\n",
       "    .dataframe tbody tr th {\n",
       "        vertical-align: top;\n",
       "    }\n",
       "\n",
       "    .dataframe thead th {\n",
       "        text-align: right;\n",
       "    }\n",
       "</style>\n",
       "<table border=\"1\" class=\"dataframe\">\n",
       "  <thead>\n",
       "    <tr style=\"text-align: right;\">\n",
       "      <th></th>\n",
       "      <th>round</th>\n",
       "      <th>client</th>\n",
       "      <th>stage</th>\n",
       "      <th>variable</th>\n",
       "      <th>value</th>\n",
       "    </tr>\n",
       "  </thead>\n",
       "  <tbody>\n",
       "    <tr>\n",
       "      <th>0</th>\n",
       "      <td>0</td>\n",
       "      <td>0</td>\n",
       "      <td>train</td>\n",
       "      <td>loss</td>\n",
       "      <td>2.159223</td>\n",
       "    </tr>\n",
       "    <tr>\n",
       "      <th>1</th>\n",
       "      <td>0</td>\n",
       "      <td>0</td>\n",
       "      <td>train</td>\n",
       "      <td>n_samples</td>\n",
       "      <td>570.000000</td>\n",
       "    </tr>\n",
       "    <tr>\n",
       "      <th>2</th>\n",
       "      <td>0</td>\n",
       "      <td>0</td>\n",
       "      <td>test</td>\n",
       "      <td>loss</td>\n",
       "      <td>1.933756</td>\n",
       "    </tr>\n",
       "    <tr>\n",
       "      <th>3</th>\n",
       "      <td>0</td>\n",
       "      <td>0</td>\n",
       "      <td>test</td>\n",
       "      <td>f1</td>\n",
       "      <td>0.272003</td>\n",
       "    </tr>\n",
       "    <tr>\n",
       "      <th>4</th>\n",
       "      <td>0</td>\n",
       "      <td>0</td>\n",
       "      <td>test</td>\n",
       "      <td>n_samples</td>\n",
       "      <td>142.000000</td>\n",
       "    </tr>\n",
       "    <tr>\n",
       "      <th>...</th>\n",
       "      <td>...</td>\n",
       "      <td>...</td>\n",
       "      <td>...</td>\n",
       "      <td>...</td>\n",
       "      <td>...</td>\n",
       "    </tr>\n",
       "    <tr>\n",
       "      <th>3995</th>\n",
       "      <td>9</td>\n",
       "      <td>79</td>\n",
       "      <td>train</td>\n",
       "      <td>loss</td>\n",
       "      <td>1.606622</td>\n",
       "    </tr>\n",
       "    <tr>\n",
       "      <th>3996</th>\n",
       "      <td>9</td>\n",
       "      <td>79</td>\n",
       "      <td>train</td>\n",
       "      <td>n_samples</td>\n",
       "      <td>500.000000</td>\n",
       "    </tr>\n",
       "    <tr>\n",
       "      <th>3997</th>\n",
       "      <td>9</td>\n",
       "      <td>79</td>\n",
       "      <td>test</td>\n",
       "      <td>loss</td>\n",
       "      <td>1.999326</td>\n",
       "    </tr>\n",
       "    <tr>\n",
       "      <th>3998</th>\n",
       "      <td>9</td>\n",
       "      <td>79</td>\n",
       "      <td>test</td>\n",
       "      <td>f1</td>\n",
       "      <td>0.250685</td>\n",
       "    </tr>\n",
       "    <tr>\n",
       "      <th>3999</th>\n",
       "      <td>9</td>\n",
       "      <td>79</td>\n",
       "      <td>test</td>\n",
       "      <td>n_samples</td>\n",
       "      <td>124.000000</td>\n",
       "    </tr>\n",
       "  </tbody>\n",
       "</table>\n",
       "<p>4000 rows × 5 columns</p>\n",
       "</div>"
      ],
      "text/plain": [
       "      round client  stage   variable       value\n",
       "0         0      0  train       loss    2.159223\n",
       "1         0      0  train  n_samples  570.000000\n",
       "2         0      0   test       loss    1.933756\n",
       "3         0      0   test         f1    0.272003\n",
       "4         0      0   test  n_samples  142.000000\n",
       "...     ...    ...    ...        ...         ...\n",
       "3995      9     79  train       loss    1.606622\n",
       "3996      9     79  train  n_samples  500.000000\n",
       "3997      9     79   test       loss    1.999326\n",
       "3998      9     79   test         f1    0.250685\n",
       "3999      9     79   test  n_samples  124.000000\n",
       "\n",
       "[4000 rows x 5 columns]"
      ]
     },
     "execution_count": 15,
     "metadata": {},
     "output_type": "execute_result"
    }
   ],
   "source": [
    "metrics, infos = results.as_dataframes()\n",
    "metrics"
   ]
  },
  {
   "cell_type": "code",
   "execution_count": 16,
   "id": "82b90ae4ee2a7a0b",
   "metadata": {
    "ExecuteTime": {
     "end_time": "2024-04-23T21:02:36.264126Z",
     "start_time": "2024-04-23T21:02:36.258958Z"
    },
    "collapsed": false
   },
   "outputs": [],
   "source": [
    "df = metrics.query(\"stage == 'train' and variable == 'loss'\")\n",
    "# df = results.query(\"stage == 'test' and variable == 'f1'\")"
   ]
  },
  {
   "cell_type": "code",
   "execution_count": 17,
   "id": "bc01f274ab000db2",
   "metadata": {
    "ExecuteTime": {
     "end_time": "2024-04-23T21:02:38.572791Z",
     "start_time": "2024-04-23T21:02:38.312081Z"
    },
    "collapsed": false
   },
   "outputs": [
    {
     "data": {
      "text/plain": [
       "<Axes: xlabel='round', ylabel='value'>"
      ]
     },
     "execution_count": 17,
     "metadata": {},
     "output_type": "execute_result"
    },
    {
     "data": {
      "image/png": "[encoded data removed]",
      "text/plain": [
       "<Figure size 640x480 with 1 Axes>"
      ]
     },
     "metadata": {},
     "output_type": "display_data"
    }
   ],
   "source": [
    "sns.lineplot(df, x=\"round\", y=\"value\")"
   ]
  },
  {
   "cell_type": "code",
   "execution_count": 18,
   "id": "1cfb47bdb9c51463",
   "metadata": {
    "ExecuteTime": {
     "end_time": "2024-04-23T21:02:40.802360Z",
     "start_time": "2024-04-23T21:02:40.793100Z"
    }
   },
   "outputs": [],
   "source": [
    "import json\n",
    "infos = pd.concat((infos.drop(columns=\"info\"), pd.json_normalize(infos['info'].apply(json.loads))), axis=1)"
   ]
  },
  {
   "cell_type": "code",
   "execution_count": 19,
   "id": "d25f04fea3395baf",
   "metadata": {
    "ExecuteTime": {
     "end_time": "2024-04-23T21:02:41.934264Z",
     "start_time": "2024-04-23T21:02:41.924234Z"
    },
    "collapsed": false
   },
   "outputs": [],
   "source": [
    "df = infos.query(\"stage == 'train'\")\\\n",
    "    .drop(columns=[\"stage\", \"client\"])\\\n",
    "    .groupby([\"round\", \"cluster_identities\"])\\\n",
    "    .size()\\\n",
    "    .reset_index()\\\n",
    "    .rename(columns={0: \"count\"})"
   ]
  },
  {
   "cell_type": "code",
   "execution_count": 20,
   "id": "42056865a5804545",
   "metadata": {
    "ExecuteTime": {
     "end_time": "2024-04-23T21:02:43.113023Z",
     "start_time": "2024-04-23T21:02:43.103854Z"
    },
    "collapsed": false
   },
   "outputs": [
    {
     "data": {
      "text/html": [
       "<div>\n",
       "<style scoped>\n",
       "    .dataframe tbody tr th:only-of-type {\n",
       "        vertical-align: middle;\n",
       "    }\n",
       "\n",
       "    .dataframe tbody tr th {\n",
       "        vertical-align: top;\n",
       "    }\n",
       "\n",
       "    .dataframe thead th {\n",
       "        text-align: right;\n",
       "    }\n",
       "</style>\n",
       "<table border=\"1\" class=\"dataframe\">\n",
       "  <thead>\n",
       "    <tr style=\"text-align: right;\">\n",
       "      <th></th>\n",
       "      <th>round</th>\n",
       "      <th>cluster_identities</th>\n",
       "      <th>count</th>\n",
       "    </tr>\n",
       "  </thead>\n",
       "  <tbody>\n",
       "    <tr>\n",
       "      <th>0</th>\n",
       "      <td>0</td>\n",
       "      <td>0</td>\n",
       "      <td>20</td>\n",
       "    </tr>\n",
       "    <tr>\n",
       "      <th>1</th>\n",
       "      <td>0</td>\n",
       "      <td>1</td>\n",
       "      <td>17</td>\n",
       "    </tr>\n",
       "    <tr>\n",
       "      <th>2</th>\n",
       "      <td>0</td>\n",
       "      <td>2</td>\n",
       "      <td>20</td>\n",
       "    </tr>\n",
       "    <tr>\n",
       "      <th>3</th>\n",
       "      <td>0</td>\n",
       "      <td>3</td>\n",
       "      <td>23</td>\n",
       "    </tr>\n",
       "    <tr>\n",
       "      <th>4</th>\n",
       "      <td>1</td>\n",
       "      <td>0</td>\n",
       "      <td>2</td>\n",
       "    </tr>\n",
       "    <tr>\n",
       "      <th>5</th>\n",
       "      <td>1</td>\n",
       "      <td>2</td>\n",
       "      <td>77</td>\n",
       "    </tr>\n",
       "    <tr>\n",
       "      <th>6</th>\n",
       "      <td>1</td>\n",
       "      <td>3</td>\n",
       "      <td>1</td>\n",
       "    </tr>\n",
       "    <tr>\n",
       "      <th>7</th>\n",
       "      <td>2</td>\n",
       "      <td>2</td>\n",
       "      <td>24</td>\n",
       "    </tr>\n",
       "    <tr>\n",
       "      <th>8</th>\n",
       "      <td>2</td>\n",
       "      <td>3</td>\n",
       "      <td>56</td>\n",
       "    </tr>\n",
       "    <tr>\n",
       "      <th>9</th>\n",
       "      <td>3</td>\n",
       "      <td>2</td>\n",
       "      <td>24</td>\n",
       "    </tr>\n",
       "    <tr>\n",
       "      <th>10</th>\n",
       "      <td>3</td>\n",
       "      <td>3</td>\n",
       "      <td>56</td>\n",
       "    </tr>\n",
       "    <tr>\n",
       "      <th>11</th>\n",
       "      <td>4</td>\n",
       "      <td>2</td>\n",
       "      <td>22</td>\n",
       "    </tr>\n",
       "    <tr>\n",
       "      <th>12</th>\n",
       "      <td>4</td>\n",
       "      <td>3</td>\n",
       "      <td>58</td>\n",
       "    </tr>\n",
       "    <tr>\n",
       "      <th>13</th>\n",
       "      <td>5</td>\n",
       "      <td>2</td>\n",
       "      <td>20</td>\n",
       "    </tr>\n",
       "    <tr>\n",
       "      <th>14</th>\n",
       "      <td>5</td>\n",
       "      <td>3</td>\n",
       "      <td>60</td>\n",
       "    </tr>\n",
       "    <tr>\n",
       "      <th>15</th>\n",
       "      <td>6</td>\n",
       "      <td>2</td>\n",
       "      <td>43</td>\n",
       "    </tr>\n",
       "    <tr>\n",
       "      <th>16</th>\n",
       "      <td>6</td>\n",
       "      <td>3</td>\n",
       "      <td>37</td>\n",
       "    </tr>\n",
       "    <tr>\n",
       "      <th>17</th>\n",
       "      <td>7</td>\n",
       "      <td>2</td>\n",
       "      <td>36</td>\n",
       "    </tr>\n",
       "    <tr>\n",
       "      <th>18</th>\n",
       "      <td>7</td>\n",
       "      <td>3</td>\n",
       "      <td>44</td>\n",
       "    </tr>\n",
       "    <tr>\n",
       "      <th>19</th>\n",
       "      <td>8</td>\n",
       "      <td>2</td>\n",
       "      <td>31</td>\n",
       "    </tr>\n",
       "    <tr>\n",
       "      <th>20</th>\n",
       "      <td>8</td>\n",
       "      <td>3</td>\n",
       "      <td>49</td>\n",
       "    </tr>\n",
       "    <tr>\n",
       "      <th>21</th>\n",
       "      <td>9</td>\n",
       "      <td>2</td>\n",
       "      <td>36</td>\n",
       "    </tr>\n",
       "    <tr>\n",
       "      <th>22</th>\n",
       "      <td>9</td>\n",
       "      <td>3</td>\n",
       "      <td>44</td>\n",
       "    </tr>\n",
       "  </tbody>\n",
       "</table>\n",
       "</div>"
      ],
      "text/plain": [
       "    round cluster_identities  count\n",
       "0       0                  0     20\n",
       "1       0                  1     17\n",
       "2       0                  2     20\n",
       "3       0                  3     23\n",
       "4       1                  0      2\n",
       "5       1                  2     77\n",
       "6       1                  3      1\n",
       "7       2                  2     24\n",
       "8       2                  3     56\n",
       "9       3                  2     24\n",
       "10      3                  3     56\n",
       "11      4                  2     22\n",
       "12      4                  3     58\n",
       "13      5                  2     20\n",
       "14      5                  3     60\n",
       "15      6                  2     43\n",
       "16      6                  3     37\n",
       "17      7                  2     36\n",
       "18      7                  3     44\n",
       "19      8                  2     31\n",
       "20      8                  3     49\n",
       "21      9                  2     36\n",
       "22      9                  3     44"
      ]
     },
     "execution_count": 20,
     "metadata": {},
     "output_type": "execute_result"
    }
   ],
   "source": [
    "df "
   ]
  },
  {
   "cell_type": "code",
   "execution_count": 17,
   "id": "a22351fb99e19910",
   "metadata": {
    "collapsed": false
   },
   "outputs": [],
   "source": []
  }
 ],
 "metadata": {
  "kernelspec": {
   "display_name": "Python 3",
   "language": "python",
   "name": "python3"
  },
  "language_info": {
   "codemirror_mode": {
    "name": "ipython",
    "version": 2
   },
   "file_extension": ".py",
   "mimetype": "text/x-python",
   "name": "python",
   "nbconvert_exporter": "python",
   "pygments_lexer": "ipython2",
   "version": "2.7.6"
  }
 },
 "nbformat": 4,
 "nbformat_minor": 5
}
