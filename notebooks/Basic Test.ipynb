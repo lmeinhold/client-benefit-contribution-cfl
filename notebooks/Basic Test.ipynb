{
 "cells": [
  {
   "cell_type": "code",
   "execution_count": 1,
   "id": "initial_id",
   "metadata": {
    "collapsed": true,
    "jupyter": {
     "outputs_hidden": true
    },
    "ExecuteTime": {
     "end_time": "2024-03-22T10:12:12.886497970Z",
     "start_time": "2024-03-22T10:12:10.386306595Z"
    }
   },
   "outputs": [],
   "source": [
    "import numpy as np\n",
    "import pandas as pd\n",
    "\n",
    "import seaborn as sns\n",
    "import matplotlib.pyplot as plt\n",
    "\n",
    "from train import run_flsc, FlscConfig, create_config, get_data_for_config, run_fedprox"
   ]
  },
  {
   "cell_type": "code",
   "execution_count": 2,
   "id": "acb20b51a6422007",
   "metadata": {
    "collapsed": false,
    "ExecuteTime": {
     "end_time": "2024-03-22T10:12:12.887534972Z",
     "start_time": "2024-03-22T10:12:12.880428660Z"
    }
   },
   "outputs": [],
   "source": [
    "from train import FedProxConfig\n",
    "\n",
    "# conf = create_config(\n",
    "#      algorithm=\"ifca\",\n",
    "#      dataset=\"cifar10\",\n",
    "#      rounds=5,\n",
    "#      epochs=5,\n",
    "#      n_clients=100,\n",
    "#      clients_per_round=1.0,\n",
    "#      clusters=4,\n",
    "#      clusters_per_client=3,\n",
    "#      imbalance_type=\"label_distribution\",\n",
    "#      imbalance_value=10,\n",
    "#      penalty=0,\n",
    "#  )\n",
    "\n",
    "conf = FedProxConfig(\n",
    "    algorithm=\"fedavg\",\n",
    "    dataset=\"mnist\",\n",
    "    rounds=10,\n",
    "    epochs=8,\n",
    "    clients_per_round=1.0,\n",
    "    imbalance_type=\"label_distribution\",\n",
    "    imbalance_value=0.1,\n",
    "    penalty=0,\n",
    "    n_clients=30\n",
    ")"
   ]
  },
  {
   "cell_type": "code",
   "execution_count": 3,
   "id": "a97f7d5611d22c36",
   "metadata": {
    "collapsed": false,
    "ExecuteTime": {
     "end_time": "2024-03-22T10:12:12.948885533Z",
     "start_time": "2024-03-22T10:12:12.884134696Z"
    }
   },
   "outputs": [],
   "source": [
    "train, test = get_data_for_config(conf.dataset, conf.n_clients, conf.imbalance_type, conf.imbalance_value, seed=42, logfile=None)"
   ]
  },
  {
   "cell_type": "code",
   "execution_count": 4,
   "id": "faed090bd4b696e6",
   "metadata": {
    "collapsed": false,
    "ExecuteTime": {
     "end_time": "2024-03-22T10:12:12.977329877Z",
     "start_time": "2024-03-22T10:12:12.950292558Z"
    }
   },
   "outputs": [],
   "source": [
    "def dataset_lens(ds):\n",
    "    return np.array(list(map(lambda dl: len(dl.dataset), ds)))"
   ]
  },
  {
   "cell_type": "code",
   "execution_count": 5,
   "id": "d20a61aa5868ac5e",
   "metadata": {
    "collapsed": false,
    "ExecuteTime": {
     "end_time": "2024-03-22T10:12:12.978221402Z",
     "start_time": "2024-03-22T10:12:12.953272284Z"
    }
   },
   "outputs": [],
   "source": [
    "train_lens = dataset_lens(train)\n",
    "test_lens = dataset_lens(test)"
   ]
  },
  {
   "cell_type": "code",
   "execution_count": 6,
   "id": "8736acb4cfabcc4b",
   "metadata": {
    "collapsed": false,
    "ExecuteTime": {
     "end_time": "2024-03-22T10:12:17.060105169Z",
     "start_time": "2024-03-22T10:12:12.956769944Z"
    }
   },
   "outputs": [],
   "source": [
    "from datasets.imbalancing.stats import li_ldi_qi\n",
    "datasets = list(map(lambda dl: dl.dataset, train))\n",
    "li, ldi, qi = li_ldi_qi(datasets)"
   ]
  },
  {
   "cell_type": "code",
   "execution_count": 7,
   "id": "8a8bc6426b7be9b5",
   "metadata": {
    "collapsed": false,
    "ExecuteTime": {
     "end_time": "2024-03-22T10:12:17.089454153Z",
     "start_time": "2024-03-22T10:12:17.065182032Z"
    }
   },
   "outputs": [
    {
     "data": {
      "text/plain": "    client      imbalance_type  imbalance_value  label_imbalance  \\\n0        0  label_distribution              0.1           1502.0   \n1        1  label_distribution              0.1            540.0   \n2        2  label_distribution              0.1           1504.0   \n3        3  label_distribution              0.1            257.0   \n4        4  label_distribution              0.1           1043.0   \n5        5  label_distribution              0.1           2349.0   \n6        6  label_distribution              0.1           2583.0   \n7        7  label_distribution              0.1            764.0   \n8        8  label_distribution              0.1           1205.0   \n9        9  label_distribution              0.1           1915.0   \n10      10  label_distribution              0.1            806.0   \n11      11  label_distribution              0.1            180.0   \n12      12  label_distribution              0.1           1763.0   \n13      13  label_distribution              0.1           1295.0   \n14      14  label_distribution              0.1           1043.0   \n15      15  label_distribution              0.1            988.0   \n16      16  label_distribution              0.1            464.0   \n17      17  label_distribution              0.1           1616.0   \n18      18  label_distribution              0.1           2180.0   \n19      19  label_distribution              0.1           1847.0   \n20      20  label_distribution              0.1            442.0   \n21      21  label_distribution              0.1            837.0   \n22      22  label_distribution              0.1           1229.0   \n23      23  label_distribution              0.1            777.0   \n24      24  label_distribution              0.1            108.0   \n25      25  label_distribution              0.1           1824.0   \n26      26  label_distribution              0.1            892.0   \n27      27  label_distribution              0.1            937.0   \n28      28  label_distribution              0.1           1126.0   \n29      29  label_distribution              0.1           1416.0   \n\n    label_distribution_imbalance  quantity_imbalance  \n0                       0.662947            1.039094  \n1                       0.529154            0.499865  \n2                       0.506810            1.599567  \n3                       0.687030            0.174953  \n4                       0.551666            1.219670  \n5                       0.577620            2.003207  \n6                       0.529752            2.603670  \n7                       0.534899            0.794785  \n8                       0.563697            1.182180  \n9                       0.685836            1.197176  \n10                      0.639395            0.515485  \n11                      0.679453            0.116843  \n12                      0.629680            1.344011  \n13                      0.559865            1.207173  \n14                      0.475081            1.108450  \n15                      0.630134            0.695437  \n16                      0.553042            0.447379  \n17                      0.688695            1.009727  \n18                      0.673260            1.431487  \n19                      0.671475            1.177181  \n20                      0.628219            0.324912  \n21                      0.642199            0.607336  \n22                      0.580185            1.012226  \n23                      0.671429            0.514861  \n24                      0.572837            0.102472  \n25                      0.688695            1.139691  \n26                      0.541607            1.108450  \n27                      0.468209            1.188428  \n28                      0.532291            1.323392  \n29                      0.575511            1.310895  ",
      "text/html": "<div>\n<style scoped>\n    .dataframe tbody tr th:only-of-type {\n        vertical-align: middle;\n    }\n\n    .dataframe tbody tr th {\n        vertical-align: top;\n    }\n\n    .dataframe thead th {\n        text-align: right;\n    }\n</style>\n<table border=\"1\" class=\"dataframe\">\n  <thead>\n    <tr style=\"text-align: right;\">\n      <th></th>\n      <th>client</th>\n      <th>imbalance_type</th>\n      <th>imbalance_value</th>\n      <th>label_imbalance</th>\n      <th>label_distribution_imbalance</th>\n      <th>quantity_imbalance</th>\n    </tr>\n  </thead>\n  <tbody>\n    <tr>\n      <th>0</th>\n      <td>0</td>\n      <td>label_distribution</td>\n      <td>0.1</td>\n      <td>1502.0</td>\n      <td>0.662947</td>\n      <td>1.039094</td>\n    </tr>\n    <tr>\n      <th>1</th>\n      <td>1</td>\n      <td>label_distribution</td>\n      <td>0.1</td>\n      <td>540.0</td>\n      <td>0.529154</td>\n      <td>0.499865</td>\n    </tr>\n    <tr>\n      <th>2</th>\n      <td>2</td>\n      <td>label_distribution</td>\n      <td>0.1</td>\n      <td>1504.0</td>\n      <td>0.506810</td>\n      <td>1.599567</td>\n    </tr>\n    <tr>\n      <th>3</th>\n      <td>3</td>\n      <td>label_distribution</td>\n      <td>0.1</td>\n      <td>257.0</td>\n      <td>0.687030</td>\n      <td>0.174953</td>\n    </tr>\n    <tr>\n      <th>4</th>\n      <td>4</td>\n      <td>label_distribution</td>\n      <td>0.1</td>\n      <td>1043.0</td>\n      <td>0.551666</td>\n      <td>1.219670</td>\n    </tr>\n    <tr>\n      <th>5</th>\n      <td>5</td>\n      <td>label_distribution</td>\n      <td>0.1</td>\n      <td>2349.0</td>\n      <td>0.577620</td>\n      <td>2.003207</td>\n    </tr>\n    <tr>\n      <th>6</th>\n      <td>6</td>\n      <td>label_distribution</td>\n      <td>0.1</td>\n      <td>2583.0</td>\n      <td>0.529752</td>\n      <td>2.603670</td>\n    </tr>\n    <tr>\n      <th>7</th>\n      <td>7</td>\n      <td>label_distribution</td>\n      <td>0.1</td>\n      <td>764.0</td>\n      <td>0.534899</td>\n      <td>0.794785</td>\n    </tr>\n    <tr>\n      <th>8</th>\n      <td>8</td>\n      <td>label_distribution</td>\n      <td>0.1</td>\n      <td>1205.0</td>\n      <td>0.563697</td>\n      <td>1.182180</td>\n    </tr>\n    <tr>\n      <th>9</th>\n      <td>9</td>\n      <td>label_distribution</td>\n      <td>0.1</td>\n      <td>1915.0</td>\n      <td>0.685836</td>\n      <td>1.197176</td>\n    </tr>\n    <tr>\n      <th>10</th>\n      <td>10</td>\n      <td>label_distribution</td>\n      <td>0.1</td>\n      <td>806.0</td>\n      <td>0.639395</td>\n      <td>0.515485</td>\n    </tr>\n    <tr>\n      <th>11</th>\n      <td>11</td>\n      <td>label_distribution</td>\n      <td>0.1</td>\n      <td>180.0</td>\n      <td>0.679453</td>\n      <td>0.116843</td>\n    </tr>\n    <tr>\n      <th>12</th>\n      <td>12</td>\n      <td>label_distribution</td>\n      <td>0.1</td>\n      <td>1763.0</td>\n      <td>0.629680</td>\n      <td>1.344011</td>\n    </tr>\n    <tr>\n      <th>13</th>\n      <td>13</td>\n      <td>label_distribution</td>\n      <td>0.1</td>\n      <td>1295.0</td>\n      <td>0.559865</td>\n      <td>1.207173</td>\n    </tr>\n    <tr>\n      <th>14</th>\n      <td>14</td>\n      <td>label_distribution</td>\n      <td>0.1</td>\n      <td>1043.0</td>\n      <td>0.475081</td>\n      <td>1.108450</td>\n    </tr>\n    <tr>\n      <th>15</th>\n      <td>15</td>\n      <td>label_distribution</td>\n      <td>0.1</td>\n      <td>988.0</td>\n      <td>0.630134</td>\n      <td>0.695437</td>\n    </tr>\n    <tr>\n      <th>16</th>\n      <td>16</td>\n      <td>label_distribution</td>\n      <td>0.1</td>\n      <td>464.0</td>\n      <td>0.553042</td>\n      <td>0.447379</td>\n    </tr>\n    <tr>\n      <th>17</th>\n      <td>17</td>\n      <td>label_distribution</td>\n      <td>0.1</td>\n      <td>1616.0</td>\n      <td>0.688695</td>\n      <td>1.009727</td>\n    </tr>\n    <tr>\n      <th>18</th>\n      <td>18</td>\n      <td>label_distribution</td>\n      <td>0.1</td>\n      <td>2180.0</td>\n      <td>0.673260</td>\n      <td>1.431487</td>\n    </tr>\n    <tr>\n      <th>19</th>\n      <td>19</td>\n      <td>label_distribution</td>\n      <td>0.1</td>\n      <td>1847.0</td>\n      <td>0.671475</td>\n      <td>1.177181</td>\n    </tr>\n    <tr>\n      <th>20</th>\n      <td>20</td>\n      <td>label_distribution</td>\n      <td>0.1</td>\n      <td>442.0</td>\n      <td>0.628219</td>\n      <td>0.324912</td>\n    </tr>\n    <tr>\n      <th>21</th>\n      <td>21</td>\n      <td>label_distribution</td>\n      <td>0.1</td>\n      <td>837.0</td>\n      <td>0.642199</td>\n      <td>0.607336</td>\n    </tr>\n    <tr>\n      <th>22</th>\n      <td>22</td>\n      <td>label_distribution</td>\n      <td>0.1</td>\n      <td>1229.0</td>\n      <td>0.580185</td>\n      <td>1.012226</td>\n    </tr>\n    <tr>\n      <th>23</th>\n      <td>23</td>\n      <td>label_distribution</td>\n      <td>0.1</td>\n      <td>777.0</td>\n      <td>0.671429</td>\n      <td>0.514861</td>\n    </tr>\n    <tr>\n      <th>24</th>\n      <td>24</td>\n      <td>label_distribution</td>\n      <td>0.1</td>\n      <td>108.0</td>\n      <td>0.572837</td>\n      <td>0.102472</td>\n    </tr>\n    <tr>\n      <th>25</th>\n      <td>25</td>\n      <td>label_distribution</td>\n      <td>0.1</td>\n      <td>1824.0</td>\n      <td>0.688695</td>\n      <td>1.139691</td>\n    </tr>\n    <tr>\n      <th>26</th>\n      <td>26</td>\n      <td>label_distribution</td>\n      <td>0.1</td>\n      <td>892.0</td>\n      <td>0.541607</td>\n      <td>1.108450</td>\n    </tr>\n    <tr>\n      <th>27</th>\n      <td>27</td>\n      <td>label_distribution</td>\n      <td>0.1</td>\n      <td>937.0</td>\n      <td>0.468209</td>\n      <td>1.188428</td>\n    </tr>\n    <tr>\n      <th>28</th>\n      <td>28</td>\n      <td>label_distribution</td>\n      <td>0.1</td>\n      <td>1126.0</td>\n      <td>0.532291</td>\n      <td>1.323392</td>\n    </tr>\n    <tr>\n      <th>29</th>\n      <td>29</td>\n      <td>label_distribution</td>\n      <td>0.1</td>\n      <td>1416.0</td>\n      <td>0.575511</td>\n      <td>1.310895</td>\n    </tr>\n  </tbody>\n</table>\n</div>"
     },
     "execution_count": 7,
     "metadata": {},
     "output_type": "execute_result"
    }
   ],
   "source": [
    "imbalances = pd.DataFrame({\n",
    "    \"client\": range(len(li)),\n",
    "    \"imbalance_type\": \"label_distribution\",\n",
    "    \"imbalance_value\": 0.1,\n",
    "    \"label_imbalance\": li,\n",
    "    \"label_distribution_imbalance\": ldi,\n",
    "    \"quantity_imbalance\": qi,\n",
    "})\n",
    "imbalances"
   ]
  },
  {
   "cell_type": "code",
   "execution_count": 8,
   "id": "67e57c832ab1ade1",
   "metadata": {
    "collapsed": false,
    "ExecuteTime": {
     "end_time": "2024-03-22T10:12:17.246321398Z",
     "start_time": "2024-03-22T10:12:17.076756740Z"
    }
   },
   "outputs": [
    {
     "data": {
      "text/plain": "<Axes: ylabel='Count'>"
     },
     "execution_count": 8,
     "metadata": {},
     "output_type": "execute_result"
    },
    {
     "data": {
      "text/plain": "<Figure size 640x480 with 1 Axes>",
      "image/png": "[encoded data removed]"
     },
     "metadata": {},
     "output_type": "display_data"
    }
   ],
   "source": [
    "sns.histplot(train_lens)"
   ]
  },
  {
   "cell_type": "code",
   "execution_count": 9,
   "id": "a3bd2ada906f190",
   "metadata": {
    "collapsed": false,
    "ExecuteTime": {
     "end_time": "2024-03-22T10:12:17.363733334Z",
     "start_time": "2024-03-22T10:12:17.248359944Z"
    }
   },
   "outputs": [
    {
     "data": {
      "text/plain": "<Axes: ylabel='Count'>"
     },
     "execution_count": 9,
     "metadata": {},
     "output_type": "execute_result"
    },
    {
     "data": {
      "text/plain": "<Figure size 640x480 with 1 Axes>",
      "image/png": "[encoded data removed]"
     },
     "metadata": {},
     "output_type": "display_data"
    }
   ],
   "source": [
    "sns.histplot(test_lens)"
   ]
  },
  {
   "cell_type": "code",
   "execution_count": 10,
   "id": "55b1adabc25a4a77",
   "metadata": {
    "collapsed": false,
    "ExecuteTime": {
     "end_time": "2024-03-22T10:13:20.500993308Z",
     "start_time": "2024-03-22T10:12:17.364320110Z"
    }
   },
   "outputs": [
    {
     "name": "stdout",
     "output_type": "stream",
     "text": [
      "Clients per round: 30\n"
     ]
    },
    {
     "data": {
      "text/plain": "Round:   0%|          | 0/10 [00:00<?, ?it/s]",
      "application/vnd.jupyter.widget-view+json": {
       "version_major": 2,
       "version_minor": 0,
       "model_id": "5c87c3558246415bb894b9cf82e8e969"
      }
     },
     "metadata": {},
     "output_type": "display_data"
    },
    {
     "ename": "KeyboardInterrupt",
     "evalue": "",
     "output_type": "error",
     "traceback": [
      "\u001B[0;31m---------------------------------------------------------------------------\u001B[0m",
      "\u001B[0;31mKeyboardInterrupt\u001B[0m                         Traceback (most recent call last)",
      "Cell \u001B[0;32mIn[10], line 1\u001B[0m\n\u001B[0;32m----> 1\u001B[0m results \u001B[38;5;241m=\u001B[39m run_flsc(conf, train, test) \u001B[38;5;28;01mif\u001B[39;00m conf\u001B[38;5;241m.\u001B[39malgorithm\u001B[38;5;241m.\u001B[39mlower() \u001B[38;5;129;01min\u001B[39;00m [\u001B[38;5;124m\"\u001B[39m\u001B[38;5;124mifca\u001B[39m\u001B[38;5;124m\"\u001B[39m, \u001B[38;5;124m\"\u001B[39m\u001B[38;5;124mflsc\u001B[39m\u001B[38;5;124m\"\u001B[39m] \u001B[38;5;28;01melse\u001B[39;00m \u001B[43mrun_fedprox\u001B[49m\u001B[43m(\u001B[49m\u001B[43mconf\u001B[49m\u001B[43m,\u001B[49m\u001B[43m \u001B[49m\u001B[43mtrain\u001B[49m\u001B[43m,\u001B[49m\u001B[43m \u001B[49m\u001B[43mtest\u001B[49m\u001B[43m)\u001B[49m\n",
      "File \u001B[0;32m~/Work/masterthesis-clustered-fl/train.py:252\u001B[0m, in \u001B[0;36mrun_fedprox\u001B[0;34m(run_config, train_data, test_data, device)\u001B[0m\n\u001B[1;32m    241\u001B[0m \u001B[38;5;250m\u001B[39m\u001B[38;5;124;03m\"\"\"Run a single FedAvg or FedProx training run\"\"\"\u001B[39;00m\n\u001B[1;32m    242\u001B[0m fedprox \u001B[38;5;241m=\u001B[39m FedProx(\n\u001B[1;32m    243\u001B[0m     model_class\u001B[38;5;241m=\u001B[39mMODELS[run_config\u001B[38;5;241m.\u001B[39mdataset],\n\u001B[1;32m    244\u001B[0m     loss\u001B[38;5;241m=\u001B[39mLOSS_FN(),\n\u001B[0;32m   (...)\u001B[0m\n\u001B[1;32m    250\u001B[0m     device\u001B[38;5;241m=\u001B[39mdevice\n\u001B[1;32m    251\u001B[0m )\n\u001B[0;32m--> 252\u001B[0m \u001B[38;5;28;01mreturn\u001B[39;00m \u001B[43mfedprox\u001B[49m\u001B[38;5;241;43m.\u001B[39;49m\u001B[43mfit\u001B[49m\u001B[43m(\u001B[49m\u001B[43mtrain_data\u001B[49m\u001B[43m,\u001B[49m\u001B[43m \u001B[49m\u001B[43mtest_data\u001B[49m\u001B[43m)\u001B[49m\n",
      "File \u001B[0;32m~/Work/masterthesis-clustered-fl/federated_learning/fedprox.py:60\u001B[0m, in \u001B[0;36mFedProx.fit\u001B[0;34m(self, train_data, test_data, torch_compile)\u001B[0m\n\u001B[1;32m     57\u001B[0m client_train_data \u001B[38;5;241m=\u001B[39m train_data[k]\n\u001B[1;32m     58\u001B[0m client_test_data \u001B[38;5;241m=\u001B[39m test_data[k] \u001B[38;5;28;01mif\u001B[39;00m \u001B[38;5;28misinstance\u001B[39m(test_data, \u001B[38;5;28mlist\u001B[39m) \u001B[38;5;28;01melse\u001B[39;00m test_data\n\u001B[0;32m---> 60\u001B[0m client_weights, train_loss \u001B[38;5;241m=\u001B[39m \u001B[38;5;28;43mself\u001B[39;49m\u001B[38;5;241;43m.\u001B[39;49m\u001B[43m_train_client_round\u001B[49m\u001B[43m(\u001B[49m\u001B[43mglobal_weights\u001B[49m\u001B[43m,\u001B[49m\u001B[43m \u001B[49m\u001B[43mclient_models\u001B[49m\u001B[43m[\u001B[49m\u001B[43mk\u001B[49m\u001B[43m]\u001B[49m\u001B[43m,\u001B[49m\n\u001B[1;32m     61\u001B[0m \u001B[43m                                                      \u001B[49m\u001B[43moptimizers\u001B[49m\u001B[43m[\u001B[49m\u001B[43mk\u001B[49m\u001B[43m]\u001B[49m\u001B[43m,\u001B[49m\u001B[43m \u001B[49m\u001B[43mclient_train_data\u001B[49m\u001B[43m)\u001B[49m\n\u001B[1;32m     63\u001B[0m test_loss, f1 \u001B[38;5;241m=\u001B[39m \u001B[38;5;28mself\u001B[39m\u001B[38;5;241m.\u001B[39m_test_client_round(client_models[k], client_test_data)\n\u001B[1;32m     65\u001B[0m \u001B[38;5;28;01mif\u001B[39;00m test_loss \u001B[38;5;129;01mis\u001B[39;00m \u001B[38;5;28;01mNone\u001B[39;00m \u001B[38;5;129;01mor\u001B[39;00m np\u001B[38;5;241m.\u001B[39misnan(test_loss):\n",
      "File \u001B[0;32m~/Work/masterthesis-clustered-fl/federated_learning/fedprox.py:99\u001B[0m, in \u001B[0;36mFedProx._train_client_round\u001B[0;34m(self, global_weights, model, optimizer, client_train_data)\u001B[0m\n\u001B[1;32m     97\u001B[0m round_train_losses \u001B[38;5;241m=\u001B[39m []\n\u001B[1;32m     98\u001B[0m \u001B[38;5;28;01mfor\u001B[39;00m e \u001B[38;5;129;01min\u001B[39;00m \u001B[38;5;28mrange\u001B[39m(\u001B[38;5;28mself\u001B[39m\u001B[38;5;241m.\u001B[39mepochs):\n\u001B[0;32m---> 99\u001B[0m     round_train_loss \u001B[38;5;241m=\u001B[39m \u001B[38;5;28;43mself\u001B[39;49m\u001B[38;5;241;43m.\u001B[39;49m\u001B[43m_train_epoch\u001B[49m\u001B[43m(\u001B[49m\u001B[43mmodel\u001B[49m\u001B[43m,\u001B[49m\u001B[43m \u001B[49m\u001B[43moptimizer\u001B[49m\u001B[43m,\u001B[49m\u001B[43m \u001B[49m\u001B[43mclient_train_data\u001B[49m\u001B[43m,\u001B[49m\u001B[43m \u001B[49m\u001B[43mglobal_params\u001B[49m\u001B[43m)\u001B[49m\n\u001B[1;32m    100\u001B[0m     round_train_losses\u001B[38;5;241m.\u001B[39mappend(round_train_loss)\n\u001B[1;32m    102\u001B[0m \u001B[38;5;28;01mreturn\u001B[39;00m \u001B[38;5;28mdict\u001B[39m(model\u001B[38;5;241m.\u001B[39mnamed_parameters()), np\u001B[38;5;241m.\u001B[39marray(round_train_losses)\n",
      "File \u001B[0;32m~/Work/masterthesis-clustered-fl/federated_learning/fedprox.py:143\u001B[0m, in \u001B[0;36mFedProx._train_epoch\u001B[0;34m(self, model, optimizer, client_train_data, global_parameters)\u001B[0m\n\u001B[1;32m    140\u001B[0m loss \u001B[38;5;241m=\u001B[39m \u001B[38;5;28mself\u001B[39m\u001B[38;5;241m.\u001B[39mloss(pred, y) \u001B[38;5;241m+\u001B[39m proximal_loss_term\n\u001B[1;32m    141\u001B[0m epoch_loss \u001B[38;5;241m+\u001B[39m\u001B[38;5;241m=\u001B[39m loss\u001B[38;5;241m.\u001B[39mcpu()\u001B[38;5;241m.\u001B[39mitem()\n\u001B[0;32m--> 143\u001B[0m \u001B[43mloss\u001B[49m\u001B[38;5;241;43m.\u001B[39;49m\u001B[43mbackward\u001B[49m\u001B[43m(\u001B[49m\u001B[43mretain_graph\u001B[49m\u001B[38;5;241;43m=\u001B[39;49m\u001B[38;5;28;43;01mTrue\u001B[39;49;00m\u001B[43m)\u001B[49m\n\u001B[1;32m    144\u001B[0m optimizer\u001B[38;5;241m.\u001B[39mstep()\n\u001B[1;32m    145\u001B[0m optimizer\u001B[38;5;241m.\u001B[39mzero_grad()\n",
      "File \u001B[0;32m~/Work/masterthesis-clustered-fl/.venv/lib/python3.11/site-packages/torch/_tensor.py:492\u001B[0m, in \u001B[0;36mTensor.backward\u001B[0;34m(self, gradient, retain_graph, create_graph, inputs)\u001B[0m\n\u001B[1;32m    482\u001B[0m \u001B[38;5;28;01mif\u001B[39;00m has_torch_function_unary(\u001B[38;5;28mself\u001B[39m):\n\u001B[1;32m    483\u001B[0m     \u001B[38;5;28;01mreturn\u001B[39;00m handle_torch_function(\n\u001B[1;32m    484\u001B[0m         Tensor\u001B[38;5;241m.\u001B[39mbackward,\n\u001B[1;32m    485\u001B[0m         (\u001B[38;5;28mself\u001B[39m,),\n\u001B[0;32m   (...)\u001B[0m\n\u001B[1;32m    490\u001B[0m         inputs\u001B[38;5;241m=\u001B[39minputs,\n\u001B[1;32m    491\u001B[0m     )\n\u001B[0;32m--> 492\u001B[0m \u001B[43mtorch\u001B[49m\u001B[38;5;241;43m.\u001B[39;49m\u001B[43mautograd\u001B[49m\u001B[38;5;241;43m.\u001B[39;49m\u001B[43mbackward\u001B[49m\u001B[43m(\u001B[49m\n\u001B[1;32m    493\u001B[0m \u001B[43m    \u001B[49m\u001B[38;5;28;43mself\u001B[39;49m\u001B[43m,\u001B[49m\u001B[43m \u001B[49m\u001B[43mgradient\u001B[49m\u001B[43m,\u001B[49m\u001B[43m \u001B[49m\u001B[43mretain_graph\u001B[49m\u001B[43m,\u001B[49m\u001B[43m \u001B[49m\u001B[43mcreate_graph\u001B[49m\u001B[43m,\u001B[49m\u001B[43m \u001B[49m\u001B[43minputs\u001B[49m\u001B[38;5;241;43m=\u001B[39;49m\u001B[43minputs\u001B[49m\n\u001B[1;32m    494\u001B[0m \u001B[43m\u001B[49m\u001B[43m)\u001B[49m\n",
      "File \u001B[0;32m~/Work/masterthesis-clustered-fl/.venv/lib/python3.11/site-packages/torch/autograd/__init__.py:251\u001B[0m, in \u001B[0;36mbackward\u001B[0;34m(tensors, grad_tensors, retain_graph, create_graph, grad_variables, inputs)\u001B[0m\n\u001B[1;32m    246\u001B[0m     retain_graph \u001B[38;5;241m=\u001B[39m create_graph\n\u001B[1;32m    248\u001B[0m \u001B[38;5;66;03m# The reason we repeat the same comment below is that\u001B[39;00m\n\u001B[1;32m    249\u001B[0m \u001B[38;5;66;03m# some Python versions print out the first line of a multi-line function\u001B[39;00m\n\u001B[1;32m    250\u001B[0m \u001B[38;5;66;03m# calls in the traceback and some print out the last line\u001B[39;00m\n\u001B[0;32m--> 251\u001B[0m \u001B[43mVariable\u001B[49m\u001B[38;5;241;43m.\u001B[39;49m\u001B[43m_execution_engine\u001B[49m\u001B[38;5;241;43m.\u001B[39;49m\u001B[43mrun_backward\u001B[49m\u001B[43m(\u001B[49m\u001B[43m  \u001B[49m\u001B[38;5;66;43;03m# Calls into the C++ engine to run the backward pass\u001B[39;49;00m\n\u001B[1;32m    252\u001B[0m \u001B[43m    \u001B[49m\u001B[43mtensors\u001B[49m\u001B[43m,\u001B[49m\n\u001B[1;32m    253\u001B[0m \u001B[43m    \u001B[49m\u001B[43mgrad_tensors_\u001B[49m\u001B[43m,\u001B[49m\n\u001B[1;32m    254\u001B[0m \u001B[43m    \u001B[49m\u001B[43mretain_graph\u001B[49m\u001B[43m,\u001B[49m\n\u001B[1;32m    255\u001B[0m \u001B[43m    \u001B[49m\u001B[43mcreate_graph\u001B[49m\u001B[43m,\u001B[49m\n\u001B[1;32m    256\u001B[0m \u001B[43m    \u001B[49m\u001B[43minputs\u001B[49m\u001B[43m,\u001B[49m\n\u001B[1;32m    257\u001B[0m \u001B[43m    \u001B[49m\u001B[43mallow_unreachable\u001B[49m\u001B[38;5;241;43m=\u001B[39;49m\u001B[38;5;28;43;01mTrue\u001B[39;49;00m\u001B[43m,\u001B[49m\n\u001B[1;32m    258\u001B[0m \u001B[43m    \u001B[49m\u001B[43maccumulate_grad\u001B[49m\u001B[38;5;241;43m=\u001B[39;49m\u001B[38;5;28;43;01mTrue\u001B[39;49;00m\u001B[43m,\u001B[49m\n\u001B[1;32m    259\u001B[0m \u001B[43m\u001B[49m\u001B[43m)\u001B[49m\n",
      "\u001B[0;31mKeyboardInterrupt\u001B[0m: "
     ]
    }
   ],
   "source": [
    "results = run_flsc(conf, train, test) if conf.algorithm.lower() in [\"ifca\", \"flsc\"] else run_fedprox(conf, train, test)"
   ]
  },
  {
   "cell_type": "code",
   "execution_count": null,
   "id": "7d7d8adedb37c11a",
   "metadata": {
    "collapsed": false,
    "ExecuteTime": {
     "start_time": "2024-03-22T10:13:20.502978783Z"
    }
   },
   "outputs": [],
   "source": [
    "results = results.as_dataframe()\n",
    "results"
   ]
  },
  {
   "cell_type": "code",
   "execution_count": null,
   "id": "82b90ae4ee2a7a0b",
   "metadata": {
    "collapsed": false,
    "ExecuteTime": {
     "end_time": "2024-03-22T10:13:20.510505875Z",
     "start_time": "2024-03-22T10:13:20.504613351Z"
    }
   },
   "outputs": [],
   "source": [
    "df = results.query(\"variable == 'loss'\")"
   ]
  },
  {
   "cell_type": "code",
   "execution_count": null,
   "id": "bc01f274ab000db2",
   "metadata": {
    "collapsed": false,
    "ExecuteTime": {
     "start_time": "2024-03-22T10:13:20.506253450Z"
    }
   },
   "outputs": [],
   "source": [
    "sns.lineplot(df, x=\"round\", y=\"value\", hue=\"stage\").set(title=\"Losses\", ylabel=\"loss\")"
   ]
  },
  {
   "cell_type": "code",
   "outputs": [],
   "source": [
    "df = results.query(\"stage == 'test' and variable == 'f1'\")"
   ],
   "metadata": {
    "collapsed": false,
    "ExecuteTime": {
     "start_time": "2024-03-22T10:13:20.507966657Z"
    }
   },
   "id": "1e79bce5fecbb7fa",
   "execution_count": null
  },
  {
   "cell_type": "code",
   "outputs": [],
   "source": [
    "sns.lineplot(df, x=\"round\", y=\"value\").set(title=\"F1 score on test data\", ylabel=\"macro F1 score\")"
   ],
   "metadata": {
    "collapsed": false,
    "ExecuteTime": {
     "start_time": "2024-03-22T10:13:20.509682500Z"
    }
   },
   "id": "d0d2c77edcdcecac",
   "execution_count": null
  },
  {
   "cell_type": "code",
   "execution_count": null,
   "id": "2eb88520cb136b96",
   "metadata": {
    "collapsed": false,
    "ExecuteTime": {
     "end_time": "2024-03-22T10:13:20.517845410Z",
     "start_time": "2024-03-22T10:13:20.511155150Z"
    }
   },
   "outputs": [],
   "source": [
    "df = results.pivot(values=\"value\", index=[\"round\", \"client\", \"stage\"], columns=\"variable\")\\\n",
    "    .reset_index()\n",
    "\n",
    "df[\"cluster_identities\"] = df[\"cluster_identities\"].astype(int)\n",
    "\n",
    "df = df.query(\"stage == 'test'\")\\\n",
    "    .drop(columns=[\"stage\", \"client\"])\\\n",
    "    .groupby([\"round\", \"cluster_identities\"])\\\n",
    "    .mean()\\\n",
    "    .reset_index()"
   ]
  },
  {
   "cell_type": "code",
   "execution_count": null,
   "id": "c9a8298066366bb2",
   "metadata": {
    "collapsed": false,
    "ExecuteTime": {
     "start_time": "2024-03-22T10:13:20.535967508Z"
    }
   },
   "outputs": [],
   "source": [
    "sns.lineplot(df, x=\"round\", y=\"f1\")"
   ]
  },
  {
   "cell_type": "code",
   "execution_count": null,
   "id": "d25f04fea3395baf",
   "metadata": {
    "collapsed": false,
    "ExecuteTime": {
     "start_time": "2024-03-22T10:13:20.536174972Z"
    }
   },
   "outputs": [],
   "source": [
    "df = results.pivot(values=\"value\", index=[\"round\", \"client\", \"stage\"], columns=\"variable\")\\\n",
    "    .reset_index()\n",
    "\n",
    "df[\"cluster_identities\"] = df[\"cluster_identities\"].astype(int)\n",
    "\n",
    "df = df.query(\"stage == 'train'\")\\\n",
    "    .drop(columns=[\"stage\", \"client\"])\\\n",
    "    .groupby([\"round\", \"cluster_identities\"])\\\n",
    "    .size()\\\n",
    "    .reset_index()\\\n",
    "    .rename(columns={0: \"count\"})"
   ]
  },
  {
   "cell_type": "code",
   "execution_count": null,
   "id": "42056865a5804545",
   "metadata": {
    "collapsed": false,
    "ExecuteTime": {
     "start_time": "2024-03-22T10:13:20.536316060Z"
    }
   },
   "outputs": [],
   "source": [
    "df "
   ]
  },
  {
   "cell_type": "code",
   "execution_count": null,
   "id": "72b4b63d0ae43c86",
   "metadata": {
    "collapsed": false,
    "ExecuteTime": {
     "start_time": "2024-03-22T10:13:20.536409889Z"
    }
   },
   "outputs": [],
   "source": [
    "import plotly.express as px\n",
    "px.area(df, x=\"round\", y=\"count\", color=\"cluster_identities\")"
   ]
  },
  {
   "cell_type": "code",
   "execution_count": null,
   "id": "a22351fb99e19910",
   "metadata": {
    "collapsed": false,
    "ExecuteTime": {
     "start_time": "2024-03-22T10:13:20.536498607Z"
    }
   },
   "outputs": [],
   "source": []
  },
  {
   "cell_type": "code",
   "outputs": [],
   "source": [],
   "metadata": {
    "collapsed": false,
    "ExecuteTime": {
     "start_time": "2024-03-22T10:13:20.536587136Z"
    }
   },
   "id": "4443108ac7e44f93"
  }
 ],
 "metadata": {
  "kernelspec": {
   "display_name": "Python 3 (ipykernel)",
   "language": "python",
   "name": "python3"
  },
  "language_info": {
   "codemirror_mode": {
    "name": "ipython",
    "version": 3
   },
   "file_extension": ".py",
   "mimetype": "text/x-python",
   "name": "python",
   "nbconvert_exporter": "python",
   "pygments_lexer": "ipython3",
   "version": "3.11.5"
  }
 },
 "nbformat": 4,
 "nbformat_minor": 5
}
