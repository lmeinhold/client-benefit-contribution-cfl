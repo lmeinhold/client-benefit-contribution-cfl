{
 "cells": [
  {
   "cell_type": "code",
   "id": "initial_id",
   "metadata": {
    "collapsed": true,
    "ExecuteTime": {
     "end_time": "2024-05-01T21:52:22.207805Z",
     "start_time": "2024-05-01T21:52:21.095225Z"
    }
   },
   "source": [
    "from pathlib import Path\n",
    "\n",
    "import pandas as pd\n",
    "\n",
    "import plotly.express as px\n",
    "import plotly.graph_objects as go\n",
    "from plotly.subplots import make_subplots\n",
    "import plotly.io as pio\n",
    "pio.renderers.default = 'png'\n",
    "\n",
    "from eval import read_data\n",
    "\n",
    "import duckdb"
   ],
   "execution_count": 1,
   "outputs": []
  },
  {
   "metadata": {
    "ExecuteTime": {
     "end_time": "2024-05-01T21:52:42.820407Z",
     "start_time": "2024-05-01T21:52:42.815073Z"
    }
   },
   "cell_type": "code",
   "source": "runfile = \"../../masterthesis-data/20240409_074752.db\"",
   "id": "98a338a9ad9ad01",
   "execution_count": 2,
   "outputs": []
  },
  {
   "metadata": {
    "ExecuteTime": {
     "end_time": "2024-05-01T21:52:44.059291Z",
     "start_time": "2024-05-01T21:52:43.844351Z"
    }
   },
   "cell_type": "code",
   "source": "conn, logs, algorithms, datasets, imbalance_types, imbalance_values, penalties = read_data(Path(runfile))",
   "id": "3dce49578f264d",
   "execution_count": 3,
   "outputs": []
  },
  {
   "metadata": {},
   "cell_type": "markdown",
   "source": "# FedProx",
   "id": "951c19e401196855"
  },
  {
   "metadata": {
    "ExecuteTime": {
     "end_time": "2024-05-01T22:00:26.623196Z",
     "start_time": "2024-05-01T22:00:26.070208Z"
    }
   },
   "cell_type": "code",
   "source": [
    "fedprox = conn.sql(\"\"\"\n",
    "    PIVOT \n",
    "    (SELECT round, stage, variable, penalty, imbalance_value, avg(value) AS avg_value FROM logs\n",
    "    WHERE\n",
    "        dataset = 'cifar10'\n",
    "        AND imbalance_type = 'label_distribution'\n",
    "        AND algorithm IN ('FedProx', 'FedAvg')\n",
    "    GROUP BY round, variable, stage, penalty, imbalance_value)\n",
    "    ON variable\n",
    "    USING first(avg_value)\n",
    "    ORDER BY round, penalty\n",
    "\"\"\")\n",
    "fedprox_train = conn.sql(\"SELECT * FROM fedprox WHERE stage = 'train'\").df()\n",
    "fedprox_test = conn.sql(\"SELECT * FROM fedprox WHERE stage = 'test'\").df()"
   ],
   "id": "efe77d63465b249f",
   "execution_count": 10,
   "outputs": []
  },
  {
   "metadata": {
    "ExecuteTime": {
     "end_time": "2024-05-01T22:03:18.974849Z",
     "start_time": "2024-05-01T22:03:18.970188Z"
    }
   },
   "cell_type": "code",
   "source": [
    "img_args = {\n",
    "    \"width\": 700,\n",
    "    \"height\": 400,\n",
    "    \"scale\": 2,\n",
    "}"
   ],
   "id": "552d2d84f7c1f38",
   "execution_count": 19,
   "outputs": []
  },
  {
   "metadata": {
    "ExecuteTime": {
     "end_time": "2024-05-01T22:04:02.577425Z",
     "start_time": "2024-05-01T22:03:59.068305Z"
    }
   },
   "cell_type": "code",
   "source": [
    "fig = px.line(fedprox_train, x=\"round\", y=\"loss\", color=\"imbalance_value\", facet_col=\"penalty\", title=\"FedProx Train Loss\")\n",
    "fig.write_image(\"../output/eval/fedprox_penalty_train_loss.png\", **img_args)\n",
    "fig"
   ],
   "id": "4c4532d48d74a9cd",
   "execution_count": 21,
   "outputs": []
  },
  {
   "metadata": {
    "ExecuteTime": {
     "end_time": "2024-05-01T22:04:21.662412Z",
     "start_time": "2024-05-01T22:04:17.959892Z"
    }
   },
   "cell_type": "code",
   "source": [
    "fig = px.line(fedprox_test, x=\"round\", y=\"loss\", color=\"imbalance_value\", facet_col=\"penalty\", title=\"FedProx Test Loss\")\n",
    "fig.write_image(\"../output/eval/fedprox_penalty_test_loss.png\", **img_args)\n",
    "fig"
   ],
   "id": "7341e8fe72ac1c9e",
   "execution_count": 22,
   "outputs": []
  },
  {
   "metadata": {
    "ExecuteTime": {
     "end_time": "2024-05-01T22:05:09.395804Z",
     "start_time": "2024-05-01T22:05:05.907238Z"
    }
   },
   "cell_type": "code",
   "source": [
    "fig = px.line(fedprox_test, x=\"round\", y=\"f1\", color=\"imbalance_value\", facet_col=\"penalty\", title=\"FedProx Test F1 Score\")\n",
    "fig.write_image(\"../output/eval/fedprox_penalty_f1_score.png\", **img_args)\n",
    "fig"
   ],
   "id": "e761a2e2d0697b8d",
   "execution_count": 23,
   "outputs": []
  },
  {
   "metadata": {},
   "cell_type": "code",
   "execution_count": null,
   "source": "",
   "id": "a6b534126e6f94e9",
   "outputs": []
  }
 ],
 "metadata": {
  "kernelspec": {
   "display_name": "Python 3",
   "language": "python",
   "name": "python3"
  },
  "language_info": {
   "codemirror_mode": {
    "name": "ipython",
    "version": 2
   },
   "file_extension": ".py",
   "mimetype": "text/x-python",
   "name": "python",
   "nbconvert_exporter": "python",
   "pygments_lexer": "ipython2",
   "version": "2.7.6"
  }
 },
 "nbformat": 4,
 "nbformat_minor": 5
}
