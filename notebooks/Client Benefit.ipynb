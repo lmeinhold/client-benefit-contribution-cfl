{
 "cells": [
  {
   "cell_type": "code",
   "execution_count": 3,
   "id": "initial_id",
   "metadata": {
    "collapsed": true,
    "ExecuteTime": {
     "end_time": "2024-01-30T22:19:30.954953921Z",
     "start_time": "2024-01-30T22:19:30.913780082Z"
    }
   },
   "outputs": [],
   "source": [
    "from pathlib import Path\n",
    "\n",
    "import numpy as np\n",
    "import pandas as pd\n",
    "import jsonpickle\n",
    "\n",
    "import seaborn as sns\n",
    "import matplotlib.pyplot as plt"
   ]
  },
  {
   "cell_type": "code",
   "outputs": [],
   "source": [
    "RUNDIR = \"../output\"\n",
    "RUNID = \"20240130_203925\""
   ],
   "metadata": {
    "collapsed": false,
    "ExecuteTime": {
     "end_time": "2024-01-30T22:22:53.443326266Z",
     "start_time": "2024-01-30T22:22:53.441584203Z"
    }
   },
   "id": "3402ed0909f78ac8",
   "execution_count": 20
  },
  {
   "cell_type": "code",
   "outputs": [
    {
     "name": "stdout",
     "output_type": "stream",
     "text": [
      "Found 18 config files\n"
     ]
    }
   ],
   "source": [
    "config_files = list(Path(RUNDIR).glob(f\"{RUNID}*.config.json\"))\n",
    "print(f\"Found {len(config_files)} config files\")"
   ],
   "metadata": {
    "collapsed": false,
    "ExecuteTime": {
     "end_time": "2024-01-30T22:43:04.877689913Z",
     "start_time": "2024-01-30T22:43:04.835691920Z"
    }
   },
   "id": "f6d6b87d9ecea90f",
   "execution_count": 55
  },
  {
   "cell_type": "code",
   "outputs": [
    {
     "data": {
      "text/plain": "   round  client  stage   variable       value\n0      1       0  train       loss    2.238653\n1      1       0  train  n_samples  750.000000\n2      1       0   test       loss    2.172284\n3      1       0   test         f1    0.188395\n4      1       0   test  n_samples  750.000000",
      "text/html": "<div>\n<style scoped>\n    .dataframe tbody tr th:only-of-type {\n        vertical-align: middle;\n    }\n\n    .dataframe tbody tr th {\n        vertical-align: top;\n    }\n\n    .dataframe thead th {\n        text-align: right;\n    }\n</style>\n<table border=\"1\" class=\"dataframe\">\n  <thead>\n    <tr style=\"text-align: right;\">\n      <th></th>\n      <th>round</th>\n      <th>client</th>\n      <th>stage</th>\n      <th>variable</th>\n      <th>value</th>\n    </tr>\n  </thead>\n  <tbody>\n    <tr>\n      <th>0</th>\n      <td>1</td>\n      <td>0</td>\n      <td>train</td>\n      <td>loss</td>\n      <td>2.238653</td>\n    </tr>\n    <tr>\n      <th>1</th>\n      <td>1</td>\n      <td>0</td>\n      <td>train</td>\n      <td>n_samples</td>\n      <td>750.000000</td>\n    </tr>\n    <tr>\n      <th>2</th>\n      <td>1</td>\n      <td>0</td>\n      <td>test</td>\n      <td>loss</td>\n      <td>2.172284</td>\n    </tr>\n    <tr>\n      <th>3</th>\n      <td>1</td>\n      <td>0</td>\n      <td>test</td>\n      <td>f1</td>\n      <td>0.188395</td>\n    </tr>\n    <tr>\n      <th>4</th>\n      <td>1</td>\n      <td>0</td>\n      <td>test</td>\n      <td>n_samples</td>\n      <td>750.000000</td>\n    </tr>\n  </tbody>\n</table>\n</div>"
     },
     "execution_count": 56,
     "metadata": {},
     "output_type": "execute_result"
    }
   ],
   "source": [
    "config = jsonpickle.decode(config_files[0].read_text())\n",
    "data_file = Path(RUNDIR, config_files[0].name.split(\".\")[0] + \".csv\")\n",
    "data = pd.read_csv(data_file)\n",
    "data.head()"
   ],
   "metadata": {
    "collapsed": false,
    "ExecuteTime": {
     "end_time": "2024-01-30T22:43:05.047284720Z",
     "start_time": "2024-01-30T22:43:05.032029187Z"
    }
   },
   "id": "f99cede3937ab481",
   "execution_count": 56
  },
  {
   "cell_type": "code",
   "outputs": [],
   "source": [
    "configs = {}\n",
    "dfs = {}\n",
    "for config_file in config_files:\n",
    "    config = jsonpickle.decode(config_files[0].read_text())\n",
    "    data_file = Path(RUNDIR, config_files[0].name.split(\".\")[0] + \".csv\")\n",
    "    sub_id = config_files[0].name.split(\".\")[0].split(\"_\")[-1]\n",
    "    \n",
    "    data = pd.read_csv(data_file)\n",
    "    data[\"id\"] = sub_id\n",
    "    data[\"algorithm\"] = config[\"algorithm\"]\n",
    "    data[\"dataset\"] = config[\"dataset\"]\n",
    "    data[\"imbalance\"] = config[\"imbalance_type\"]\n",
    "    data[\"imbalance_val\"] = config[\"imbalance_value\"]\n",
    "    \n",
    "    dfs[sub_id] = data\n",
    "    configs[sub_id] = config\n",
    "    \n",
    "data = pd.concat(dfs.values(), axis=0)"
   ],
   "metadata": {
    "collapsed": false,
    "ExecuteTime": {
     "end_time": "2024-01-30T22:46:48.985402127Z",
     "start_time": "2024-01-30T22:46:48.860489252Z"
    }
   },
   "id": "285ca0fad1ad54f0",
   "execution_count": 64
  },
  {
   "cell_type": "code",
   "outputs": [
    {
     "data": {
      "text/plain": "variable  round  client  stage id algorithm dataset imbalance  imbalance_val  \\\n0             1       0   test  0    FedAvg   mnist       iid            0.1   \n1             1       0  train  0    FedAvg   mnist       iid            0.1   \n2             1       2   test  0    FedAvg   mnist       iid            0.1   \n3             1       2  train  0    FedAvg   mnist       iid            0.1   \n4             1       4   test  0    FedAvg   mnist       iid            0.1   \n\nvariable        f1      loss  n_samples  \n0         0.188395  2.172284      750.0  \n1              NaN  2.238653      750.0  \n2         0.448013  1.971413      750.0  \n3              NaN  2.091077      750.0  \n4         0.557664  1.590619      750.0  ",
      "text/html": "<div>\n<style scoped>\n    .dataframe tbody tr th:only-of-type {\n        vertical-align: middle;\n    }\n\n    .dataframe tbody tr th {\n        vertical-align: top;\n    }\n\n    .dataframe thead th {\n        text-align: right;\n    }\n</style>\n<table border=\"1\" class=\"dataframe\">\n  <thead>\n    <tr style=\"text-align: right;\">\n      <th>variable</th>\n      <th>round</th>\n      <th>client</th>\n      <th>stage</th>\n      <th>id</th>\n      <th>algorithm</th>\n      <th>dataset</th>\n      <th>imbalance</th>\n      <th>imbalance_val</th>\n      <th>f1</th>\n      <th>loss</th>\n      <th>n_samples</th>\n    </tr>\n  </thead>\n  <tbody>\n    <tr>\n      <th>0</th>\n      <td>1</td>\n      <td>0</td>\n      <td>test</td>\n      <td>0</td>\n      <td>FedAvg</td>\n      <td>mnist</td>\n      <td>iid</td>\n      <td>0.1</td>\n      <td>0.188395</td>\n      <td>2.172284</td>\n      <td>750.0</td>\n    </tr>\n    <tr>\n      <th>1</th>\n      <td>1</td>\n      <td>0</td>\n      <td>train</td>\n      <td>0</td>\n      <td>FedAvg</td>\n      <td>mnist</td>\n      <td>iid</td>\n      <td>0.1</td>\n      <td>NaN</td>\n      <td>2.238653</td>\n      <td>750.0</td>\n    </tr>\n    <tr>\n      <th>2</th>\n      <td>1</td>\n      <td>2</td>\n      <td>test</td>\n      <td>0</td>\n      <td>FedAvg</td>\n      <td>mnist</td>\n      <td>iid</td>\n      <td>0.1</td>\n      <td>0.448013</td>\n      <td>1.971413</td>\n      <td>750.0</td>\n    </tr>\n    <tr>\n      <th>3</th>\n      <td>1</td>\n      <td>2</td>\n      <td>train</td>\n      <td>0</td>\n      <td>FedAvg</td>\n      <td>mnist</td>\n      <td>iid</td>\n      <td>0.1</td>\n      <td>NaN</td>\n      <td>2.091077</td>\n      <td>750.0</td>\n    </tr>\n    <tr>\n      <th>4</th>\n      <td>1</td>\n      <td>4</td>\n      <td>test</td>\n      <td>0</td>\n      <td>FedAvg</td>\n      <td>mnist</td>\n      <td>iid</td>\n      <td>0.1</td>\n      <td>0.557664</td>\n      <td>1.590619</td>\n      <td>750.0</td>\n    </tr>\n  </tbody>\n</table>\n</div>"
     },
     "execution_count": 65,
     "metadata": {},
     "output_type": "execute_result"
    }
   ],
   "source": [
    "data = data.pivot_table(values = \"value\", index = [\"round\", \"client\", \"stage\", \"id\", \"algorithm\", \"dataset\", \"imbalance\", \"imbalance_val\"], columns = [\"variable\"]).reset_index()\n",
    "data.head()"
   ],
   "metadata": {
    "collapsed": false,
    "ExecuteTime": {
     "end_time": "2024-01-30T22:46:49.663782513Z",
     "start_time": "2024-01-30T22:46:49.643424372Z"
    }
   },
   "id": "f84cd222e1771eb5",
   "execution_count": 65
  },
  {
   "cell_type": "code",
   "outputs": [],
   "source": [],
   "metadata": {
    "collapsed": false
   },
   "id": "a87e7b7abe2c3575"
  }
 ],
 "metadata": {
  "kernelspec": {
   "display_name": "Python 3",
   "language": "python",
   "name": "python3"
  },
  "language_info": {
   "codemirror_mode": {
    "name": "ipython",
    "version": 2
   },
   "file_extension": ".py",
   "mimetype": "text/x-python",
   "name": "python",
   "nbconvert_exporter": "python",
   "pygments_lexer": "ipython2",
   "version": "2.7.6"
  }
 },
 "nbformat": 4,
 "nbformat_minor": 5
}
