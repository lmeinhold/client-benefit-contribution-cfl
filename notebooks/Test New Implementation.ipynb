{
 "cells": [
  {
   "cell_type": "code",
   "execution_count": 1,
   "id": "initial_id",
   "metadata": {
    "collapsed": true,
    "ExecuteTime": {
     "end_time": "2024-01-19T15:59:12.692560222Z",
     "start_time": "2024-01-19T15:59:11.015835453Z"
    }
   },
   "outputs": [],
   "source": [
    "import plotly.express as px\n",
    "import plotly.io as pio\n",
    "from torch.nn import CrossEntropyLoss\n",
    "\n",
    "from utils.torchutils import get_device\n",
    "\n",
    "pio.templates.default = \"simple_white\"\n",
    "# pio.renderers.default = \"plotly_mimetype\"\n",
    "pio.renderers.default = \"png\"\n",
    "\n",
    "from experiments.datasets.imbalancing import split_with_label_distribution_skew, train_test_split\n",
    "from experiments.datasets.mnist import MNIST\n",
    "\n",
    "from models.mnist import CNN, LargeCNN\n",
    "from experiments.datasets.base import create_dataloader\n",
    "\n",
    "from torch.optim import SGD, AdamW"
   ]
  },
  {
   "cell_type": "code",
   "execution_count": 2,
   "outputs": [],
   "source": [
    "BASEDIR = \"../output\"\n",
    "\n",
    "N_CLIENTS = 50\n",
    "GAMMA = 0.8\n",
    "BATCH_SIZE = 64\n",
    "LR = 2e-3\n",
    "EPOCHS = 5\n",
    "ROUNDS = 50\n",
    "ALPHA = 1\n",
    "MU = 0\n",
    "MODEL = CNN"
   ],
   "metadata": {
    "collapsed": false,
    "ExecuteTime": {
     "end_time": "2024-01-19T15:59:12.733378432Z",
     "start_time": "2024-01-19T15:59:12.732664019Z"
    }
   },
   "id": "c3d251e4b6057ad1"
  },
  {
   "cell_type": "code",
   "execution_count": 3,
   "outputs": [],
   "source": [
    "dataset = MNIST(\"/tmp/data\").train_data()\n",
    "\n",
    "client_datasets = split_with_label_distribution_skew(dataset, ALPHA, N_CLIENTS)\n",
    "client_train_datasets, client_test_datasets = train_test_split(client_datasets)\n",
    "\n",
    "client_train_dataloaders = [create_dataloader(ds, BATCH_SIZE) for ds in client_train_datasets]\n",
    "client_test_dataloaders = [create_dataloader(ds, BATCH_SIZE) for ds in client_test_datasets]"
   ],
   "metadata": {
    "collapsed": false,
    "ExecuteTime": {
     "end_time": "2024-01-19T15:59:12.771997337Z",
     "start_time": "2024-01-19T15:59:12.732860070Z"
    }
   },
   "id": "8e6d94df1885cddb"
  },
  {
   "cell_type": "code",
   "execution_count": 4,
   "outputs": [],
   "source": [
    "def create_optimizer(params):\n",
    "    return SGD(params, LR)"
   ],
   "metadata": {
    "collapsed": false,
    "ExecuteTime": {
     "end_time": "2024-01-19T15:59:12.772237732Z",
     "start_time": "2024-01-19T15:59:12.766427515Z"
    }
   },
   "id": "9c4160cb666d7d3a"
  },
  {
   "cell_type": "code",
   "execution_count": 5,
   "outputs": [
    {
     "name": "stdout",
     "output_type": "stream",
     "text": [
      "Using device 'cuda'\n",
      "Training 40 per round\n"
     ]
    },
    {
     "data": {
      "text/plain": "Round:   0%|          | 0/50 [00:00<?, ?it/s]",
      "application/vnd.jupyter.widget-view+json": {
       "version_major": 2,
       "version_minor": 0,
       "model_id": "f208ab2420d2438f8fb9c4b276094269"
      }
     },
     "metadata": {},
     "output_type": "display_data"
    },
    {
     "data": {
      "text/plain": "Client:   0%|          | 0/50 [00:00<?, ?it/s]",
      "application/vnd.jupyter.widget-view+json": {
       "version_major": 2,
       "version_minor": 0,
       "model_id": "9827aa93cbaa4c90aa7b59447acf8d31"
      }
     },
     "metadata": {},
     "output_type": "display_data"
    },
    {
     "data": {
      "text/plain": "Client:   0%|          | 0/50 [00:00<?, ?it/s]",
      "application/vnd.jupyter.widget-view+json": {
       "version_major": 2,
       "version_minor": 0,
       "model_id": "8ab3349cf0224001925b19da4e5631b6"
      }
     },
     "metadata": {},
     "output_type": "display_data"
    },
    {
     "data": {
      "text/plain": "Client:   0%|          | 0/50 [00:00<?, ?it/s]",
      "application/vnd.jupyter.widget-view+json": {
       "version_major": 2,
       "version_minor": 0,
       "model_id": "801336917f00420998b5f23b5dc4a9b3"
      }
     },
     "metadata": {},
     "output_type": "display_data"
    },
    {
     "data": {
      "text/plain": "Client:   0%|          | 0/50 [00:00<?, ?it/s]",
      "application/vnd.jupyter.widget-view+json": {
       "version_major": 2,
       "version_minor": 0,
       "model_id": "0897b01f70c043c8803c7c126bcded04"
      }
     },
     "metadata": {},
     "output_type": "display_data"
    },
    {
     "data": {
      "text/plain": "Client:   0%|          | 0/50 [00:00<?, ?it/s]",
      "application/vnd.jupyter.widget-view+json": {
       "version_major": 2,
       "version_minor": 0,
       "model_id": "1044f6a811854ff09b13db04aff8fb25"
      }
     },
     "metadata": {},
     "output_type": "display_data"
    },
    {
     "data": {
      "text/plain": "Client:   0%|          | 0/50 [00:00<?, ?it/s]",
      "application/vnd.jupyter.widget-view+json": {
       "version_major": 2,
       "version_minor": 0,
       "model_id": "ce3f5ad0200a4ad990bc2b4c251d5663"
      }
     },
     "metadata": {},
     "output_type": "display_data"
    },
    {
     "data": {
      "text/plain": "Client:   0%|          | 0/50 [00:00<?, ?it/s]",
      "application/vnd.jupyter.widget-view+json": {
       "version_major": 2,
       "version_minor": 0,
       "model_id": "7efcca5e414e441bb16e24727153f65c"
      }
     },
     "metadata": {},
     "output_type": "display_data"
    },
    {
     "data": {
      "text/plain": "Client:   0%|          | 0/50 [00:00<?, ?it/s]",
      "application/vnd.jupyter.widget-view+json": {
       "version_major": 2,
       "version_minor": 0,
       "model_id": "0d303408948b4026890b3fc8c047e373"
      }
     },
     "metadata": {},
     "output_type": "display_data"
    },
    {
     "data": {
      "text/plain": "Client:   0%|          | 0/50 [00:00<?, ?it/s]",
      "application/vnd.jupyter.widget-view+json": {
       "version_major": 2,
       "version_minor": 0,
       "model_id": "d5f3142940f84ed7a64b3b79fd749777"
      }
     },
     "metadata": {},
     "output_type": "display_data"
    },
    {
     "data": {
      "text/plain": "Client:   0%|          | 0/50 [00:00<?, ?it/s]",
      "application/vnd.jupyter.widget-view+json": {
       "version_major": 2,
       "version_minor": 0,
       "model_id": "748c3e9152e34a20af8aa793429289d6"
      }
     },
     "metadata": {},
     "output_type": "display_data"
    },
    {
     "data": {
      "text/plain": "Client:   0%|          | 0/50 [00:00<?, ?it/s]",
      "application/vnd.jupyter.widget-view+json": {
       "version_major": 2,
       "version_minor": 0,
       "model_id": "e13f4e1ebd374ecb90397d4b3b8ded87"
      }
     },
     "metadata": {},
     "output_type": "display_data"
    },
    {
     "data": {
      "text/plain": "Client:   0%|          | 0/50 [00:00<?, ?it/s]",
      "application/vnd.jupyter.widget-view+json": {
       "version_major": 2,
       "version_minor": 0,
       "model_id": "df238c5a19134f8a8dbf80f67b34105a"
      }
     },
     "metadata": {},
     "output_type": "display_data"
    },
    {
     "data": {
      "text/plain": "Client:   0%|          | 0/50 [00:00<?, ?it/s]",
      "application/vnd.jupyter.widget-view+json": {
       "version_major": 2,
       "version_minor": 0,
       "model_id": "934fa9a24a26472dab5d5f8ca9c13f8f"
      }
     },
     "metadata": {},
     "output_type": "display_data"
    },
    {
     "data": {
      "text/plain": "Client:   0%|          | 0/50 [00:00<?, ?it/s]",
      "application/vnd.jupyter.widget-view+json": {
       "version_major": 2,
       "version_minor": 0,
       "model_id": "49123cdd6354430e9c14e72fef7fed29"
      }
     },
     "metadata": {},
     "output_type": "display_data"
    },
    {
     "data": {
      "text/plain": "Client:   0%|          | 0/50 [00:00<?, ?it/s]",
      "application/vnd.jupyter.widget-view+json": {
       "version_major": 2,
       "version_minor": 0,
       "model_id": "eb65f07b89a146f0b929d37151650e52"
      }
     },
     "metadata": {},
     "output_type": "display_data"
    },
    {
     "data": {
      "text/plain": "Client:   0%|          | 0/50 [00:00<?, ?it/s]",
      "application/vnd.jupyter.widget-view+json": {
       "version_major": 2,
       "version_minor": 0,
       "model_id": "cdb7941bde714ce191c85b16234d30f0"
      }
     },
     "metadata": {},
     "output_type": "display_data"
    },
    {
     "data": {
      "text/plain": "Client:   0%|          | 0/50 [00:00<?, ?it/s]",
      "application/vnd.jupyter.widget-view+json": {
       "version_major": 2,
       "version_minor": 0,
       "model_id": "5ae5a71a8b4c418ab80936da29c47fe2"
      }
     },
     "metadata": {},
     "output_type": "display_data"
    },
    {
     "data": {
      "text/plain": "Client:   0%|          | 0/50 [00:00<?, ?it/s]",
      "application/vnd.jupyter.widget-view+json": {
       "version_major": 2,
       "version_minor": 0,
       "model_id": "0c9429f5877144db8041c5b221576006"
      }
     },
     "metadata": {},
     "output_type": "display_data"
    },
    {
     "data": {
      "text/plain": "Client:   0%|          | 0/50 [00:00<?, ?it/s]",
      "application/vnd.jupyter.widget-view+json": {
       "version_major": 2,
       "version_minor": 0,
       "model_id": "7591986282c742969d572a99f8c53d9a"
      }
     },
     "metadata": {},
     "output_type": "display_data"
    },
    {
     "data": {
      "text/plain": "Client:   0%|          | 0/50 [00:00<?, ?it/s]",
      "application/vnd.jupyter.widget-view+json": {
       "version_major": 2,
       "version_minor": 0,
       "model_id": "deff2c09b67a471796578970f15c486d"
      }
     },
     "metadata": {},
     "output_type": "display_data"
    },
    {
     "data": {
      "text/plain": "Client:   0%|          | 0/50 [00:00<?, ?it/s]",
      "application/vnd.jupyter.widget-view+json": {
       "version_major": 2,
       "version_minor": 0,
       "model_id": "6ea5da38c421475aabbc8642c11a5e27"
      }
     },
     "metadata": {},
     "output_type": "display_data"
    },
    {
     "data": {
      "text/plain": "Client:   0%|          | 0/50 [00:00<?, ?it/s]",
      "application/vnd.jupyter.widget-view+json": {
       "version_major": 2,
       "version_minor": 0,
       "model_id": "9c58811e255c4ef7b0dcf61c3d221dc0"
      }
     },
     "metadata": {},
     "output_type": "display_data"
    },
    {
     "data": {
      "text/plain": "Client:   0%|          | 0/50 [00:00<?, ?it/s]",
      "application/vnd.jupyter.widget-view+json": {
       "version_major": 2,
       "version_minor": 0,
       "model_id": "8090c8024ce944e19298dbb5ec63c8bf"
      }
     },
     "metadata": {},
     "output_type": "display_data"
    },
    {
     "data": {
      "text/plain": "Client:   0%|          | 0/50 [00:00<?, ?it/s]",
      "application/vnd.jupyter.widget-view+json": {
       "version_major": 2,
       "version_minor": 0,
       "model_id": "466465c7e2764a5c8346d7047b74c32a"
      }
     },
     "metadata": {},
     "output_type": "display_data"
    },
    {
     "data": {
      "text/plain": "Client:   0%|          | 0/50 [00:00<?, ?it/s]",
      "application/vnd.jupyter.widget-view+json": {
       "version_major": 2,
       "version_minor": 0,
       "model_id": "8ce6f225c69a4b6192572eabfb640964"
      }
     },
     "metadata": {},
     "output_type": "display_data"
    },
    {
     "data": {
      "text/plain": "Client:   0%|          | 0/50 [00:00<?, ?it/s]",
      "application/vnd.jupyter.widget-view+json": {
       "version_major": 2,
       "version_minor": 0,
       "model_id": "7222e06be6554bfc8f20c29886498eb7"
      }
     },
     "metadata": {},
     "output_type": "display_data"
    },
    {
     "data": {
      "text/plain": "Client:   0%|          | 0/50 [00:00<?, ?it/s]",
      "application/vnd.jupyter.widget-view+json": {
       "version_major": 2,
       "version_minor": 0,
       "model_id": "9dad44c072b249cda36047e806ee1866"
      }
     },
     "metadata": {},
     "output_type": "display_data"
    },
    {
     "data": {
      "text/plain": "Client:   0%|          | 0/50 [00:00<?, ?it/s]",
      "application/vnd.jupyter.widget-view+json": {
       "version_major": 2,
       "version_minor": 0,
       "model_id": "af403f621e174ed0a5819e04943f853f"
      }
     },
     "metadata": {},
     "output_type": "display_data"
    },
    {
     "data": {
      "text/plain": "Client:   0%|          | 0/50 [00:00<?, ?it/s]",
      "application/vnd.jupyter.widget-view+json": {
       "version_major": 2,
       "version_minor": 0,
       "model_id": "cac9ec426d474da28366726d0d333b45"
      }
     },
     "metadata": {},
     "output_type": "display_data"
    },
    {
     "data": {
      "text/plain": "Client:   0%|          | 0/50 [00:00<?, ?it/s]",
      "application/vnd.jupyter.widget-view+json": {
       "version_major": 2,
       "version_minor": 0,
       "model_id": "768487ab71ce4289aaa1daa3b6fbbe52"
      }
     },
     "metadata": {},
     "output_type": "display_data"
    },
    {
     "data": {
      "text/plain": "Client:   0%|          | 0/50 [00:00<?, ?it/s]",
      "application/vnd.jupyter.widget-view+json": {
       "version_major": 2,
       "version_minor": 0,
       "model_id": "1f1216f38cc74c34b70b1bf2018a52f2"
      }
     },
     "metadata": {},
     "output_type": "display_data"
    },
    {
     "data": {
      "text/plain": "Client:   0%|          | 0/50 [00:00<?, ?it/s]",
      "application/vnd.jupyter.widget-view+json": {
       "version_major": 2,
       "version_minor": 0,
       "model_id": "8bf6b28650b647e7b639c1988cb79d15"
      }
     },
     "metadata": {},
     "output_type": "display_data"
    },
    {
     "data": {
      "text/plain": "Client:   0%|          | 0/50 [00:00<?, ?it/s]",
      "application/vnd.jupyter.widget-view+json": {
       "version_major": 2,
       "version_minor": 0,
       "model_id": "001548b6c5be45f98c0b73bc26a96d4c"
      }
     },
     "metadata": {},
     "output_type": "display_data"
    },
    {
     "data": {
      "text/plain": "Client:   0%|          | 0/50 [00:00<?, ?it/s]",
      "application/vnd.jupyter.widget-view+json": {
       "version_major": 2,
       "version_minor": 0,
       "model_id": "9425f98e103f48beb24e10822ca149ef"
      }
     },
     "metadata": {},
     "output_type": "display_data"
    },
    {
     "data": {
      "text/plain": "Client:   0%|          | 0/50 [00:00<?, ?it/s]",
      "application/vnd.jupyter.widget-view+json": {
       "version_major": 2,
       "version_minor": 0,
       "model_id": "7f03a5bbeddf4f2299f2fc23b578d46e"
      }
     },
     "metadata": {},
     "output_type": "display_data"
    },
    {
     "data": {
      "text/plain": "Client:   0%|          | 0/50 [00:00<?, ?it/s]",
      "application/vnd.jupyter.widget-view+json": {
       "version_major": 2,
       "version_minor": 0,
       "model_id": "ab21716f05174961a780c298f344c151"
      }
     },
     "metadata": {},
     "output_type": "display_data"
    },
    {
     "data": {
      "text/plain": "Client:   0%|          | 0/50 [00:00<?, ?it/s]",
      "application/vnd.jupyter.widget-view+json": {
       "version_major": 2,
       "version_minor": 0,
       "model_id": "f48ed2ac5be14f218018381f8c8af366"
      }
     },
     "metadata": {},
     "output_type": "display_data"
    },
    {
     "data": {
      "text/plain": "Client:   0%|          | 0/50 [00:00<?, ?it/s]",
      "application/vnd.jupyter.widget-view+json": {
       "version_major": 2,
       "version_minor": 0,
       "model_id": "da906d02c52742d9946ae8728c64edfd"
      }
     },
     "metadata": {},
     "output_type": "display_data"
    },
    {
     "data": {
      "text/plain": "Client:   0%|          | 0/50 [00:00<?, ?it/s]",
      "application/vnd.jupyter.widget-view+json": {
       "version_major": 2,
       "version_minor": 0,
       "model_id": "31a20222431b4b149c0304e99b53857b"
      }
     },
     "metadata": {},
     "output_type": "display_data"
    },
    {
     "data": {
      "text/plain": "Client:   0%|          | 0/50 [00:00<?, ?it/s]",
      "application/vnd.jupyter.widget-view+json": {
       "version_major": 2,
       "version_minor": 0,
       "model_id": "057a9d14dcab4234bb6942e24266f80f"
      }
     },
     "metadata": {},
     "output_type": "display_data"
    },
    {
     "data": {
      "text/plain": "Client:   0%|          | 0/50 [00:00<?, ?it/s]",
      "application/vnd.jupyter.widget-view+json": {
       "version_major": 2,
       "version_minor": 0,
       "model_id": "1aba797aef7143e8b167933855c00a33"
      }
     },
     "metadata": {},
     "output_type": "display_data"
    },
    {
     "data": {
      "text/plain": "Client:   0%|          | 0/50 [00:00<?, ?it/s]",
      "application/vnd.jupyter.widget-view+json": {
       "version_major": 2,
       "version_minor": 0,
       "model_id": "8bb00b02f80d4f6d94fce85c72252aba"
      }
     },
     "metadata": {},
     "output_type": "display_data"
    },
    {
     "data": {
      "text/plain": "Client:   0%|          | 0/50 [00:00<?, ?it/s]",
      "application/vnd.jupyter.widget-view+json": {
       "version_major": 2,
       "version_minor": 0,
       "model_id": "dfc09d8235104f65a3ba2db41e488f2e"
      }
     },
     "metadata": {},
     "output_type": "display_data"
    },
    {
     "data": {
      "text/plain": "Client:   0%|          | 0/50 [00:00<?, ?it/s]",
      "application/vnd.jupyter.widget-view+json": {
       "version_major": 2,
       "version_minor": 0,
       "model_id": "1da4a88653b74f459c9f4f285d995344"
      }
     },
     "metadata": {},
     "output_type": "display_data"
    },
    {
     "data": {
      "text/plain": "Client:   0%|          | 0/50 [00:00<?, ?it/s]",
      "application/vnd.jupyter.widget-view+json": {
       "version_major": 2,
       "version_minor": 0,
       "model_id": "4e51aad7460d479aad1c4ce624f81f59"
      }
     },
     "metadata": {},
     "output_type": "display_data"
    },
    {
     "data": {
      "text/plain": "Client:   0%|          | 0/50 [00:00<?, ?it/s]",
      "application/vnd.jupyter.widget-view+json": {
       "version_major": 2,
       "version_minor": 0,
       "model_id": "6ecfaabac3304c7bbda774a85f47b003"
      }
     },
     "metadata": {},
     "output_type": "display_data"
    },
    {
     "data": {
      "text/plain": "Client:   0%|          | 0/50 [00:00<?, ?it/s]",
      "application/vnd.jupyter.widget-view+json": {
       "version_major": 2,
       "version_minor": 0,
       "model_id": "cd76465dd5714e65b25abff0f9e6b9ec"
      }
     },
     "metadata": {},
     "output_type": "display_data"
    },
    {
     "data": {
      "text/plain": "Client:   0%|          | 0/50 [00:00<?, ?it/s]",
      "application/vnd.jupyter.widget-view+json": {
       "version_major": 2,
       "version_minor": 0,
       "model_id": "322e4b3c2bc1415e8ba66c634753a9df"
      }
     },
     "metadata": {},
     "output_type": "display_data"
    },
    {
     "data": {
      "text/plain": "Client:   0%|          | 0/50 [00:00<?, ?it/s]",
      "application/vnd.jupyter.widget-view+json": {
       "version_major": 2,
       "version_minor": 0,
       "model_id": "44a97c9eb1d448d2851fca11e67fb5f9"
      }
     },
     "metadata": {},
     "output_type": "display_data"
    },
    {
     "data": {
      "text/plain": "Client:   0%|          | 0/50 [00:00<?, ?it/s]",
      "application/vnd.jupyter.widget-view+json": {
       "version_major": 2,
       "version_minor": 0,
       "model_id": "48dfccedf36845e4ad216ceb01c50845"
      }
     },
     "metadata": {},
     "output_type": "display_data"
    }
   ],
   "source": [
    "from federated_learning.flsc import FLSC\n",
    "\n",
    "flsc = FLSC(\n",
    "    model_class=MODEL,\n",
    "    loss=CrossEntropyLoss(),\n",
    "    optimizer=create_optimizer,\n",
    "    rounds=ROUNDS,\n",
    "    epochs=EPOCHS,\n",
    "    n_clusters=5,\n",
    "    clusters_per_client=3,\n",
    "    clients_per_round=GAMMA,\n",
    "    device=get_device()\n",
    ")\n",
    "\n",
    "results = flsc.fit(client_train_dataloaders, client_test_dataloaders)"
   ],
   "metadata": {
    "collapsed": false,
    "ExecuteTime": {
     "end_time": "2024-01-19T16:05:13.056951789Z",
     "start_time": "2024-01-19T15:59:12.769870407Z"
    }
   },
   "id": "99d5dc807a92d41b"
  },
  {
   "cell_type": "code",
   "execution_count": 6,
   "outputs": [
    {
     "data": {
      "text/plain": "variable  round  stage  accuracy      loss\n0             0   test  0.284264  2.240954\n1             0  train       NaN  2.272131\n2             1   test  0.187488  2.215966\n3             1  train       NaN  2.259499\n4             2   test  0.108165  2.190948",
      "text/html": "<div>\n<style scoped>\n    .dataframe tbody tr th:only-of-type {\n        vertical-align: middle;\n    }\n\n    .dataframe tbody tr th {\n        vertical-align: top;\n    }\n\n    .dataframe thead th {\n        text-align: right;\n    }\n</style>\n<table border=\"1\" class=\"dataframe\">\n  <thead>\n    <tr style=\"text-align: right;\">\n      <th>variable</th>\n      <th>round</th>\n      <th>stage</th>\n      <th>accuracy</th>\n      <th>loss</th>\n    </tr>\n  </thead>\n  <tbody>\n    <tr>\n      <th>0</th>\n      <td>0</td>\n      <td>test</td>\n      <td>0.284264</td>\n      <td>2.240954</td>\n    </tr>\n    <tr>\n      <th>1</th>\n      <td>0</td>\n      <td>train</td>\n      <td>NaN</td>\n      <td>2.272131</td>\n    </tr>\n    <tr>\n      <th>2</th>\n      <td>1</td>\n      <td>test</td>\n      <td>0.187488</td>\n      <td>2.215966</td>\n    </tr>\n    <tr>\n      <th>3</th>\n      <td>1</td>\n      <td>train</td>\n      <td>NaN</td>\n      <td>2.259499</td>\n    </tr>\n    <tr>\n      <th>4</th>\n      <td>2</td>\n      <td>test</td>\n      <td>0.108165</td>\n      <td>2.190948</td>\n    </tr>\n  </tbody>\n</table>\n</div>"
     },
     "execution_count": 6,
     "metadata": {},
     "output_type": "execute_result"
    }
   ],
   "source": [
    "df = results.as_dataframe()\n",
    "df = df.pivot_table(columns=[\"variable\"], values=\"value\", index=[\"round\", \"client\", \"stage\"])\\\n",
    "    .reset_index()\n",
    "df = df.drop(columns=[\"cluster_identities\", \"client\"]).groupby([\"round\", \"stage\"]).mean().reset_index()\n",
    "df.head()"
   ],
   "metadata": {
    "collapsed": false,
    "ExecuteTime": {
     "end_time": "2024-01-19T16:05:13.696820234Z",
     "start_time": "2024-01-19T16:05:13.076670587Z"
    }
   },
   "id": "57edbd68b2fcf9"
  },
  {
   "cell_type": "code",
   "execution_count": 7,
   "outputs": [
    {
     "data": {
      "text/plain": "variable  round  stage  accuracy      loss\n0             0   test  0.284264  2.240954\n1             0  train       NaN  2.272131\n2             1   test  0.187488  2.215966\n3             1  train       NaN  2.259499\n4             2   test  0.108165  2.190948\n..          ...    ...       ...       ...\n95           47  train       NaN  0.762199\n96           48   test  0.790061  0.625918\n97           48  train       NaN  0.732616\n98           49   test  0.798514  0.613707\n99           49  train       NaN  0.721445\n\n[100 rows x 4 columns]",
      "text/html": "<div>\n<style scoped>\n    .dataframe tbody tr th:only-of-type {\n        vertical-align: middle;\n    }\n\n    .dataframe tbody tr th {\n        vertical-align: top;\n    }\n\n    .dataframe thead th {\n        text-align: right;\n    }\n</style>\n<table border=\"1\" class=\"dataframe\">\n  <thead>\n    <tr style=\"text-align: right;\">\n      <th>variable</th>\n      <th>round</th>\n      <th>stage</th>\n      <th>accuracy</th>\n      <th>loss</th>\n    </tr>\n  </thead>\n  <tbody>\n    <tr>\n      <th>0</th>\n      <td>0</td>\n      <td>test</td>\n      <td>0.284264</td>\n      <td>2.240954</td>\n    </tr>\n    <tr>\n      <th>1</th>\n      <td>0</td>\n      <td>train</td>\n      <td>NaN</td>\n      <td>2.272131</td>\n    </tr>\n    <tr>\n      <th>2</th>\n      <td>1</td>\n      <td>test</td>\n      <td>0.187488</td>\n      <td>2.215966</td>\n    </tr>\n    <tr>\n      <th>3</th>\n      <td>1</td>\n      <td>train</td>\n      <td>NaN</td>\n      <td>2.259499</td>\n    </tr>\n    <tr>\n      <th>4</th>\n      <td>2</td>\n      <td>test</td>\n      <td>0.108165</td>\n      <td>2.190948</td>\n    </tr>\n    <tr>\n      <th>...</th>\n      <td>...</td>\n      <td>...</td>\n      <td>...</td>\n      <td>...</td>\n    </tr>\n    <tr>\n      <th>95</th>\n      <td>47</td>\n      <td>train</td>\n      <td>NaN</td>\n      <td>0.762199</td>\n    </tr>\n    <tr>\n      <th>96</th>\n      <td>48</td>\n      <td>test</td>\n      <td>0.790061</td>\n      <td>0.625918</td>\n    </tr>\n    <tr>\n      <th>97</th>\n      <td>48</td>\n      <td>train</td>\n      <td>NaN</td>\n      <td>0.732616</td>\n    </tr>\n    <tr>\n      <th>98</th>\n      <td>49</td>\n      <td>test</td>\n      <td>0.798514</td>\n      <td>0.613707</td>\n    </tr>\n    <tr>\n      <th>99</th>\n      <td>49</td>\n      <td>train</td>\n      <td>NaN</td>\n      <td>0.721445</td>\n    </tr>\n  </tbody>\n</table>\n<p>100 rows × 4 columns</p>\n</div>"
     },
     "execution_count": 7,
     "metadata": {},
     "output_type": "execute_result"
    }
   ],
   "source": [
    "df"
   ],
   "metadata": {
    "collapsed": false,
    "ExecuteTime": {
     "end_time": "2024-01-19T16:05:13.697751861Z",
     "start_time": "2024-01-19T16:05:13.689520946Z"
    }
   },
   "id": "263dcba9cfc52ed6"
  },
  {
   "cell_type": "code",
   "execution_count": 8,
   "outputs": [
    {
     "data": {
      "image/png": "[encoded data removed]"
     },
     "metadata": {},
     "output_type": "display_data"
    }
   ],
   "source": [
    "px.line(df, x=\"round\", y=\"accuracy\", color=\"stage\")"
   ],
   "metadata": {
    "collapsed": false,
    "ExecuteTime": {
     "end_time": "2024-01-19T16:05:14.273812127Z",
     "start_time": "2024-01-19T16:05:13.695529795Z"
    }
   },
   "id": "161864ab3fd5585c"
  }
 ],
 "metadata": {
  "kernelspec": {
   "display_name": "Python 3",
   "language": "python",
   "name": "python3"
  },
  "language_info": {
   "codemirror_mode": {
    "name": "ipython",
    "version": 2
   },
   "file_extension": ".py",
   "mimetype": "text/x-python",
   "name": "python",
   "nbconvert_exporter": "python",
   "pygments_lexer": "ipython2",
   "version": "2.7.6"
  }
 },
 "nbformat": 4,
 "nbformat_minor": 5
}
