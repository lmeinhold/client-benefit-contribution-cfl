{
 "cells": [
  {
   "cell_type": "code",
   "execution_count": 1,
   "id": "initial_id",
   "metadata": {
    "collapsed": true,
    "ExecuteTime": {
     "end_time": "2023-11-26T23:46:41.846887612Z",
     "start_time": "2023-11-26T23:46:40.232625793Z"
    }
   },
   "outputs": [],
   "source": [
    "import numpy as np\n",
    "import pandas as pd\n",
    "\n",
    "import json\n",
    "\n",
    "import plotly.express as px\n",
    "import plotly.graph_objs as go\n",
    "import plotly.io as pio\n",
    "import torch.utils.data\n",
    "from torch.nn import CrossEntropyLoss\n",
    "\n",
    "from utils.torchutils import get_device\n",
    "\n",
    "pio.templates.default = \"simple_white\"\n",
    "# pio.renderers.default = \"plotly_mimetype\"\n",
    "pio.renderers.default = \"png\"\n",
    "\n",
    "from experiments.datasets.imbalancing import split_with_label_distribution_skew, train_test_split\n",
    "from experiments.datasets.cifar import CIFAR10\n",
    "from experiments.datasets.mnist import MNIST\n",
    "\n",
    "from models.mnist import CNN\n",
    "from experiments.datasets.base import create_dataloader\n",
    "\n",
    "from torch.optim import SGD"
   ]
  },
  {
   "cell_type": "code",
   "execution_count": 2,
   "outputs": [],
   "source": [
    "BASEDIR = \"../output\"\n",
    "\n",
    "N_CLIENTS = 50\n",
    "GAMMA = 0.8\n",
    "BATCH_SIZE = 64\n",
    "LR = 2e-3\n",
    "EPOCHS = 5\n",
    "ROUNDS = 30\n",
    "ALPHA = 1\n",
    "MU = 0\n",
    "MODEL = CNN"
   ],
   "metadata": {
    "collapsed": false,
    "ExecuteTime": {
     "end_time": "2023-11-26T23:46:41.867898941Z",
     "start_time": "2023-11-26T23:46:41.849007031Z"
    }
   },
   "id": "c3d251e4b6057ad1"
  },
  {
   "cell_type": "code",
   "execution_count": 3,
   "outputs": [],
   "source": [
    "dataset = MNIST(\"/tmp/data\").train_data()\n",
    "\n",
    "client_datasets = split_with_label_distribution_skew(dataset, ALPHA, N_CLIENTS)\n",
    "client_train_datasets, client_test_datasets = train_test_split(client_datasets)\n",
    "\n",
    "client_train_dataloaders = [create_dataloader(ds, BATCH_SIZE) for ds in client_train_datasets]\n",
    "client_test_dataloaders = [create_dataloader(ds, BATCH_SIZE) for ds in client_test_datasets]"
   ],
   "metadata": {
    "collapsed": false,
    "ExecuteTime": {
     "end_time": "2023-11-26T23:46:41.916212998Z",
     "start_time": "2023-11-26T23:46:41.851987807Z"
    }
   },
   "id": "8e6d94df1885cddb"
  },
  {
   "cell_type": "code",
   "execution_count": 4,
   "outputs": [],
   "source": [
    "def create_optimizer(params):\n",
    "    return SGD(params, LR)"
   ],
   "metadata": {
    "collapsed": false,
    "ExecuteTime": {
     "end_time": "2023-11-26T23:46:41.929282281Z",
     "start_time": "2023-11-26T23:46:41.917903351Z"
    }
   },
   "id": "9c4160cb666d7d3a"
  },
  {
   "cell_type": "code",
   "execution_count": 5,
   "outputs": [
    {
     "name": "stdout",
     "output_type": "stream",
     "text": [
      "Using device 'cuda'\n",
      "40\n"
     ]
    },
    {
     "data": {
      "text/plain": "Round:   0%|          | 0/30 [00:00<?, ?it/s]",
      "application/vnd.jupyter.widget-view+json": {
       "version_major": 2,
       "version_minor": 0,
       "model_id": "86bd570324c242898cd7605309b060d2"
      }
     },
     "metadata": {},
     "output_type": "display_data"
    },
    {
     "data": {
      "text/plain": "Client:   0%|          | 0/50 [00:00<?, ?it/s]",
      "application/vnd.jupyter.widget-view+json": {
       "version_major": 2,
       "version_minor": 0,
       "model_id": "6af682ea90204b038d480e48061ca057"
      }
     },
     "metadata": {},
     "output_type": "display_data"
    },
    {
     "name": "stderr",
     "output_type": "stream",
     "text": [
      "/home/lukas/Work/masterthesis-clustered-fl/.venv/lib/python3.11/site-packages/torch/overrides.py:110: UserWarning:\n",
      "\n",
      "'has_cuda' is deprecated, please use 'torch.backends.cuda.is_built()'\n",
      "\n",
      "/home/lukas/Work/masterthesis-clustered-fl/.venv/lib/python3.11/site-packages/torch/overrides.py:111: UserWarning:\n",
      "\n",
      "'has_cudnn' is deprecated, please use 'torch.backends.cudnn.is_available()'\n",
      "\n",
      "/home/lukas/Work/masterthesis-clustered-fl/.venv/lib/python3.11/site-packages/torch/overrides.py:117: UserWarning:\n",
      "\n",
      "'has_mps' is deprecated, please use 'torch.backends.mps.is_built()'\n",
      "\n",
      "/home/lukas/Work/masterthesis-clustered-fl/.venv/lib/python3.11/site-packages/torch/overrides.py:118: UserWarning:\n",
      "\n",
      "'has_mkldnn' is deprecated, please use 'torch.backends.mkldnn.is_available()'\n",
      "\n"
     ]
    },
    {
     "data": {
      "text/plain": "Client:   0%|          | 0/50 [00:00<?, ?it/s]",
      "application/vnd.jupyter.widget-view+json": {
       "version_major": 2,
       "version_minor": 0,
       "model_id": "f6cd1d4a1be14365964c679c8becb495"
      }
     },
     "metadata": {},
     "output_type": "display_data"
    },
    {
     "data": {
      "text/plain": "Client:   0%|          | 0/50 [00:00<?, ?it/s]",
      "application/vnd.jupyter.widget-view+json": {
       "version_major": 2,
       "version_minor": 0,
       "model_id": "b936235fe6ce4a99b40dd4409f669289"
      }
     },
     "metadata": {},
     "output_type": "display_data"
    },
    {
     "data": {
      "text/plain": "Client:   0%|          | 0/50 [00:00<?, ?it/s]",
      "application/vnd.jupyter.widget-view+json": {
       "version_major": 2,
       "version_minor": 0,
       "model_id": "b0e6d27df84547848aef1a43df5f4825"
      }
     },
     "metadata": {},
     "output_type": "display_data"
    },
    {
     "data": {
      "text/plain": "Client:   0%|          | 0/50 [00:00<?, ?it/s]",
      "application/vnd.jupyter.widget-view+json": {
       "version_major": 2,
       "version_minor": 0,
       "model_id": "dff6140c47054adc8465463395044059"
      }
     },
     "metadata": {},
     "output_type": "display_data"
    },
    {
     "data": {
      "text/plain": "Client:   0%|          | 0/50 [00:00<?, ?it/s]",
      "application/vnd.jupyter.widget-view+json": {
       "version_major": 2,
       "version_minor": 0,
       "model_id": "ae38644a34f54eb49539ba5e454137c8"
      }
     },
     "metadata": {},
     "output_type": "display_data"
    },
    {
     "data": {
      "text/plain": "Client:   0%|          | 0/50 [00:00<?, ?it/s]",
      "application/vnd.jupyter.widget-view+json": {
       "version_major": 2,
       "version_minor": 0,
       "model_id": "b038bd6049dd4ba8896a7f72b931d728"
      }
     },
     "metadata": {},
     "output_type": "display_data"
    },
    {
     "data": {
      "text/plain": "Client:   0%|          | 0/50 [00:00<?, ?it/s]",
      "application/vnd.jupyter.widget-view+json": {
       "version_major": 2,
       "version_minor": 0,
       "model_id": "f1a5b196c3fb4b4482e4a14e08df4617"
      }
     },
     "metadata": {},
     "output_type": "display_data"
    },
    {
     "data": {
      "text/plain": "Client:   0%|          | 0/50 [00:00<?, ?it/s]",
      "application/vnd.jupyter.widget-view+json": {
       "version_major": 2,
       "version_minor": 0,
       "model_id": "6776123e3be94b778d2fdb6b302e3dab"
      }
     },
     "metadata": {},
     "output_type": "display_data"
    },
    {
     "data": {
      "text/plain": "Client:   0%|          | 0/50 [00:00<?, ?it/s]",
      "application/vnd.jupyter.widget-view+json": {
       "version_major": 2,
       "version_minor": 0,
       "model_id": "3e85a78fdc5b4631bb8a16dc65e624a4"
      }
     },
     "metadata": {},
     "output_type": "display_data"
    },
    {
     "data": {
      "text/plain": "Client:   0%|          | 0/50 [00:00<?, ?it/s]",
      "application/vnd.jupyter.widget-view+json": {
       "version_major": 2,
       "version_minor": 0,
       "model_id": "83ccf42e51734f209fd6c80f6ecf2399"
      }
     },
     "metadata": {},
     "output_type": "display_data"
    },
    {
     "data": {
      "text/plain": "Client:   0%|          | 0/50 [00:00<?, ?it/s]",
      "application/vnd.jupyter.widget-view+json": {
       "version_major": 2,
       "version_minor": 0,
       "model_id": "e0910e0af4804c5fb5f8d8f1f37034d2"
      }
     },
     "metadata": {},
     "output_type": "display_data"
    },
    {
     "data": {
      "text/plain": "Client:   0%|          | 0/50 [00:00<?, ?it/s]",
      "application/vnd.jupyter.widget-view+json": {
       "version_major": 2,
       "version_minor": 0,
       "model_id": "241f674cd71c417fbc23f00f8c6e4a8d"
      }
     },
     "metadata": {},
     "output_type": "display_data"
    },
    {
     "data": {
      "text/plain": "Client:   0%|          | 0/50 [00:00<?, ?it/s]",
      "application/vnd.jupyter.widget-view+json": {
       "version_major": 2,
       "version_minor": 0,
       "model_id": "9b8142be44934938b50dc0891c15f0c1"
      }
     },
     "metadata": {},
     "output_type": "display_data"
    },
    {
     "data": {
      "text/plain": "Client:   0%|          | 0/50 [00:00<?, ?it/s]",
      "application/vnd.jupyter.widget-view+json": {
       "version_major": 2,
       "version_minor": 0,
       "model_id": "d88d4e5aa05b48b4a6b80c58aec63e24"
      }
     },
     "metadata": {},
     "output_type": "display_data"
    },
    {
     "data": {
      "text/plain": "Client:   0%|          | 0/50 [00:00<?, ?it/s]",
      "application/vnd.jupyter.widget-view+json": {
       "version_major": 2,
       "version_minor": 0,
       "model_id": "0677a48916d14cd8b36476a49d8bc84e"
      }
     },
     "metadata": {},
     "output_type": "display_data"
    },
    {
     "data": {
      "text/plain": "Client:   0%|          | 0/50 [00:00<?, ?it/s]",
      "application/vnd.jupyter.widget-view+json": {
       "version_major": 2,
       "version_minor": 0,
       "model_id": "34755964767548a58d3982b5f8d5f8ec"
      }
     },
     "metadata": {},
     "output_type": "display_data"
    },
    {
     "data": {
      "text/plain": "Client:   0%|          | 0/50 [00:00<?, ?it/s]",
      "application/vnd.jupyter.widget-view+json": {
       "version_major": 2,
       "version_minor": 0,
       "model_id": "ee4f0f775c43488e8ae8c41854c92c0a"
      }
     },
     "metadata": {},
     "output_type": "display_data"
    },
    {
     "data": {
      "text/plain": "Client:   0%|          | 0/50 [00:00<?, ?it/s]",
      "application/vnd.jupyter.widget-view+json": {
       "version_major": 2,
       "version_minor": 0,
       "model_id": "27f46e458b604ba699be7fbc57e29859"
      }
     },
     "metadata": {},
     "output_type": "display_data"
    },
    {
     "data": {
      "text/plain": "Client:   0%|          | 0/50 [00:00<?, ?it/s]",
      "application/vnd.jupyter.widget-view+json": {
       "version_major": 2,
       "version_minor": 0,
       "model_id": "5999d9b09e1b4159aaec350704400537"
      }
     },
     "metadata": {},
     "output_type": "display_data"
    },
    {
     "data": {
      "text/plain": "Client:   0%|          | 0/50 [00:00<?, ?it/s]",
      "application/vnd.jupyter.widget-view+json": {
       "version_major": 2,
       "version_minor": 0,
       "model_id": "5382b84f92994ec6985ac5469b724cd8"
      }
     },
     "metadata": {},
     "output_type": "display_data"
    },
    {
     "data": {
      "text/plain": "Client:   0%|          | 0/50 [00:00<?, ?it/s]",
      "application/vnd.jupyter.widget-view+json": {
       "version_major": 2,
       "version_minor": 0,
       "model_id": "b8d6f3252aa948e59268a621a75a4022"
      }
     },
     "metadata": {},
     "output_type": "display_data"
    },
    {
     "data": {
      "text/plain": "Client:   0%|          | 0/50 [00:00<?, ?it/s]",
      "application/vnd.jupyter.widget-view+json": {
       "version_major": 2,
       "version_minor": 0,
       "model_id": "bccabfb30228494097466daca8f10f06"
      }
     },
     "metadata": {},
     "output_type": "display_data"
    },
    {
     "data": {
      "text/plain": "Client:   0%|          | 0/50 [00:00<?, ?it/s]",
      "application/vnd.jupyter.widget-view+json": {
       "version_major": 2,
       "version_minor": 0,
       "model_id": "d7bf6df64205484b895e88cf86b079f6"
      }
     },
     "metadata": {},
     "output_type": "display_data"
    },
    {
     "data": {
      "text/plain": "Client:   0%|          | 0/50 [00:00<?, ?it/s]",
      "application/vnd.jupyter.widget-view+json": {
       "version_major": 2,
       "version_minor": 0,
       "model_id": "1b06864a348e4607866768b239a42adf"
      }
     },
     "metadata": {},
     "output_type": "display_data"
    },
    {
     "data": {
      "text/plain": "Client:   0%|          | 0/50 [00:00<?, ?it/s]",
      "application/vnd.jupyter.widget-view+json": {
       "version_major": 2,
       "version_minor": 0,
       "model_id": "c35f3b30720f49a9bce15324f539a391"
      }
     },
     "metadata": {},
     "output_type": "display_data"
    },
    {
     "data": {
      "text/plain": "Client:   0%|          | 0/50 [00:00<?, ?it/s]",
      "application/vnd.jupyter.widget-view+json": {
       "version_major": 2,
       "version_minor": 0,
       "model_id": "eb96a3fb8f814210a9b35b1554c7c59c"
      }
     },
     "metadata": {},
     "output_type": "display_data"
    },
    {
     "data": {
      "text/plain": "Client:   0%|          | 0/50 [00:00<?, ?it/s]",
      "application/vnd.jupyter.widget-view+json": {
       "version_major": 2,
       "version_minor": 0,
       "model_id": "436516c5abe840f2922214a53c35c4f3"
      }
     },
     "metadata": {},
     "output_type": "display_data"
    },
    {
     "data": {
      "text/plain": "Client:   0%|          | 0/50 [00:00<?, ?it/s]",
      "application/vnd.jupyter.widget-view+json": {
       "version_major": 2,
       "version_minor": 0,
       "model_id": "714890f58a5c4ddf85328d0d3842eb9e"
      }
     },
     "metadata": {},
     "output_type": "display_data"
    },
    {
     "data": {
      "text/plain": "Client:   0%|          | 0/50 [00:00<?, ?it/s]",
      "application/vnd.jupyter.widget-view+json": {
       "version_major": 2,
       "version_minor": 0,
       "model_id": "a4c2e53cfcfd43119e70950dd2e442aa"
      }
     },
     "metadata": {},
     "output_type": "display_data"
    }
   ],
   "source": [
    "from federated_learning.fedprox_new import FedProx\n",
    "\n",
    "fedprox = FedProx(\n",
    "    model_class=MODEL,\n",
    "    loss=CrossEntropyLoss(),\n",
    "    optimizer=create_optimizer,\n",
    "    rounds=ROUNDS,\n",
    "    epochs=EPOCHS,\n",
    "    gamma=GAMMA,\n",
    "    mu=MU,\n",
    "    device=get_device()\n",
    ")\n",
    "\n",
    "results = fedprox.fit(client_train_dataloaders, client_test_dataloaders)"
   ],
   "metadata": {
    "collapsed": false,
    "ExecuteTime": {
     "end_time": "2023-11-26T23:48:34.131509872Z",
     "start_time": "2023-11-26T23:46:41.920077625Z"
    }
   },
   "id": "99d5dc807a92d41b"
  },
  {
   "cell_type": "code",
   "execution_count": 6,
   "outputs": [],
   "source": [
    "df = results.as_dataframe()"
   ],
   "metadata": {
    "collapsed": false,
    "ExecuteTime": {
     "end_time": "2023-11-26T23:48:34.139254894Z",
     "start_time": "2023-11-26T23:48:34.135731487Z"
    }
   },
   "id": "57edbd68b2fcf9"
  },
  {
   "cell_type": "code",
   "execution_count": 7,
   "outputs": [
    {
     "data": {
      "text/plain": "    round  client0_train_loss  client0_test_loss  client0_test_accuracy  \\\n0       1            2.154476           2.054477               0.333333   \n1       2            0.297012           0.293884               0.923372   \n2       3            0.278620           0.303307               0.923372   \n3       4            0.264454           0.328216               0.923372   \n4       5            0.260475           0.222132               0.934866   \n5       6                 NaN                NaN                    NaN   \n6       7                 NaN                NaN                    NaN   \n7       8            0.222458           0.217537               0.942529   \n8       9            0.213642           0.225220               0.942529   \n9      10                 NaN                NaN                    NaN   \n10     11                 NaN                NaN                    NaN   \n11     12                 NaN                NaN                    NaN   \n12     13            0.187905           0.228285               0.946360   \n13     14            0.202261           0.253063               0.954023   \n14     15            0.176755           0.242743               0.950192   \n15     16            0.177931           0.165898               0.950192   \n16     17                 NaN                NaN                    NaN   \n17     18            0.175343           0.325152               0.950192   \n18     19            0.182328           0.172826               0.957854   \n19     20                 NaN                NaN                    NaN   \n20     21                 NaN                NaN                    NaN   \n21     22                 NaN                NaN                    NaN   \n22     23            0.162183           0.316543               0.961686   \n23     24                 NaN                NaN                    NaN   \n24     25                 NaN                NaN                    NaN   \n25     26                 NaN                NaN                    NaN   \n26     27                 NaN                NaN                    NaN   \n27     28            0.154175           0.142204               0.965517   \n28     29            0.155195           0.141686               0.961686   \n29     30                 NaN                NaN                    NaN   \n\n    client1_train_loss  client1_test_loss  client1_test_accuracy  \\\n0             2.185396           2.046200               0.404762   \n1                  NaN                NaN                    NaN   \n2             0.328774           0.327892               0.897959   \n3             0.327583           0.321916               0.908163   \n4             0.322105           0.319150               0.904762   \n5                  NaN                NaN                    NaN   \n6             0.286918           0.294010               0.914966   \n7             0.280999           0.292478               0.914966   \n8             0.276335           0.282866               0.914966   \n9             0.270825           0.294009               0.914966   \n10            0.217770           0.259643               0.925170   \n11                 NaN                NaN                    NaN   \n12            0.228981           0.257618               0.914966   \n13                 NaN                NaN                    NaN   \n14            0.214564           0.251840               0.918367   \n15            0.223097           0.251883               0.918367   \n16            0.200989           0.247273               0.921769   \n17            0.213975           0.243899               0.918367   \n18            0.178914           0.221918               0.921769   \n19                 NaN                NaN                    NaN   \n20                 NaN                NaN                    NaN   \n21            0.204385           0.240158               0.921769   \n22                 NaN                NaN                    NaN   \n23                 NaN                NaN                    NaN   \n24                 NaN                NaN                    NaN   \n25            0.202580           0.241664               0.918367   \n26            0.178500           0.220937               0.921769   \n27            0.193540           0.234432               0.918367   \n28                 NaN                NaN                    NaN   \n29            0.187566           0.220832               0.921769   \n\n    client2_train_loss  client2_test_loss  client2_test_accuracy  ...  \\\n0                  NaN                NaN                    NaN  ...   \n1             0.332033           0.306361               0.929134  ...   \n2                  NaN                NaN                    NaN  ...   \n3             0.329983           0.290779               0.933071  ...   \n4             0.323986           0.283939               0.933071  ...   \n5             0.281180           0.272157               0.937008  ...   \n6             0.272975           0.265951               0.944882  ...   \n7             0.266495           0.256016               0.948819  ...   \n8                  NaN                NaN                    NaN  ...   \n9             0.258463           0.246108               0.944882  ...   \n10                 NaN                NaN                    NaN  ...   \n11                 NaN                NaN                    NaN  ...   \n12                 NaN                NaN                    NaN  ...   \n13                 NaN                NaN                    NaN  ...   \n14            0.197281           0.213496               0.944882  ...   \n15            0.206401           0.209769               0.940945  ...   \n16                 NaN                NaN                    NaN  ...   \n17                 NaN                NaN                    NaN  ...   \n18            0.171997           0.199648               0.948819  ...   \n19                 NaN                NaN                    NaN  ...   \n20            0.181803           0.195219               0.948819  ...   \n21                 NaN                NaN                    NaN  ...   \n22            0.175779           0.191338               0.944882  ...   \n23            0.182039           0.188321               0.948819  ...   \n24            0.182164           0.186659               0.948819  ...   \n25                 NaN                NaN                    NaN  ...   \n26                 NaN                NaN                    NaN  ...   \n27                 NaN                NaN                    NaN  ...   \n28            0.177160           0.182388               0.948819  ...   \n29            0.162857           0.181736               0.944882  ...   \n\n    client47_test_accuracy  client48_train_loss  client48_test_loss  \\\n0                 0.928571             0.554747            0.514740   \n1                 0.953782             0.391588            0.417045   \n2                 0.949580                  NaN                 NaN   \n3                 0.962185                  NaN                 NaN   \n4                 0.957983             0.328107            0.331771   \n5                      NaN             0.287203            0.313961   \n6                 0.962185             0.250171            0.281263   \n7                      NaN             0.225340            0.278067   \n8                      NaN             0.226951            0.275248   \n9                      NaN                  NaN                 NaN   \n10                     NaN                  NaN                 NaN   \n11                0.974790             0.244345            0.235996   \n12                     NaN                  NaN                 NaN   \n13                     NaN             0.213295            0.255479   \n14                     NaN             0.184745            0.247533   \n15                0.978992                  NaN                 NaN   \n16                     NaN                  NaN                 NaN   \n17                     NaN                  NaN                 NaN   \n18                     NaN             0.186722            0.200394   \n19                     NaN             0.182624            0.216431   \n20                0.974790                  NaN                 NaN   \n21                     NaN             0.161437            0.227197   \n22                0.974790             0.146930            0.212338   \n23                     NaN             0.153761            0.220689   \n24                0.978992                  NaN                 NaN   \n25                0.978992                  NaN                 NaN   \n26                0.978992             0.147663            0.174031   \n27                     NaN                  NaN                 NaN   \n28                     NaN             0.138099            0.211985   \n29                0.978992                  NaN                 NaN   \n\n    client48_test_accuracy  client49_train_loss  client49_test_loss  \\\n0                 0.898810             0.312319            0.277687   \n1                 0.907738             0.253143            0.234057   \n2                      NaN             0.223383            0.212992   \n3                      NaN             0.211403            0.200612   \n4                 0.922619                  NaN                 NaN   \n5                 0.928571                  NaN                 NaN   \n6                 0.928571                  NaN                 NaN   \n7                 0.931548             0.171427            0.155542   \n8                 0.937500             0.142954            0.141633   \n9                      NaN                  NaN                 NaN   \n10                     NaN                  NaN                 NaN   \n11                0.946429                  NaN                 NaN   \n12                     NaN                  NaN                 NaN   \n13                0.946429             0.147355            0.134756   \n14                0.940476             0.106109            0.112713   \n15                     NaN                  NaN                 NaN   \n16                     NaN             0.115885            0.110901   \n17                     NaN                  NaN                 NaN   \n18                0.937500             0.125921            0.105897   \n19                0.925595                  NaN                 NaN   \n20                     NaN             0.084357            0.104620   \n21                0.937500                  NaN                 NaN   \n22                0.940476             0.080769            0.095897   \n23                0.946429             0.077954            0.101260   \n24                     NaN             0.068404            0.102662   \n25                     NaN                  NaN                 NaN   \n26                0.937500             0.087141            0.217891   \n27                     NaN             0.063624            0.088175   \n28                0.937500                  NaN                 NaN   \n29                     NaN             0.058426            0.094370   \n\n    client49_test_accuracy  average_train_loss  average_test_loss  \\\n0                 0.958333            1.212113           1.062622   \n1                 0.968750            0.362212           0.318741   \n2                 0.961806            0.365140           0.300003   \n3                 0.961806            0.356376           0.294541   \n4                      NaN            0.348228           0.276485   \n5                      NaN            0.307098           0.269051   \n6                      NaN            0.300428           0.256706   \n7                 0.968750            0.297149           0.247301   \n8                 0.979167            0.275713           0.238955   \n9                      NaN            0.299714           0.253959   \n10                     NaN            0.247100           0.220283   \n11                     NaN            0.238727           0.196009   \n12                     NaN            0.239313           0.202011   \n13                0.972222            0.229404           0.209302   \n14                0.979167            0.224077           0.214385   \n15                     NaN            0.230688           0.185916   \n16                0.979167            0.218282           0.196834   \n17                     NaN            0.225716           0.191304   \n18                0.979167            0.200181           0.180590   \n19                     NaN            0.212995           0.193201   \n20                0.979167            0.214601           0.189109   \n21                     NaN            0.200236           0.184802   \n22                0.979167            0.192811           0.181315   \n23                0.972222            0.200565           0.168742   \n24                0.975694            0.198457           0.168790   \n25                     NaN            0.210756           0.176859   \n26                0.920139            0.180022           0.168382   \n27                0.986111            0.191188           0.160196   \n28                     NaN            0.201048           0.168991   \n29                0.979167            0.190903           0.176327   \n\n    average_test_accuracy  \n0                0.716140  \n1                0.929488  \n2                0.925921  \n3                0.931385  \n4                0.930635  \n5                0.933388  \n6                0.934551  \n7                0.938482  \n8                0.940795  \n9                0.935537  \n10               0.945831  \n11               0.950706  \n12               0.944852  \n13               0.942803  \n14               0.941995  \n15               0.946265  \n16               0.944130  \n17               0.945799  \n18               0.947043  \n19               0.943980  \n20               0.948106  \n21               0.947784  \n22               0.953851  \n23               0.950543  \n24               0.954175  \n25               0.950346  \n26               0.949558  \n27               0.950599  \n28               0.950934  \n29               0.952826  \n\n[30 rows x 154 columns]",
      "text/html": "<div>\n<style scoped>\n    .dataframe tbody tr th:only-of-type {\n        vertical-align: middle;\n    }\n\n    .dataframe tbody tr th {\n        vertical-align: top;\n    }\n\n    .dataframe thead th {\n        text-align: right;\n    }\n</style>\n<table border=\"1\" class=\"dataframe\">\n  <thead>\n    <tr style=\"text-align: right;\">\n      <th></th>\n      <th>round</th>\n      <th>client0_train_loss</th>\n      <th>client0_test_loss</th>\n      <th>client0_test_accuracy</th>\n      <th>client1_train_loss</th>\n      <th>client1_test_loss</th>\n      <th>client1_test_accuracy</th>\n      <th>client2_train_loss</th>\n      <th>client2_test_loss</th>\n      <th>client2_test_accuracy</th>\n      <th>...</th>\n      <th>client47_test_accuracy</th>\n      <th>client48_train_loss</th>\n      <th>client48_test_loss</th>\n      <th>client48_test_accuracy</th>\n      <th>client49_train_loss</th>\n      <th>client49_test_loss</th>\n      <th>client49_test_accuracy</th>\n      <th>average_train_loss</th>\n      <th>average_test_loss</th>\n      <th>average_test_accuracy</th>\n    </tr>\n  </thead>\n  <tbody>\n    <tr>\n      <th>0</th>\n      <td>1</td>\n      <td>2.154476</td>\n      <td>2.054477</td>\n      <td>0.333333</td>\n      <td>2.185396</td>\n      <td>2.046200</td>\n      <td>0.404762</td>\n      <td>NaN</td>\n      <td>NaN</td>\n      <td>NaN</td>\n      <td>...</td>\n      <td>0.928571</td>\n      <td>0.554747</td>\n      <td>0.514740</td>\n      <td>0.898810</td>\n      <td>0.312319</td>\n      <td>0.277687</td>\n      <td>0.958333</td>\n      <td>1.212113</td>\n      <td>1.062622</td>\n      <td>0.716140</td>\n    </tr>\n    <tr>\n      <th>1</th>\n      <td>2</td>\n      <td>0.297012</td>\n      <td>0.293884</td>\n      <td>0.923372</td>\n      <td>NaN</td>\n      <td>NaN</td>\n      <td>NaN</td>\n      <td>0.332033</td>\n      <td>0.306361</td>\n      <td>0.929134</td>\n      <td>...</td>\n      <td>0.953782</td>\n      <td>0.391588</td>\n      <td>0.417045</td>\n      <td>0.907738</td>\n      <td>0.253143</td>\n      <td>0.234057</td>\n      <td>0.968750</td>\n      <td>0.362212</td>\n      <td>0.318741</td>\n      <td>0.929488</td>\n    </tr>\n    <tr>\n      <th>2</th>\n      <td>3</td>\n      <td>0.278620</td>\n      <td>0.303307</td>\n      <td>0.923372</td>\n      <td>0.328774</td>\n      <td>0.327892</td>\n      <td>0.897959</td>\n      <td>NaN</td>\n      <td>NaN</td>\n      <td>NaN</td>\n      <td>...</td>\n      <td>0.949580</td>\n      <td>NaN</td>\n      <td>NaN</td>\n      <td>NaN</td>\n      <td>0.223383</td>\n      <td>0.212992</td>\n      <td>0.961806</td>\n      <td>0.365140</td>\n      <td>0.300003</td>\n      <td>0.925921</td>\n    </tr>\n    <tr>\n      <th>3</th>\n      <td>4</td>\n      <td>0.264454</td>\n      <td>0.328216</td>\n      <td>0.923372</td>\n      <td>0.327583</td>\n      <td>0.321916</td>\n      <td>0.908163</td>\n      <td>0.329983</td>\n      <td>0.290779</td>\n      <td>0.933071</td>\n      <td>...</td>\n      <td>0.962185</td>\n      <td>NaN</td>\n      <td>NaN</td>\n      <td>NaN</td>\n      <td>0.211403</td>\n      <td>0.200612</td>\n      <td>0.961806</td>\n      <td>0.356376</td>\n      <td>0.294541</td>\n      <td>0.931385</td>\n    </tr>\n    <tr>\n      <th>4</th>\n      <td>5</td>\n      <td>0.260475</td>\n      <td>0.222132</td>\n      <td>0.934866</td>\n      <td>0.322105</td>\n      <td>0.319150</td>\n      <td>0.904762</td>\n      <td>0.323986</td>\n      <td>0.283939</td>\n      <td>0.933071</td>\n      <td>...</td>\n      <td>0.957983</td>\n      <td>0.328107</td>\n      <td>0.331771</td>\n      <td>0.922619</td>\n      <td>NaN</td>\n      <td>NaN</td>\n      <td>NaN</td>\n      <td>0.348228</td>\n      <td>0.276485</td>\n      <td>0.930635</td>\n    </tr>\n    <tr>\n      <th>5</th>\n      <td>6</td>\n      <td>NaN</td>\n      <td>NaN</td>\n      <td>NaN</td>\n      <td>NaN</td>\n      <td>NaN</td>\n      <td>NaN</td>\n      <td>0.281180</td>\n      <td>0.272157</td>\n      <td>0.937008</td>\n      <td>...</td>\n      <td>NaN</td>\n      <td>0.287203</td>\n      <td>0.313961</td>\n      <td>0.928571</td>\n      <td>NaN</td>\n      <td>NaN</td>\n      <td>NaN</td>\n      <td>0.307098</td>\n      <td>0.269051</td>\n      <td>0.933388</td>\n    </tr>\n    <tr>\n      <th>6</th>\n      <td>7</td>\n      <td>NaN</td>\n      <td>NaN</td>\n      <td>NaN</td>\n      <td>0.286918</td>\n      <td>0.294010</td>\n      <td>0.914966</td>\n      <td>0.272975</td>\n      <td>0.265951</td>\n      <td>0.944882</td>\n      <td>...</td>\n      <td>0.962185</td>\n      <td>0.250171</td>\n      <td>0.281263</td>\n      <td>0.928571</td>\n      <td>NaN</td>\n      <td>NaN</td>\n      <td>NaN</td>\n      <td>0.300428</td>\n      <td>0.256706</td>\n      <td>0.934551</td>\n    </tr>\n    <tr>\n      <th>7</th>\n      <td>8</td>\n      <td>0.222458</td>\n      <td>0.217537</td>\n      <td>0.942529</td>\n      <td>0.280999</td>\n      <td>0.292478</td>\n      <td>0.914966</td>\n      <td>0.266495</td>\n      <td>0.256016</td>\n      <td>0.948819</td>\n      <td>...</td>\n      <td>NaN</td>\n      <td>0.225340</td>\n      <td>0.278067</td>\n      <td>0.931548</td>\n      <td>0.171427</td>\n      <td>0.155542</td>\n      <td>0.968750</td>\n      <td>0.297149</td>\n      <td>0.247301</td>\n      <td>0.938482</td>\n    </tr>\n    <tr>\n      <th>8</th>\n      <td>9</td>\n      <td>0.213642</td>\n      <td>0.225220</td>\n      <td>0.942529</td>\n      <td>0.276335</td>\n      <td>0.282866</td>\n      <td>0.914966</td>\n      <td>NaN</td>\n      <td>NaN</td>\n      <td>NaN</td>\n      <td>...</td>\n      <td>NaN</td>\n      <td>0.226951</td>\n      <td>0.275248</td>\n      <td>0.937500</td>\n      <td>0.142954</td>\n      <td>0.141633</td>\n      <td>0.979167</td>\n      <td>0.275713</td>\n      <td>0.238955</td>\n      <td>0.940795</td>\n    </tr>\n    <tr>\n      <th>9</th>\n      <td>10</td>\n      <td>NaN</td>\n      <td>NaN</td>\n      <td>NaN</td>\n      <td>0.270825</td>\n      <td>0.294009</td>\n      <td>0.914966</td>\n      <td>0.258463</td>\n      <td>0.246108</td>\n      <td>0.944882</td>\n      <td>...</td>\n      <td>NaN</td>\n      <td>NaN</td>\n      <td>NaN</td>\n      <td>NaN</td>\n      <td>NaN</td>\n      <td>NaN</td>\n      <td>NaN</td>\n      <td>0.299714</td>\n      <td>0.253959</td>\n      <td>0.935537</td>\n    </tr>\n    <tr>\n      <th>10</th>\n      <td>11</td>\n      <td>NaN</td>\n      <td>NaN</td>\n      <td>NaN</td>\n      <td>0.217770</td>\n      <td>0.259643</td>\n      <td>0.925170</td>\n      <td>NaN</td>\n      <td>NaN</td>\n      <td>NaN</td>\n      <td>...</td>\n      <td>NaN</td>\n      <td>NaN</td>\n      <td>NaN</td>\n      <td>NaN</td>\n      <td>NaN</td>\n      <td>NaN</td>\n      <td>NaN</td>\n      <td>0.247100</td>\n      <td>0.220283</td>\n      <td>0.945831</td>\n    </tr>\n    <tr>\n      <th>11</th>\n      <td>12</td>\n      <td>NaN</td>\n      <td>NaN</td>\n      <td>NaN</td>\n      <td>NaN</td>\n      <td>NaN</td>\n      <td>NaN</td>\n      <td>NaN</td>\n      <td>NaN</td>\n      <td>NaN</td>\n      <td>...</td>\n      <td>0.974790</td>\n      <td>0.244345</td>\n      <td>0.235996</td>\n      <td>0.946429</td>\n      <td>NaN</td>\n      <td>NaN</td>\n      <td>NaN</td>\n      <td>0.238727</td>\n      <td>0.196009</td>\n      <td>0.950706</td>\n    </tr>\n    <tr>\n      <th>12</th>\n      <td>13</td>\n      <td>0.187905</td>\n      <td>0.228285</td>\n      <td>0.946360</td>\n      <td>0.228981</td>\n      <td>0.257618</td>\n      <td>0.914966</td>\n      <td>NaN</td>\n      <td>NaN</td>\n      <td>NaN</td>\n      <td>...</td>\n      <td>NaN</td>\n      <td>NaN</td>\n      <td>NaN</td>\n      <td>NaN</td>\n      <td>NaN</td>\n      <td>NaN</td>\n      <td>NaN</td>\n      <td>0.239313</td>\n      <td>0.202011</td>\n      <td>0.944852</td>\n    </tr>\n    <tr>\n      <th>13</th>\n      <td>14</td>\n      <td>0.202261</td>\n      <td>0.253063</td>\n      <td>0.954023</td>\n      <td>NaN</td>\n      <td>NaN</td>\n      <td>NaN</td>\n      <td>NaN</td>\n      <td>NaN</td>\n      <td>NaN</td>\n      <td>...</td>\n      <td>NaN</td>\n      <td>0.213295</td>\n      <td>0.255479</td>\n      <td>0.946429</td>\n      <td>0.147355</td>\n      <td>0.134756</td>\n      <td>0.972222</td>\n      <td>0.229404</td>\n      <td>0.209302</td>\n      <td>0.942803</td>\n    </tr>\n    <tr>\n      <th>14</th>\n      <td>15</td>\n      <td>0.176755</td>\n      <td>0.242743</td>\n      <td>0.950192</td>\n      <td>0.214564</td>\n      <td>0.251840</td>\n      <td>0.918367</td>\n      <td>0.197281</td>\n      <td>0.213496</td>\n      <td>0.944882</td>\n      <td>...</td>\n      <td>NaN</td>\n      <td>0.184745</td>\n      <td>0.247533</td>\n      <td>0.940476</td>\n      <td>0.106109</td>\n      <td>0.112713</td>\n      <td>0.979167</td>\n      <td>0.224077</td>\n      <td>0.214385</td>\n      <td>0.941995</td>\n    </tr>\n    <tr>\n      <th>15</th>\n      <td>16</td>\n      <td>0.177931</td>\n      <td>0.165898</td>\n      <td>0.950192</td>\n      <td>0.223097</td>\n      <td>0.251883</td>\n      <td>0.918367</td>\n      <td>0.206401</td>\n      <td>0.209769</td>\n      <td>0.940945</td>\n      <td>...</td>\n      <td>0.978992</td>\n      <td>NaN</td>\n      <td>NaN</td>\n      <td>NaN</td>\n      <td>NaN</td>\n      <td>NaN</td>\n      <td>NaN</td>\n      <td>0.230688</td>\n      <td>0.185916</td>\n      <td>0.946265</td>\n    </tr>\n    <tr>\n      <th>16</th>\n      <td>17</td>\n      <td>NaN</td>\n      <td>NaN</td>\n      <td>NaN</td>\n      <td>0.200989</td>\n      <td>0.247273</td>\n      <td>0.921769</td>\n      <td>NaN</td>\n      <td>NaN</td>\n      <td>NaN</td>\n      <td>...</td>\n      <td>NaN</td>\n      <td>NaN</td>\n      <td>NaN</td>\n      <td>NaN</td>\n      <td>0.115885</td>\n      <td>0.110901</td>\n      <td>0.979167</td>\n      <td>0.218282</td>\n      <td>0.196834</td>\n      <td>0.944130</td>\n    </tr>\n    <tr>\n      <th>17</th>\n      <td>18</td>\n      <td>0.175343</td>\n      <td>0.325152</td>\n      <td>0.950192</td>\n      <td>0.213975</td>\n      <td>0.243899</td>\n      <td>0.918367</td>\n      <td>NaN</td>\n      <td>NaN</td>\n      <td>NaN</td>\n      <td>...</td>\n      <td>NaN</td>\n      <td>NaN</td>\n      <td>NaN</td>\n      <td>NaN</td>\n      <td>NaN</td>\n      <td>NaN</td>\n      <td>NaN</td>\n      <td>0.225716</td>\n      <td>0.191304</td>\n      <td>0.945799</td>\n    </tr>\n    <tr>\n      <th>18</th>\n      <td>19</td>\n      <td>0.182328</td>\n      <td>0.172826</td>\n      <td>0.957854</td>\n      <td>0.178914</td>\n      <td>0.221918</td>\n      <td>0.921769</td>\n      <td>0.171997</td>\n      <td>0.199648</td>\n      <td>0.948819</td>\n      <td>...</td>\n      <td>NaN</td>\n      <td>0.186722</td>\n      <td>0.200394</td>\n      <td>0.937500</td>\n      <td>0.125921</td>\n      <td>0.105897</td>\n      <td>0.979167</td>\n      <td>0.200181</td>\n      <td>0.180590</td>\n      <td>0.947043</td>\n    </tr>\n    <tr>\n      <th>19</th>\n      <td>20</td>\n      <td>NaN</td>\n      <td>NaN</td>\n      <td>NaN</td>\n      <td>NaN</td>\n      <td>NaN</td>\n      <td>NaN</td>\n      <td>NaN</td>\n      <td>NaN</td>\n      <td>NaN</td>\n      <td>...</td>\n      <td>NaN</td>\n      <td>0.182624</td>\n      <td>0.216431</td>\n      <td>0.925595</td>\n      <td>NaN</td>\n      <td>NaN</td>\n      <td>NaN</td>\n      <td>0.212995</td>\n      <td>0.193201</td>\n      <td>0.943980</td>\n    </tr>\n    <tr>\n      <th>20</th>\n      <td>21</td>\n      <td>NaN</td>\n      <td>NaN</td>\n      <td>NaN</td>\n      <td>NaN</td>\n      <td>NaN</td>\n      <td>NaN</td>\n      <td>0.181803</td>\n      <td>0.195219</td>\n      <td>0.948819</td>\n      <td>...</td>\n      <td>0.974790</td>\n      <td>NaN</td>\n      <td>NaN</td>\n      <td>NaN</td>\n      <td>0.084357</td>\n      <td>0.104620</td>\n      <td>0.979167</td>\n      <td>0.214601</td>\n      <td>0.189109</td>\n      <td>0.948106</td>\n    </tr>\n    <tr>\n      <th>21</th>\n      <td>22</td>\n      <td>NaN</td>\n      <td>NaN</td>\n      <td>NaN</td>\n      <td>0.204385</td>\n      <td>0.240158</td>\n      <td>0.921769</td>\n      <td>NaN</td>\n      <td>NaN</td>\n      <td>NaN</td>\n      <td>...</td>\n      <td>NaN</td>\n      <td>0.161437</td>\n      <td>0.227197</td>\n      <td>0.937500</td>\n      <td>NaN</td>\n      <td>NaN</td>\n      <td>NaN</td>\n      <td>0.200236</td>\n      <td>0.184802</td>\n      <td>0.947784</td>\n    </tr>\n    <tr>\n      <th>22</th>\n      <td>23</td>\n      <td>0.162183</td>\n      <td>0.316543</td>\n      <td>0.961686</td>\n      <td>NaN</td>\n      <td>NaN</td>\n      <td>NaN</td>\n      <td>0.175779</td>\n      <td>0.191338</td>\n      <td>0.944882</td>\n      <td>...</td>\n      <td>0.974790</td>\n      <td>0.146930</td>\n      <td>0.212338</td>\n      <td>0.940476</td>\n      <td>0.080769</td>\n      <td>0.095897</td>\n      <td>0.979167</td>\n      <td>0.192811</td>\n      <td>0.181315</td>\n      <td>0.953851</td>\n    </tr>\n    <tr>\n      <th>23</th>\n      <td>24</td>\n      <td>NaN</td>\n      <td>NaN</td>\n      <td>NaN</td>\n      <td>NaN</td>\n      <td>NaN</td>\n      <td>NaN</td>\n      <td>0.182039</td>\n      <td>0.188321</td>\n      <td>0.948819</td>\n      <td>...</td>\n      <td>NaN</td>\n      <td>0.153761</td>\n      <td>0.220689</td>\n      <td>0.946429</td>\n      <td>0.077954</td>\n      <td>0.101260</td>\n      <td>0.972222</td>\n      <td>0.200565</td>\n      <td>0.168742</td>\n      <td>0.950543</td>\n    </tr>\n    <tr>\n      <th>24</th>\n      <td>25</td>\n      <td>NaN</td>\n      <td>NaN</td>\n      <td>NaN</td>\n      <td>NaN</td>\n      <td>NaN</td>\n      <td>NaN</td>\n      <td>0.182164</td>\n      <td>0.186659</td>\n      <td>0.948819</td>\n      <td>...</td>\n      <td>0.978992</td>\n      <td>NaN</td>\n      <td>NaN</td>\n      <td>NaN</td>\n      <td>0.068404</td>\n      <td>0.102662</td>\n      <td>0.975694</td>\n      <td>0.198457</td>\n      <td>0.168790</td>\n      <td>0.954175</td>\n    </tr>\n    <tr>\n      <th>25</th>\n      <td>26</td>\n      <td>NaN</td>\n      <td>NaN</td>\n      <td>NaN</td>\n      <td>0.202580</td>\n      <td>0.241664</td>\n      <td>0.918367</td>\n      <td>NaN</td>\n      <td>NaN</td>\n      <td>NaN</td>\n      <td>...</td>\n      <td>0.978992</td>\n      <td>NaN</td>\n      <td>NaN</td>\n      <td>NaN</td>\n      <td>NaN</td>\n      <td>NaN</td>\n      <td>NaN</td>\n      <td>0.210756</td>\n      <td>0.176859</td>\n      <td>0.950346</td>\n    </tr>\n    <tr>\n      <th>26</th>\n      <td>27</td>\n      <td>NaN</td>\n      <td>NaN</td>\n      <td>NaN</td>\n      <td>0.178500</td>\n      <td>0.220937</td>\n      <td>0.921769</td>\n      <td>NaN</td>\n      <td>NaN</td>\n      <td>NaN</td>\n      <td>...</td>\n      <td>0.978992</td>\n      <td>0.147663</td>\n      <td>0.174031</td>\n      <td>0.937500</td>\n      <td>0.087141</td>\n      <td>0.217891</td>\n      <td>0.920139</td>\n      <td>0.180022</td>\n      <td>0.168382</td>\n      <td>0.949558</td>\n    </tr>\n    <tr>\n      <th>27</th>\n      <td>28</td>\n      <td>0.154175</td>\n      <td>0.142204</td>\n      <td>0.965517</td>\n      <td>0.193540</td>\n      <td>0.234432</td>\n      <td>0.918367</td>\n      <td>NaN</td>\n      <td>NaN</td>\n      <td>NaN</td>\n      <td>...</td>\n      <td>NaN</td>\n      <td>NaN</td>\n      <td>NaN</td>\n      <td>NaN</td>\n      <td>0.063624</td>\n      <td>0.088175</td>\n      <td>0.986111</td>\n      <td>0.191188</td>\n      <td>0.160196</td>\n      <td>0.950599</td>\n    </tr>\n    <tr>\n      <th>28</th>\n      <td>29</td>\n      <td>0.155195</td>\n      <td>0.141686</td>\n      <td>0.961686</td>\n      <td>NaN</td>\n      <td>NaN</td>\n      <td>NaN</td>\n      <td>0.177160</td>\n      <td>0.182388</td>\n      <td>0.948819</td>\n      <td>...</td>\n      <td>NaN</td>\n      <td>0.138099</td>\n      <td>0.211985</td>\n      <td>0.937500</td>\n      <td>NaN</td>\n      <td>NaN</td>\n      <td>NaN</td>\n      <td>0.201048</td>\n      <td>0.168991</td>\n      <td>0.950934</td>\n    </tr>\n    <tr>\n      <th>29</th>\n      <td>30</td>\n      <td>NaN</td>\n      <td>NaN</td>\n      <td>NaN</td>\n      <td>0.187566</td>\n      <td>0.220832</td>\n      <td>0.921769</td>\n      <td>0.162857</td>\n      <td>0.181736</td>\n      <td>0.944882</td>\n      <td>...</td>\n      <td>0.978992</td>\n      <td>NaN</td>\n      <td>NaN</td>\n      <td>NaN</td>\n      <td>0.058426</td>\n      <td>0.094370</td>\n      <td>0.979167</td>\n      <td>0.190903</td>\n      <td>0.176327</td>\n      <td>0.952826</td>\n    </tr>\n  </tbody>\n</table>\n<p>30 rows × 154 columns</p>\n</div>"
     },
     "execution_count": 7,
     "metadata": {},
     "output_type": "execute_result"
    }
   ],
   "source": [
    "df"
   ],
   "metadata": {
    "collapsed": false,
    "ExecuteTime": {
     "end_time": "2023-11-26T23:48:34.162033603Z",
     "start_time": "2023-11-26T23:48:34.138647149Z"
    }
   },
   "id": "263dcba9cfc52ed6"
  },
  {
   "cell_type": "code",
   "execution_count": 8,
   "outputs": [
    {
     "data": {
      "image/png": "[encoded data removed]"
     },
     "metadata": {},
     "output_type": "display_data"
    }
   ],
   "source": [
    "px.line(df, x=\"round\", y=[\"average_test_loss\", \"average_train_loss\"])"
   ],
   "metadata": {
    "collapsed": false,
    "ExecuteTime": {
     "end_time": "2023-11-26T23:48:34.763758704Z",
     "start_time": "2023-11-26T23:48:34.161876935Z"
    }
   },
   "id": "161864ab3fd5585c"
  },
  {
   "cell_type": "code",
   "execution_count": 9,
   "outputs": [
    {
     "data": {
      "image/png": "[encoded data removed]"
     },
     "metadata": {},
     "output_type": "display_data"
    }
   ],
   "source": [
    "px.line(df, x=\"round\", y=\"average_test_accuracy\")"
   ],
   "metadata": {
    "collapsed": false,
    "ExecuteTime": {
     "end_time": "2023-11-26T23:48:34.826636435Z",
     "start_time": "2023-11-26T23:48:34.766971742Z"
    }
   },
   "id": "54324105421076c9"
  },
  {
   "cell_type": "code",
   "execution_count": 9,
   "outputs": [],
   "source": [],
   "metadata": {
    "collapsed": false,
    "ExecuteTime": {
     "end_time": "2023-11-26T23:48:34.870926904Z",
     "start_time": "2023-11-26T23:48:34.830095590Z"
    }
   },
   "id": "af316da1a534c296"
  }
 ],
 "metadata": {
  "kernelspec": {
   "display_name": "Python 3",
   "language": "python",
   "name": "python3"
  },
  "language_info": {
   "codemirror_mode": {
    "name": "ipython",
    "version": 2
   },
   "file_extension": ".py",
   "mimetype": "text/x-python",
   "name": "python",
   "nbconvert_exporter": "python",
   "pygments_lexer": "ipython2",
   "version": "2.7.6"
  }
 },
 "nbformat": 4,
 "nbformat_minor": 5
}
