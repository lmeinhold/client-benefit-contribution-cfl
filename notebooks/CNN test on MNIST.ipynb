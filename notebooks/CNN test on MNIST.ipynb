{
 "cells": [
  {
   "cell_type": "code",
   "execution_count": 1,
   "id": "initial_id",
   "metadata": {
    "collapsed": true,
    "ExecuteTime": {
     "end_time": "2023-08-13T12:53:00.106315971Z",
     "start_time": "2023-08-13T12:52:58.802863080Z"
    }
   },
   "outputs": [],
   "source": [
    "import torch\n",
    "from torch.autograd import Variable\n",
    "from torch.nn import CrossEntropyLoss\n",
    "from torch.nn.functional import one_hot\n",
    "from torch.optim import Adam\n",
    "from torch.utils.data import DataLoader\n",
    "from torchvision import datasets\n",
    "from torchvision.transforms import ToTensor\n",
    "from tqdm.notebook import tqdm\n",
    "\n",
    "from src.federated_learning.torchutils import get_device\n",
    "from src.models.mnist import CNN, MLP"
   ]
  },
  {
   "cell_type": "code",
   "execution_count": 2,
   "outputs": [
    {
     "name": "stdout",
     "output_type": "stream",
     "text": [
      "Using device: cpu\n"
     ]
    }
   ],
   "source": [
    "device = get_device()\n",
    "print(\"Using device: \" + device)"
   ],
   "metadata": {
    "collapsed": false,
    "ExecuteTime": {
     "end_time": "2023-08-13T12:53:00.124017793Z",
     "start_time": "2023-08-13T12:53:00.109645239Z"
    }
   },
   "id": "e77f29a8b0525635"
  },
  {
   "cell_type": "code",
   "execution_count": 3,
   "outputs": [],
   "source": [
    "batch_size = 64\n",
    "lr = 0.01\n",
    "epochs = 50"
   ],
   "metadata": {
    "collapsed": false,
    "ExecuteTime": {
     "end_time": "2023-08-13T12:53:00.141758839Z",
     "start_time": "2023-08-13T12:53:00.114262968Z"
    }
   },
   "id": "fbd74206f85f8503"
  },
  {
   "cell_type": "code",
   "execution_count": 4,
   "outputs": [],
   "source": [
    "train_data = datasets.MNIST(\n",
    "    root='../../data',\n",
    "    train=True,\n",
    "    transform=ToTensor(),\n",
    "    target_transform=lambda y: one_hot(torch.tensor(y), 10).type(torch.FloatTensor),\n",
    "    download=True,\n",
    ")\n",
    "test_data = datasets.MNIST(\n",
    "    root='../../data',\n",
    "    train=False,\n",
    "    transform=ToTensor(),\n",
    "    target_transform=lambda y: one_hot(torch.tensor(y), 10).type(torch.FloatTensor),\n",
    "    download=True\n",
    ")"
   ],
   "metadata": {
    "collapsed": false,
    "ExecuteTime": {
     "end_time": "2023-08-13T12:53:00.172913297Z",
     "start_time": "2023-08-13T12:53:00.129786075Z"
    }
   },
   "id": "ac23c9eddaa9c3e2"
  },
  {
   "cell_type": "code",
   "execution_count": 5,
   "outputs": [],
   "source": [
    "train_loader = DataLoader(train_data, batch_size=batch_size, shuffle=True)\n",
    "test_loader = DataLoader(test_data, batch_size=batch_size, shuffle=True)"
   ],
   "metadata": {
    "collapsed": false,
    "ExecuteTime": {
     "end_time": "2023-08-13T12:53:00.212777966Z",
     "start_time": "2023-08-13T12:53:00.164508780Z"
    }
   },
   "id": "691defc705b5136e"
  },
  {
   "cell_type": "code",
   "execution_count": 6,
   "outputs": [],
   "source": [
    "model = CNN()"
   ],
   "metadata": {
    "collapsed": false,
    "ExecuteTime": {
     "end_time": "2023-08-13T12:53:00.213099891Z",
     "start_time": "2023-08-13T12:53:00.207121685Z"
    }
   },
   "id": "22ff809b7f462adf"
  },
  {
   "cell_type": "code",
   "execution_count": 7,
   "outputs": [],
   "source": [
    "loss_fn = CrossEntropyLoss()\n",
    "optimizer = Adam(model.parameters(), lr = lr)"
   ],
   "metadata": {
    "collapsed": false,
    "ExecuteTime": {
     "end_time": "2023-08-13T12:53:00.213238983Z",
     "start_time": "2023-08-13T12:53:00.207407702Z"
    }
   },
   "id": "92ef515ddaf92dd6"
  },
  {
   "cell_type": "code",
   "execution_count": 8,
   "outputs": [
    {
     "name": "stdout",
     "output_type": "stream",
     "text": [
      "Epoch 1 --------------------------------\n",
      "loss: 2.347141\n",
      "loss: 0.108550\n",
      "loss: 0.040600\n",
      "loss: 0.134699\n",
      "loss: 0.017822\n",
      "Test Error: \n",
      " Accuracy: 98.4%, Avg loss: 0.055145 \n",
      "\n",
      "Epoch 2 --------------------------------\n",
      "loss: 0.060396\n",
      "loss: 0.033013\n",
      "loss: 0.191553\n",
      "loss: 0.173049\n",
      "loss: 0.139961\n",
      "Test Error: \n",
      " Accuracy: 98.4%, Avg loss: 0.054648 \n",
      "\n",
      "Epoch 3 --------------------------------\n",
      "loss: 0.023944\n",
      "loss: 0.007080\n",
      "loss: 0.234555\n",
      "loss: 0.068044\n",
      "loss: 0.012941\n",
      "Test Error: \n",
      " Accuracy: 98.4%, Avg loss: 0.061092 \n",
      "\n",
      "Epoch 4 --------------------------------\n",
      "loss: 0.037082\n",
      "loss: 0.003994\n",
      "loss: 0.174354\n",
      "loss: 0.016295\n",
      "loss: 0.126619\n",
      "Test Error: \n",
      " Accuracy: 98.7%, Avg loss: 0.047146 \n",
      "\n",
      "Epoch 5 --------------------------------\n",
      "loss: 0.005158\n",
      "loss: 0.002767\n",
      "loss: 0.015967\n",
      "loss: 0.076378\n",
      "loss: 0.057800\n",
      "Test Error: \n",
      " Accuracy: 98.9%, Avg loss: 0.038626 \n",
      "\n",
      "Epoch 6 --------------------------------\n",
      "loss: 0.000414\n",
      "loss: 0.009920\n",
      "loss: 0.015950\n",
      "loss: 0.015575\n",
      "loss: 0.005259\n",
      "Test Error: \n",
      " Accuracy: 98.8%, Avg loss: 0.047162 \n",
      "\n",
      "Epoch 7 --------------------------------\n",
      "loss: 0.049479\n",
      "loss: 0.028202\n",
      "loss: 0.002044\n",
      "loss: 0.001056\n",
      "loss: 0.049106\n",
      "Test Error: \n",
      " Accuracy: 98.4%, Avg loss: 0.061485 \n",
      "\n",
      "Epoch 8 --------------------------------\n",
      "loss: 0.095963\n",
      "loss: 0.004116\n",
      "loss: 0.067805\n",
      "loss: 0.016592\n",
      "loss: 0.074881\n",
      "Test Error: \n",
      " Accuracy: 98.7%, Avg loss: 0.052533 \n",
      "\n",
      "Epoch 9 --------------------------------\n",
      "loss: 0.003821\n",
      "loss: 0.001148\n",
      "loss: 0.169334\n",
      "loss: 0.006296\n",
      "loss: 0.008323\n",
      "Test Error: \n",
      " Accuracy: 98.5%, Avg loss: 0.052931 \n",
      "\n",
      "Epoch 10 --------------------------------\n",
      "loss: 0.024038\n",
      "loss: 0.027071\n",
      "loss: 0.059215\n",
      "loss: 0.015764\n",
      "loss: 0.000356\n",
      "Test Error: \n",
      " Accuracy: 97.5%, Avg loss: 0.099483 \n",
      "\n",
      "Epoch 11 --------------------------------\n",
      "loss: 0.075146\n",
      "loss: 0.001263\n",
      "loss: 0.003623\n",
      "loss: 0.000717\n",
      "loss: 0.016836\n",
      "Test Error: \n",
      " Accuracy: 98.7%, Avg loss: 0.053749 \n",
      "\n",
      "Epoch 12 --------------------------------\n",
      "loss: 0.043072\n",
      "loss: 0.006065\n",
      "loss: 0.036570\n",
      "loss: 0.001813\n",
      "loss: 0.000702\n",
      "Test Error: \n",
      " Accuracy: 98.7%, Avg loss: 0.049885 \n",
      "\n",
      "Epoch 13 --------------------------------\n",
      "loss: 0.007893\n",
      "loss: 0.000630\n",
      "loss: 0.000124\n",
      "loss: 0.034483\n",
      "loss: 0.035140\n",
      "Test Error: \n",
      " Accuracy: 98.6%, Avg loss: 0.062225 \n",
      "\n",
      "Epoch 14 --------------------------------\n",
      "loss: 0.025340\n",
      "loss: 0.009213\n",
      "loss: 0.056609\n",
      "loss: 0.099107\n",
      "loss: 0.006377\n",
      "Test Error: \n",
      " Accuracy: 98.9%, Avg loss: 0.046793 \n",
      "\n",
      "Epoch 15 --------------------------------\n",
      "loss: 0.003568\n",
      "loss: 0.001886\n",
      "loss: 0.102202\n",
      "loss: 0.101043\n",
      "loss: 0.090205\n",
      "Test Error: \n",
      " Accuracy: 99.0%, Avg loss: 0.048617 \n",
      "\n",
      "Epoch 16 --------------------------------\n",
      "loss: 0.000176\n",
      "loss: 0.000600\n",
      "loss: 0.006185\n",
      "loss: 0.000207\n",
      "loss: 0.001776\n",
      "Test Error: \n",
      " Accuracy: 98.8%, Avg loss: 0.053099 \n",
      "\n",
      "Epoch 17 --------------------------------\n",
      "loss: 0.000714\n",
      "loss: 0.000669\n",
      "loss: 0.001707\n",
      "loss: 0.002178\n",
      "loss: 0.001322\n",
      "Test Error: \n",
      " Accuracy: 98.9%, Avg loss: 0.055633 \n",
      "\n",
      "Epoch 18 --------------------------------\n",
      "loss: 0.002297\n",
      "loss: 0.000350\n",
      "loss: 0.005864\n",
      "loss: 0.140993\n",
      "loss: 0.000097\n",
      "Test Error: \n",
      " Accuracy: 99.0%, Avg loss: 0.042904 \n",
      "\n",
      "Epoch 19 --------------------------------\n",
      "loss: 0.134757\n",
      "loss: 0.000251\n",
      "loss: 0.003092\n",
      "loss: 0.002626\n",
      "loss: 0.013320\n",
      "Test Error: \n",
      " Accuracy: 98.8%, Avg loss: 0.056118 \n",
      "\n",
      "Epoch 20 --------------------------------\n",
      "loss: 0.054596\n",
      "loss: 0.011711\n",
      "loss: 0.000844\n"
     ]
    },
    {
     "ename": "KeyboardInterrupt",
     "evalue": "",
     "output_type": "error",
     "traceback": [
      "\u001B[0;31m---------------------------------------------------------------------------\u001B[0m",
      "\u001B[0;31mKeyboardInterrupt\u001B[0m                         Traceback (most recent call last)",
      "Cell \u001B[0;32mIn[8], line 4\u001B[0m\n\u001B[1;32m      2\u001B[0m \u001B[38;5;28mprint\u001B[39m(\u001B[38;5;124mf\u001B[39m\u001B[38;5;124m\"\u001B[39m\u001B[38;5;124mEpoch \u001B[39m\u001B[38;5;132;01m{\u001B[39;00mt\u001B[38;5;241m+\u001B[39m\u001B[38;5;241m1\u001B[39m\u001B[38;5;132;01m}\u001B[39;00m\u001B[38;5;124m --------------------------------\u001B[39m\u001B[38;5;124m\"\u001B[39m)\n\u001B[1;32m      3\u001B[0m model\u001B[38;5;241m.\u001B[39mtrain()\n\u001B[0;32m----> 4\u001B[0m \u001B[38;5;28;01mfor\u001B[39;00m batch, (X, y) \u001B[38;5;129;01min\u001B[39;00m \u001B[38;5;28menumerate\u001B[39m(train_loader):\n\u001B[1;32m      5\u001B[0m     X, y \u001B[38;5;241m=\u001B[39m X\u001B[38;5;241m.\u001B[39mto(device), y\u001B[38;5;241m.\u001B[39mto(device)\n\u001B[1;32m      6\u001B[0m     b_X \u001B[38;5;241m=\u001B[39m X\n",
      "File \u001B[0;32m~/Work/masterhesis-clustered-fl/.venv/lib/python3.10/site-packages/torch/utils/data/dataloader.py:633\u001B[0m, in \u001B[0;36m_BaseDataLoaderIter.__next__\u001B[0;34m(self)\u001B[0m\n\u001B[1;32m    630\u001B[0m \u001B[38;5;28;01mif\u001B[39;00m \u001B[38;5;28mself\u001B[39m\u001B[38;5;241m.\u001B[39m_sampler_iter \u001B[38;5;129;01mis\u001B[39;00m \u001B[38;5;28;01mNone\u001B[39;00m:\n\u001B[1;32m    631\u001B[0m     \u001B[38;5;66;03m# TODO(https://github.com/pytorch/pytorch/issues/76750)\u001B[39;00m\n\u001B[1;32m    632\u001B[0m     \u001B[38;5;28mself\u001B[39m\u001B[38;5;241m.\u001B[39m_reset()  \u001B[38;5;66;03m# type: ignore[call-arg]\u001B[39;00m\n\u001B[0;32m--> 633\u001B[0m data \u001B[38;5;241m=\u001B[39m \u001B[38;5;28;43mself\u001B[39;49m\u001B[38;5;241;43m.\u001B[39;49m\u001B[43m_next_data\u001B[49m\u001B[43m(\u001B[49m\u001B[43m)\u001B[49m\n\u001B[1;32m    634\u001B[0m \u001B[38;5;28mself\u001B[39m\u001B[38;5;241m.\u001B[39m_num_yielded \u001B[38;5;241m+\u001B[39m\u001B[38;5;241m=\u001B[39m \u001B[38;5;241m1\u001B[39m\n\u001B[1;32m    635\u001B[0m \u001B[38;5;28;01mif\u001B[39;00m \u001B[38;5;28mself\u001B[39m\u001B[38;5;241m.\u001B[39m_dataset_kind \u001B[38;5;241m==\u001B[39m _DatasetKind\u001B[38;5;241m.\u001B[39mIterable \u001B[38;5;129;01mand\u001B[39;00m \\\n\u001B[1;32m    636\u001B[0m         \u001B[38;5;28mself\u001B[39m\u001B[38;5;241m.\u001B[39m_IterableDataset_len_called \u001B[38;5;129;01mis\u001B[39;00m \u001B[38;5;129;01mnot\u001B[39;00m \u001B[38;5;28;01mNone\u001B[39;00m \u001B[38;5;129;01mand\u001B[39;00m \\\n\u001B[1;32m    637\u001B[0m         \u001B[38;5;28mself\u001B[39m\u001B[38;5;241m.\u001B[39m_num_yielded \u001B[38;5;241m>\u001B[39m \u001B[38;5;28mself\u001B[39m\u001B[38;5;241m.\u001B[39m_IterableDataset_len_called:\n",
      "File \u001B[0;32m~/Work/masterhesis-clustered-fl/.venv/lib/python3.10/site-packages/torch/utils/data/dataloader.py:677\u001B[0m, in \u001B[0;36m_SingleProcessDataLoaderIter._next_data\u001B[0;34m(self)\u001B[0m\n\u001B[1;32m    675\u001B[0m \u001B[38;5;28;01mdef\u001B[39;00m \u001B[38;5;21m_next_data\u001B[39m(\u001B[38;5;28mself\u001B[39m):\n\u001B[1;32m    676\u001B[0m     index \u001B[38;5;241m=\u001B[39m \u001B[38;5;28mself\u001B[39m\u001B[38;5;241m.\u001B[39m_next_index()  \u001B[38;5;66;03m# may raise StopIteration\u001B[39;00m\n\u001B[0;32m--> 677\u001B[0m     data \u001B[38;5;241m=\u001B[39m \u001B[38;5;28;43mself\u001B[39;49m\u001B[38;5;241;43m.\u001B[39;49m\u001B[43m_dataset_fetcher\u001B[49m\u001B[38;5;241;43m.\u001B[39;49m\u001B[43mfetch\u001B[49m\u001B[43m(\u001B[49m\u001B[43mindex\u001B[49m\u001B[43m)\u001B[49m  \u001B[38;5;66;03m# may raise StopIteration\u001B[39;00m\n\u001B[1;32m    678\u001B[0m     \u001B[38;5;28;01mif\u001B[39;00m \u001B[38;5;28mself\u001B[39m\u001B[38;5;241m.\u001B[39m_pin_memory:\n\u001B[1;32m    679\u001B[0m         data \u001B[38;5;241m=\u001B[39m _utils\u001B[38;5;241m.\u001B[39mpin_memory\u001B[38;5;241m.\u001B[39mpin_memory(data, \u001B[38;5;28mself\u001B[39m\u001B[38;5;241m.\u001B[39m_pin_memory_device)\n",
      "File \u001B[0;32m~/Work/masterhesis-clustered-fl/.venv/lib/python3.10/site-packages/torch/utils/data/_utils/fetch.py:51\u001B[0m, in \u001B[0;36m_MapDatasetFetcher.fetch\u001B[0;34m(self, possibly_batched_index)\u001B[0m\n\u001B[1;32m     49\u001B[0m         data \u001B[38;5;241m=\u001B[39m \u001B[38;5;28mself\u001B[39m\u001B[38;5;241m.\u001B[39mdataset\u001B[38;5;241m.\u001B[39m__getitems__(possibly_batched_index)\n\u001B[1;32m     50\u001B[0m     \u001B[38;5;28;01melse\u001B[39;00m:\n\u001B[0;32m---> 51\u001B[0m         data \u001B[38;5;241m=\u001B[39m [\u001B[38;5;28mself\u001B[39m\u001B[38;5;241m.\u001B[39mdataset[idx] \u001B[38;5;28;01mfor\u001B[39;00m idx \u001B[38;5;129;01min\u001B[39;00m possibly_batched_index]\n\u001B[1;32m     52\u001B[0m \u001B[38;5;28;01melse\u001B[39;00m:\n\u001B[1;32m     53\u001B[0m     data \u001B[38;5;241m=\u001B[39m \u001B[38;5;28mself\u001B[39m\u001B[38;5;241m.\u001B[39mdataset[possibly_batched_index]\n",
      "File \u001B[0;32m~/Work/masterhesis-clustered-fl/.venv/lib/python3.10/site-packages/torch/utils/data/_utils/fetch.py:51\u001B[0m, in \u001B[0;36m<listcomp>\u001B[0;34m(.0)\u001B[0m\n\u001B[1;32m     49\u001B[0m         data \u001B[38;5;241m=\u001B[39m \u001B[38;5;28mself\u001B[39m\u001B[38;5;241m.\u001B[39mdataset\u001B[38;5;241m.\u001B[39m__getitems__(possibly_batched_index)\n\u001B[1;32m     50\u001B[0m     \u001B[38;5;28;01melse\u001B[39;00m:\n\u001B[0;32m---> 51\u001B[0m         data \u001B[38;5;241m=\u001B[39m [\u001B[38;5;28;43mself\u001B[39;49m\u001B[38;5;241;43m.\u001B[39;49m\u001B[43mdataset\u001B[49m\u001B[43m[\u001B[49m\u001B[43midx\u001B[49m\u001B[43m]\u001B[49m \u001B[38;5;28;01mfor\u001B[39;00m idx \u001B[38;5;129;01min\u001B[39;00m possibly_batched_index]\n\u001B[1;32m     52\u001B[0m \u001B[38;5;28;01melse\u001B[39;00m:\n\u001B[1;32m     53\u001B[0m     data \u001B[38;5;241m=\u001B[39m \u001B[38;5;28mself\u001B[39m\u001B[38;5;241m.\u001B[39mdataset[possibly_batched_index]\n",
      "File \u001B[0;32m~/Work/masterhesis-clustered-fl/.venv/lib/python3.10/site-packages/torchvision/datasets/mnist.py:142\u001B[0m, in \u001B[0;36mMNIST.__getitem__\u001B[0;34m(self, index)\u001B[0m\n\u001B[1;32m    138\u001B[0m img, target \u001B[38;5;241m=\u001B[39m \u001B[38;5;28mself\u001B[39m\u001B[38;5;241m.\u001B[39mdata[index], \u001B[38;5;28mint\u001B[39m(\u001B[38;5;28mself\u001B[39m\u001B[38;5;241m.\u001B[39mtargets[index])\n\u001B[1;32m    140\u001B[0m \u001B[38;5;66;03m# doing this so that it is consistent with all other datasets\u001B[39;00m\n\u001B[1;32m    141\u001B[0m \u001B[38;5;66;03m# to return a PIL Image\u001B[39;00m\n\u001B[0;32m--> 142\u001B[0m img \u001B[38;5;241m=\u001B[39m Image\u001B[38;5;241m.\u001B[39mfromarray(\u001B[43mimg\u001B[49m\u001B[38;5;241;43m.\u001B[39;49m\u001B[43mnumpy\u001B[49m\u001B[43m(\u001B[49m\u001B[43m)\u001B[49m, mode\u001B[38;5;241m=\u001B[39m\u001B[38;5;124m\"\u001B[39m\u001B[38;5;124mL\u001B[39m\u001B[38;5;124m\"\u001B[39m)\n\u001B[1;32m    144\u001B[0m \u001B[38;5;28;01mif\u001B[39;00m \u001B[38;5;28mself\u001B[39m\u001B[38;5;241m.\u001B[39mtransform \u001B[38;5;129;01mis\u001B[39;00m \u001B[38;5;129;01mnot\u001B[39;00m \u001B[38;5;28;01mNone\u001B[39;00m:\n\u001B[1;32m    145\u001B[0m     img \u001B[38;5;241m=\u001B[39m \u001B[38;5;28mself\u001B[39m\u001B[38;5;241m.\u001B[39mtransform(img)\n",
      "\u001B[0;31mKeyboardInterrupt\u001B[0m: "
     ]
    }
   ],
   "source": [
    "for t in range(epochs):\n",
    "    print(f\"Epoch {t+1} --------------------------------\")\n",
    "    model.train()\n",
    "    for batch, (X, y) in enumerate(train_loader):\n",
    "        X, y = X.to(device), y.to(device)\n",
    "        b_X = X\n",
    "        b_y = y\n",
    "        \n",
    "        pred = model(b_X)\n",
    "        loss = loss_fn(pred, b_y)\n",
    "        \n",
    "        loss.backward()\n",
    "        optimizer.step()\n",
    "        optimizer.zero_grad()\n",
    "        \n",
    "        if batch % 200 == 0:\n",
    "            loss, current = loss.item(), (batch + 1) * len(X)\n",
    "            print(f\"loss: {loss:>7f}\")\n",
    "            \n",
    "    model.eval()\n",
    "    test_loss, correct = 0, 0\n",
    "    with torch.no_grad():\n",
    "        for X, y in test_loader:\n",
    "            X, y = X.to(device), y.to(device)\n",
    "            pred = model(X)\n",
    "            test_loss += loss_fn(pred, y).item()\n",
    "            correct += (pred.argmax(1) == y.argmax(1)).type(torch.float).sum().item()\n",
    "        test_loss /= len(test_loader)\n",
    "        correct /= len(test_loader.dataset)\n",
    "        print(f\"Test Error: \\n Accuracy: {(100*correct):>0.1f}%, Avg loss: {test_loss:>8f} \\n\")"
   ],
   "metadata": {
    "collapsed": false,
    "ExecuteTime": {
     "end_time": "2023-08-13T12:56:52.749187379Z",
     "start_time": "2023-08-13T12:53:00.207519472Z"
    }
   },
   "id": "a14891672a0a4403"
  },
  {
   "cell_type": "code",
   "execution_count": null,
   "outputs": [],
   "source": [],
   "metadata": {
    "collapsed": false,
    "ExecuteTime": {
     "start_time": "2023-08-13T12:56:52.740878121Z"
    }
   },
   "id": "bd93b21f4dbca537"
  }
 ],
 "metadata": {
  "kernelspec": {
   "display_name": "Python 3",
   "language": "python",
   "name": "python3"
  },
  "language_info": {
   "codemirror_mode": {
    "name": "ipython",
    "version": 2
   },
   "file_extension": ".py",
   "mimetype": "text/x-python",
   "name": "python",
   "nbconvert_exporter": "python",
   "pygments_lexer": "ipython2",
   "version": "2.7.6"
  }
 },
 "nbformat": 4,
 "nbformat_minor": 5
}
