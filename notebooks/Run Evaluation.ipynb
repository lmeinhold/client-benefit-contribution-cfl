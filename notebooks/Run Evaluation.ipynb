{
 "cells": [
  {
   "cell_type": "code",
   "execution_count": 31,
   "id": "initial_id",
   "metadata": {
    "collapsed": true,
    "ExecuteTime": {
     "end_time": "2023-11-30T21:53:28.000734206Z",
     "start_time": "2023-11-30T21:53:27.995661364Z"
    }
   },
   "outputs": [],
   "source": [
    "import json\n",
    "import re\n",
    "\n",
    "import numpy as np\n",
    "import pandas as pd\n",
    "\n",
    "import plotly.express as px\n",
    "import plotly.graph_objects as go\n",
    "import plotly.io as pio\n",
    "pio.renderers.default = \"png\"\n",
    "pio.templates.default = \"plotly_white\"\n",
    "\n",
    "from pathlib import Path"
   ]
  },
  {
   "cell_type": "code",
   "execution_count": 24,
   "outputs": [],
   "source": [
    "BASEDIR = \"../output\"\n",
    "RUN_PREFIX = (\"20231130_215541\")"
   ],
   "metadata": {
    "collapsed": false,
    "ExecuteTime": {
     "end_time": "2023-11-30T21:51:55.910712944Z",
     "start_time": "2023-11-30T21:51:55.869908588Z"
    }
   },
   "id": "af7c2b205a943084"
  },
  {
   "cell_type": "code",
   "execution_count": 26,
   "outputs": [],
   "source": [],
   "metadata": {
    "collapsed": false,
    "ExecuteTime": {
     "end_time": "2023-11-30T21:52:06.049574189Z",
     "start_time": "2023-11-30T21:52:06.041139410Z"
    }
   },
   "id": "5defbec9f226b50e"
  },
  {
   "cell_type": "code",
   "execution_count": 37,
   "outputs": [],
   "source": [
    "def parse_filename(filename):\n",
    "    regex = re.compile(r\"[\\d_]+_mu([\\d.]+)_gamma([\\d.]*\\d+).*\")\n",
    "    matches = re.search(regex, filename)\n",
    "    return matches[1], matches[2]"
   ],
   "metadata": {
    "collapsed": false,
    "ExecuteTime": {
     "end_time": "2023-11-30T22:00:47.204274798Z",
     "start_time": "2023-11-30T22:00:47.198906558Z"
    }
   },
   "id": "5153a6126a2c114e"
  },
  {
   "cell_type": "code",
   "execution_count": 38,
   "outputs": [],
   "source": [
    "def read_runs(prefix, basedir):\n",
    "    files = list(map(str, Path(BASEDIR).glob(prefix + \"*\")))\n",
    "    runs = {}\n",
    "    for file in files:\n",
    "        mu, gamma = parse_filename(file)\n",
    "        df = pd.read_csv(file)\n",
    "        runs[(mu, gamma)] = df\n",
    "    return runs"
   ],
   "metadata": {
    "collapsed": false,
    "ExecuteTime": {
     "end_time": "2023-11-30T22:05:47.423869728Z",
     "start_time": "2023-11-30T22:05:47.419133072Z"
    }
   },
   "id": "c66b225d2dfd249"
  },
  {
   "cell_type": "code",
   "execution_count": 39,
   "outputs": [],
   "source": [
    "runs = read_runs(RUN_PREFIX, BASEDIR)"
   ],
   "metadata": {
    "collapsed": false,
    "ExecuteTime": {
     "end_time": "2023-11-30T22:06:02.124264873Z",
     "start_time": "2023-11-30T22:06:02.046891397Z"
    }
   },
   "id": "9b2085a565f31b5a"
  },
  {
   "cell_type": "code",
   "execution_count": 40,
   "outputs": [
    {
     "data": {
      "text/plain": "{('0.1',\n  '0.1'):      round  client  stage  variable      value\n 0        1       5  train      loss   1.314827\n 1        1       5   test      loss   1.420679\n 2        1       5   test  accuracy   1.000000\n 3        1       7  train      loss   3.326578\n 4        1       7   test      loss   2.095891\n ..     ...     ...    ...       ...        ...\n 280     10      84   test      loss  12.891831\n 281     10      84   test  accuracy   0.112936\n 282     10      96  train      loss   4.278706\n 283     10      96   test      loss  13.248907\n 284     10      96   test  accuracy   0.217391\n \n [285 rows x 5 columns],\n ('1',\n  '0.1'):      round  client  stage  variable     value\n 0        1       0  train      loss  0.512437\n 1        1       0   test      loss  0.394369\n 2        1       0   test  accuracy  0.940639\n 3        1      15  train      loss  1.190833\n 4        1      15   test      loss  1.480805\n ..     ...     ...    ...       ...       ...\n 277     10      83   test      loss  2.191624\n 278     10      83   test  accuracy  0.776471\n 279     10      91  train      loss  1.066360\n 280     10      91   test      loss  3.474364\n 281     10      91   test  accuracy  0.506667\n \n [282 rows x 5 columns],\n ('10',\n  '0.1'):      round  client  stage  variable     value\n 0        1      16  train      loss  1.143446\n 1        1      16   test      loss  1.014201\n 2        1      16   test  accuracy  0.697143\n 3        1      31  train      loss  1.604022\n 4        1      31   test      loss  1.125252\n ..     ...     ...    ...       ...       ...\n 271     10      83   test      loss  6.587451\n 272     10      83   test  accuracy  0.117647\n 273     10      91  train      loss  1.641273\n 274     10      91   test      loss  1.915865\n 275     10      91   test  accuracy  0.556667\n \n [276 rows x 5 columns],\n ('0.1',\n  '0.5'):       round  client  stage  variable      value\n 0         1       1  train      loss   1.633130\n 1         1       1   test      loss   1.350341\n 2         1       1   test  accuracy   0.497561\n 3         1       2  train      loss   1.007310\n 4         1       2   test      loss   0.752464\n ...     ...     ...    ...       ...        ...\n 1174     10      93   test      loss   2.493595\n 1175     10      93   test  accuracy   0.972072\n 1176     10      97  train      loss   5.493956\n 1177     10      97   test      loss  58.645370\n 1178     10      97   test  accuracy   0.125000\n \n [1179 rows x 5 columns],\n ('1',\n  '0.5'):       round  client  stage  variable      value\n 0         1       1  train      loss   1.595056\n 1         1       1   test      loss   1.577531\n 2         1       1   test  accuracy   0.395122\n 3         1       2  train      loss   0.945962\n 4         1       2   test      loss   1.012661\n ...     ...     ...    ...       ...        ...\n 1192     10      92   test      loss  52.764019\n 1193     10      92   test  accuracy   0.041667\n 1194     10      97  train      loss   3.945216\n 1195     10      97   test      loss  27.771687\n 1196     10      97   test  accuracy   0.625000\n \n [1197 rows x 5 columns],\n ('10',\n  '0.5'):       round  client  stage  variable      value\n 0         1       0  train      loss   0.577641\n 1         1       0   test      loss   0.687969\n 2         1       0   test  accuracy   0.940639\n 3         1       1  train      loss   2.555798\n 4         1       1   test      loss   2.012356\n ...     ...     ...    ...       ...        ...\n 1156     10      95   test      loss   9.620613\n 1157     10      95   test  accuracy   0.220339\n 1158     10      99  train      loss   2.043270\n 1159     10      99   test      loss  15.063872\n 1160     10      99   test  accuracy   0.454545\n \n [1161 rows x 5 columns],\n ('0.1',\n  '1'):       round  client  stage  variable      value\n 0         1       1  train      loss   1.613690\n 1         1       1   test      loss   1.557851\n 2         1       1   test  accuracy   0.409756\n 3         1       2  train      loss   0.984974\n 4         1       2   test      loss   0.775830\n ...     ...     ...    ...       ...        ...\n 1894     10      98   test      loss   0.467740\n 1895     10      98   test  accuracy   0.992928\n 1896     10      99  train      loss  13.048596\n 1897     10      99   test      loss  45.782162\n 1898     10      99   test  accuracy   0.090909\n \n [1899 rows x 5 columns],\n ('1',\n  '1'):       round  client  stage  variable      value\n 0         1       0  train      loss   0.429428\n 1         1       0   test      loss   0.390221\n 2         1       0   test  accuracy   0.940639\n 3         1       1  train      loss   2.513758\n 4         1       1   test      loss   1.925180\n ...     ...     ...    ...       ...        ...\n 1912     10      98   test      loss  16.740392\n 1913     10      98   test  accuracy   0.988685\n 1914     10      99  train      loss   9.966249\n 1915     10      99   test      loss  39.492397\n 1916     10      99   test  accuracy   0.090909\n \n [1917 rows x 5 columns],\n ('10',\n  '1'):       round  client  stage  variable       value\n 0         1       1  train      loss    1.681321\n 1         1       1   test      loss    1.551150\n 2         1       1   test  accuracy    0.448780\n 3         1       3  train      loss    0.068929\n 4         1       3   test      loss    0.030127\n ...     ...     ...    ...       ...         ...\n 1900     10      96   test      loss   65.355667\n 1901     10      96   test  accuracy    0.130435\n 1902     10      97  train      loss    2.771752\n 1903     10      97   test      loss  134.335709\n 1904     10      97   test  accuracy    0.125000\n \n [1905 rows x 5 columns],\n ('0.1',\n  '5'):       round  client  stage  variable      value\n 0         1       0  train      loss   0.582693\n 1         1       0   test      loss   0.358260\n 2         1       0   test  accuracy   0.940639\n 3         1       1  train      loss   2.404158\n 4         1       1   test      loss   1.897708\n ...     ...     ...    ...       ...        ...\n 2977     10      98   test      loss   4.526798\n 2978     10      98   test  accuracy   0.777935\n 2979     10      99  train      loss   9.062364\n 2980     10      99   test      loss  47.723877\n 2981     10      99   test  accuracy   0.090909\n \n [2982 rows x 5 columns],\n ('1',\n  '5'):       round  client  stage  variable      value\n 0         1       0  train      loss   0.595505\n 1         1       0   test      loss   0.257575\n 2         1       0   test  accuracy   0.940639\n 3         1       1  train      loss   2.142222\n 4         1       1   test      loss   1.760779\n ...     ...     ...    ...       ...        ...\n 2986     10      98   test      loss   2.701085\n 2987     10      98   test  accuracy   0.886846\n 2988     10      99  train      loss   8.569801\n 2989     10      99   test      loss  60.278214\n 2990     10      99   test  accuracy   0.090909\n \n [2991 rows x 5 columns],\n ('10',\n  '5'):       round  client  stage  variable      value\n 0         1       0  train      loss   0.520577\n 1         1       0   test      loss   0.328720\n 2         1       0   test  accuracy   0.940639\n 3         1       1  train      loss   2.423890\n 4         1       1   test      loss   1.880084\n ...     ...     ...    ...       ...        ...\n 2974     10      98   test      loss  27.334318\n 2975     10      98   test  accuracy   0.206506\n 2976     10      99  train      loss  11.275461\n 2977     10      99   test      loss  94.115601\n 2978     10      99   test  accuracy   0.181818\n \n [2979 rows x 5 columns],\n ('0.1',\n  '10'):       round  client  stage  variable      value\n 0         1       0  train      loss   0.492935\n 1         1       0   test      loss   0.466794\n 2         1       0   test  accuracy   0.940639\n 3         1       1  train      loss   2.475303\n 4         1       1   test      loss   1.916683\n ...     ...     ...    ...       ...        ...\n 2995     10      98   test      loss   3.960603\n 2996     10      98   test  accuracy   0.633663\n 2997     10      99  train      loss  11.086136\n 2998     10      99   test      loss  55.091831\n 2999     10      99   test  accuracy   0.272727\n \n [3000 rows x 5 columns],\n ('1',\n  '10'):       round  client  stage  variable      value\n 0         1       0  train      loss   0.495058\n 1         1       0   test      loss   0.309925\n 2         1       0   test  accuracy   0.940639\n 3         1       1  train      loss   2.418179\n 4         1       1   test      loss   1.885857\n ...     ...     ...    ...       ...        ...\n 2995     10      98   test      loss   4.282547\n 2996     10      98   test  accuracy   0.834512\n 2997     10      99  train      loss   8.889189\n 2998     10      99   test      loss  75.089890\n 2999     10      99   test  accuracy   0.090909\n \n [3000 rows x 5 columns],\n ('10',\n  '10'):       round  client  stage  variable      value\n 0         1       0  train      loss   0.467457\n 1         1       0   test      loss   0.332020\n 2         1       0   test  accuracy   0.940639\n 3         1       1  train      loss   2.451960\n 4         1       1   test      loss   1.881083\n ...     ...     ...    ...       ...        ...\n 2995     10      98   test      loss   0.878851\n 2996     10      98   test  accuracy   0.942008\n 2997     10      99  train      loss   8.334985\n 2998     10      99   test      loss  81.413139\n 2999     10      99   test  accuracy   0.090909\n \n [3000 rows x 5 columns]}"
     },
     "execution_count": 40,
     "metadata": {},
     "output_type": "execute_result"
    }
   ],
   "source": [
    "runs"
   ],
   "metadata": {
    "collapsed": false,
    "ExecuteTime": {
     "end_time": "2023-11-30T22:06:04.021817786Z",
     "start_time": "2023-11-30T22:06:03.987365010Z"
    }
   },
   "id": "33c6eef3c7aa288f"
  },
  {
   "cell_type": "code",
   "execution_count": null,
   "outputs": [],
   "source": [],
   "metadata": {
    "collapsed": false
   },
   "id": "92a0c43d169b6bae"
  }
 ],
 "metadata": {
  "kernelspec": {
   "display_name": "Python 3",
   "language": "python",
   "name": "python3"
  },
  "language_info": {
   "codemirror_mode": {
    "name": "ipython",
    "version": 2
   },
   "file_extension": ".py",
   "mimetype": "text/x-python",
   "name": "python",
   "nbconvert_exporter": "python",
   "pygments_lexer": "ipython2",
   "version": "2.7.6"
  }
 },
 "nbformat": 4,
 "nbformat_minor": 5
}
